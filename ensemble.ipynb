{
  "nbformat": 4,
  "nbformat_minor": 0,
  "metadata": {
    "colab": {
      "name": "ensemble.ipynb",
      "provenance": [],
      "collapsed_sections": []
    },
    "kernelspec": {
      "display_name": "Python 3",
      "language": "python",
      "name": "python3"
    },
    "language_info": {
      "codemirror_mode": {
        "name": "ipython",
        "version": 3
      },
      "file_extension": ".py",
      "mimetype": "text/x-python",
      "name": "python",
      "nbconvert_exporter": "python",
      "pygments_lexer": "ipython3",
      "version": "3.7.6"
    }
  },
  "cells": [
    {
      "cell_type": "code",
      "metadata": {
        "colab_type": "code",
        "id": "YTQJuI5RWCT6",
        "outputId": "24f01653-2ac6-415e-ed0f-6f9a7464714f",
        "colab": {
          "base_uri": "https://localhost:8080/",
          "height": 54
        }
      },
      "source": [
        "import pandas as pd\n",
        "import numpy as np\n",
        "\n",
        "from google.colab import drive\n",
        "drive.mount('/content/drive')"
      ],
      "execution_count": 1,
      "outputs": [
        {
          "output_type": "stream",
          "text": [
            "Drive already mounted at /content/drive; to attempt to forcibly remount, call drive.mount(\"/content/drive\", force_remount=True).\n"
          ],
          "name": "stdout"
        }
      ]
    },
    {
      "cell_type": "code",
      "metadata": {
        "colab_type": "code",
        "id": "-D6-dKt9y9Jy",
        "outputId": "dc28ff30-3645-410d-fe85-cc263c3bcca3",
        "colab": {
          "base_uri": "https://localhost:8080/",
          "height": 71
        }
      },
      "source": [
        "# use shorter filepaths for the data and models\n",
        "MEDIA_PATH = '/content/drive/My Drive/media'\n",
        "MODELS_PATH = '/content/drive/My Drive/virufy/models/'\n",
        "media_path = '/content/media'\n",
        "models_path = '/content/models'\n",
        "\n",
        "!rm -rf \"$media_folder\" \"$models_path\"\n",
        "!ln -sf \"$MEDIA_PATH\" \"$media_path\"\n",
        "!ln -sf \"$MODELS_PATH\" \"$models_path\""
      ],
      "execution_count": 2,
      "outputs": [
        {
          "output_type": "stream",
          "text": [
            "ln: failed to create symbolic link '/content/media/media': Operation not supported\n",
            "ln: failed to create symbolic link '/content/models/models': Operation not supported\n"
          ],
          "name": "stdout"
        }
      ]
    },
    {
      "cell_type": "code",
      "metadata": {
        "colab_type": "code",
        "id": "eUwQXW7vWCUK",
        "colab": {}
      },
      "source": [
        "! wget --quiet https://raw.githubusercontent.com/virufy/covid/master/text/text_data.csv\n",
        "! wget --quiet https://raw.githubusercontent.com/virufy/covid/master/text/text.py"
      ],
      "execution_count": 0,
      "outputs": []
    },
    {
      "cell_type": "code",
      "metadata": {
        "id": "_yC7rDwdUdlO",
        "colab_type": "code",
        "colab": {
          "base_uri": "https://localhost:8080/",
          "height": 134
        },
        "outputId": "7ab800ef-78ea-40de-8add-9f4e4425313c"
      },
      "source": [
        "data = {\"seq_id\": \"NaN\",\n",
        "        \"patient_id\": \"NaN\",\n",
        "        \"date\":\"NaN\",\n",
        "        \"corona_test\":\"positive\",\n",
        "        \"age\":53 ,\n",
        "        \"gender\": \"male\",\n",
        "        \"medical_history\":\"None,\",\n",
        "        \"smoker\": \"no\",\n",
        "        \"patient_reported_symptoms\":\"Fever, chills, or sweating,Shortness of breath,New or worsening cough,Sore throat,Loss of taste,Loss of smell,\" ,\n",
        "        \"cough_filename\": \"NaN\",\n",
        "        \"breathing_filename\":\"NaN\",\n",
        "        \"finger_filename\":\"NaN\",\n",
        "        \"patient_smartphone\":\"NaN\"}\n",
        "\n",
        "# df = pd.DataFrame.from_records(data,index=[0])\n",
        "df1 = pd.DataFrame(data,index=[0])\n",
        "df1 = df1.replace('NaN',np.NaN)\n",
        "\n",
        "# data, columns = ['seq_id', 'patient_id','date','corona_test','age','gender','medical_history','smoker','patient_reported_symptoms','cough_filename','breathing_filename','finger_filename','patient_smartphone']\n",
        "\n",
        "df1"
      ],
      "execution_count": 4,
      "outputs": [
        {
          "output_type": "execute_result",
          "data": {
            "text/html": [
              "<div>\n",
              "<style scoped>\n",
              "    .dataframe tbody tr th:only-of-type {\n",
              "        vertical-align: middle;\n",
              "    }\n",
              "\n",
              "    .dataframe tbody tr th {\n",
              "        vertical-align: top;\n",
              "    }\n",
              "\n",
              "    .dataframe thead th {\n",
              "        text-align: right;\n",
              "    }\n",
              "</style>\n",
              "<table border=\"1\" class=\"dataframe\">\n",
              "  <thead>\n",
              "    <tr style=\"text-align: right;\">\n",
              "      <th></th>\n",
              "      <th>seq_id</th>\n",
              "      <th>patient_id</th>\n",
              "      <th>date</th>\n",
              "      <th>corona_test</th>\n",
              "      <th>age</th>\n",
              "      <th>gender</th>\n",
              "      <th>medical_history</th>\n",
              "      <th>smoker</th>\n",
              "      <th>patient_reported_symptoms</th>\n",
              "      <th>cough_filename</th>\n",
              "      <th>breathing_filename</th>\n",
              "      <th>finger_filename</th>\n",
              "      <th>patient_smartphone</th>\n",
              "    </tr>\n",
              "  </thead>\n",
              "  <tbody>\n",
              "    <tr>\n",
              "      <th>0</th>\n",
              "      <td>NaN</td>\n",
              "      <td>NaN</td>\n",
              "      <td>NaN</td>\n",
              "      <td>positive</td>\n",
              "      <td>53</td>\n",
              "      <td>male</td>\n",
              "      <td>None,</td>\n",
              "      <td>no</td>\n",
              "      <td>Fever, chills, or sweating,Shortness of breath...</td>\n",
              "      <td>NaN</td>\n",
              "      <td>NaN</td>\n",
              "      <td>NaN</td>\n",
              "      <td>NaN</td>\n",
              "    </tr>\n",
              "  </tbody>\n",
              "</table>\n",
              "</div>"
            ],
            "text/plain": [
              "   seq_id  patient_id  ...  finger_filename patient_smartphone\n",
              "0     NaN         NaN  ...              NaN                NaN\n",
              "\n",
              "[1 rows x 13 columns]"
            ]
          },
          "metadata": {
            "tags": []
          },
          "execution_count": 4
        }
      ]
    },
    {
      "cell_type": "code",
      "metadata": {
        "id": "LJIZ6wKjUdlT",
        "colab_type": "code",
        "colab": {
          "base_uri": "https://localhost:8080/",
          "height": 123
        },
        "outputId": "f50e114c-1644-406d-dab4-d63abc54efbf"
      },
      "source": [
        "import text, cough\n",
        "\n",
        "cough_pos_fp = \"/content/media/cough/positive/pos-0414-010-cough-m-23.wav\"\n",
        "cough_neg_fp = \"/content/media/cough/negative/neg-0413-000-cough-m-32.wav\"\n",
        "cough_pred = cough.predict(cough_pos_fp, \"/content/models/0506-cough.sav\")\n",
        "print(\"The probability of patient being positive from cough is: %.2f\" %cough_pred, \"%\")\n",
        "\n",
        "#text_pred = text.predict(df1, \"textual_model83.sav\")\n",
        "#print(\"The probability of patient being positive is: %.2f\" %text_pred, \"%\")"
      ],
      "execution_count": 8,
      "outputs": [
        {
          "output_type": "stream",
          "text": [
            "/usr/local/lib/python3.6/dist-packages/sklearn/base.py:318: UserWarning: Trying to unpickle estimator DecisionTreeClassifier from version 0.22.1 when using version 0.22.2.post1. This might lead to breaking code or invalid results. Use at your own risk.\n",
            "  UserWarning)\n",
            "/usr/local/lib/python3.6/dist-packages/sklearn/base.py:318: UserWarning: Trying to unpickle estimator RandomForestClassifier from version 0.22.1 when using version 0.22.2.post1. This might lead to breaking code or invalid results. Use at your own risk.\n",
            "  UserWarning)\n"
          ],
          "name": "stderr"
        },
        {
          "output_type": "stream",
          "text": [
            "The probability of patient being positive from cough is: 0.46 %\n"
          ],
          "name": "stdout"
        }
      ]
    },
    {
      "cell_type": "code",
      "metadata": {
        "id": "1NzatQnfbukU",
        "colab_type": "code",
        "colab": {}
      },
      "source": [
        ""
      ],
      "execution_count": 0,
      "outputs": []
    }
  ]
}