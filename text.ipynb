{
 "cells": [
  {
   "cell_type": "markdown",
   "metadata": {
    "colab_type": "text",
    "id": "pqMjdKNqWCTn"
   },
   "source": [
    "# ML Textual model Feature Engineering"
   ]
  },
  {
   "cell_type": "code",
   "execution_count": 1,
   "metadata": {
    "colab": {},
    "colab_type": "code",
    "id": "b8MS3rkAWCTo"
   },
   "outputs": [],
   "source": [
    "from sklearn.ensemble import RandomForestClassifier\n",
    "import numpy as np\n",
    "import sklearn\n",
    "from sklearn.svm import SVC\n",
    "from sklearn.model_selection import train_test_split\n",
    "from sklearn.model_selection import GridSearchCV\n",
    "from sklearn.metrics import classification_report\n",
    "from sklearn import preprocessing\n",
    "import json\n",
    "from sklearn.preprocessing import LabelEncoder\n",
    "from sklearn.preprocessing import OneHotEncoder\n",
    "from sklearn.metrics import accuracy_score\n",
    "from sklearn import metrics\n",
    "from sklearn.metrics import roc_auc_score\n",
    "from sklearn.metrics import confusion_matrix\n",
    "import itertools\n",
    "from sklearn.preprocessing import LabelEncoder"
   ]
  },
  {
   "cell_type": "markdown",
   "metadata": {
    "colab_type": "text",
    "id": "jrhenf0JWCTu"
   },
   "source": [
    "# Importing libraries"
   ]
  },
  {
   "cell_type": "code",
   "execution_count": 2,
   "metadata": {
    "colab": {
     "base_uri": "https://localhost:8080/",
     "height": 51
    },
    "colab_type": "code",
    "id": "zY8UscarWCTu",
    "outputId": "0280019c-99ad-4ebf-84dd-57e0910bca07"
   },
   "outputs": [],
   "source": [
    "import pandas as pd\n",
    "import numpy as np\n",
    "import matplotlib.pyplot as plt\n",
    "import seaborn as sns\n",
    "from sklearn.feature_extraction.text import CountVectorizer"
   ]
  },
  {
   "cell_type": "markdown",
   "metadata": {
    "colab_type": "text",
    "id": "8qcPyRS9WCT0"
   },
   "source": [
    "### Reading CSV file using pandas dataframe"
   ]
  },
  {
   "cell_type": "code",
   "execution_count": 3,
   "metadata": {
    "colab": {
     "base_uri": "https://localhost:8080/",
     "height": 202
    },
    "colab_type": "code",
    "id": "YTQJuI5RWCT6",
    "outputId": "2ab90514-9d4b-491d-8dc7-4afc99512969"
   },
   "outputs": [
    {
     "data": {
      "text/html": [
       "<div>\n",
       "<style scoped>\n",
       "    .dataframe tbody tr th:only-of-type {\n",
       "        vertical-align: middle;\n",
       "    }\n",
       "\n",
       "    .dataframe tbody tr th {\n",
       "        vertical-align: top;\n",
       "    }\n",
       "\n",
       "    .dataframe thead th {\n",
       "        text-align: right;\n",
       "    }\n",
       "</style>\n",
       "<table border=\"1\" class=\"dataframe\">\n",
       "  <thead>\n",
       "    <tr style=\"text-align: right;\">\n",
       "      <th></th>\n",
       "      <th>corona_test</th>\n",
       "      <th>age</th>\n",
       "      <th>gender</th>\n",
       "      <th>medical_history</th>\n",
       "      <th>smoker</th>\n",
       "      <th>patient_reported_symptoms</th>\n",
       "    </tr>\n",
       "  </thead>\n",
       "  <tbody>\n",
       "    <tr>\n",
       "      <th>0</th>\n",
       "      <td>negative</td>\n",
       "      <td>32</td>\n",
       "      <td>male</td>\n",
       "      <td>NaN</td>\n",
       "      <td>NaN</td>\n",
       "      <td>Fever, chills, or sweating,</td>\n",
       "    </tr>\n",
       "    <tr>\n",
       "      <th>1</th>\n",
       "      <td>negative</td>\n",
       "      <td>31</td>\n",
       "      <td>male</td>\n",
       "      <td>NaN</td>\n",
       "      <td>NaN</td>\n",
       "      <td>Fever, chills, or sweating,Shortness of breath...</td>\n",
       "    </tr>\n",
       "    <tr>\n",
       "      <th>2</th>\n",
       "      <td>negative</td>\n",
       "      <td>21</td>\n",
       "      <td>female</td>\n",
       "      <td>NaN</td>\n",
       "      <td>NaN</td>\n",
       "      <td>New or worsening cough,</td>\n",
       "    </tr>\n",
       "    <tr>\n",
       "      <th>3</th>\n",
       "      <td>negative</td>\n",
       "      <td>33</td>\n",
       "      <td>male</td>\n",
       "      <td>Asthma or chronic lung disease,</td>\n",
       "      <td>NaN</td>\n",
       "      <td>Fever, chills, or sweating,Shortness of breath...</td>\n",
       "    </tr>\n",
       "    <tr>\n",
       "      <th>4</th>\n",
       "      <td>negative</td>\n",
       "      <td>27</td>\n",
       "      <td>male</td>\n",
       "      <td>Disease or conditions that make it harder to c...</td>\n",
       "      <td>NaN</td>\n",
       "      <td>New or worsening cough,</td>\n",
       "    </tr>\n",
       "    <tr>\n",
       "      <th>...</th>\n",
       "      <td>...</td>\n",
       "      <td>...</td>\n",
       "      <td>...</td>\n",
       "      <td>...</td>\n",
       "      <td>...</td>\n",
       "      <td>...</td>\n",
       "    </tr>\n",
       "    <tr>\n",
       "      <th>113</th>\n",
       "      <td>positive</td>\n",
       "      <td>50</td>\n",
       "      <td>male</td>\n",
       "      <td>None,</td>\n",
       "      <td>no</td>\n",
       "      <td>None,</td>\n",
       "    </tr>\n",
       "    <tr>\n",
       "      <th>114</th>\n",
       "      <td>negative</td>\n",
       "      <td>26</td>\n",
       "      <td>male</td>\n",
       "      <td>None,</td>\n",
       "      <td>no</td>\n",
       "      <td>Shortness of breath,New or worsening cough,Sor...</td>\n",
       "    </tr>\n",
       "    <tr>\n",
       "      <th>115</th>\n",
       "      <td>negative</td>\n",
       "      <td>50</td>\n",
       "      <td>male</td>\n",
       "      <td>None,</td>\n",
       "      <td>yes</td>\n",
       "      <td>New or worsening cough,Sore throat,</td>\n",
       "    </tr>\n",
       "    <tr>\n",
       "      <th>116</th>\n",
       "      <td>negative</td>\n",
       "      <td>44</td>\n",
       "      <td>male</td>\n",
       "      <td>None,</td>\n",
       "      <td>no</td>\n",
       "      <td>Shortness of breath,New or worsening cough,Sor...</td>\n",
       "    </tr>\n",
       "    <tr>\n",
       "      <th>117</th>\n",
       "      <td>negative</td>\n",
       "      <td>28</td>\n",
       "      <td>male</td>\n",
       "      <td>None,</td>\n",
       "      <td>no</td>\n",
       "      <td>None,</td>\n",
       "    </tr>\n",
       "  </tbody>\n",
       "</table>\n",
       "<p>118 rows × 6 columns</p>\n",
       "</div>"
      ],
      "text/plain": [
       "    corona_test  age  gender  \\\n",
       "0      negative   32    male   \n",
       "1      negative   31    male   \n",
       "2      negative   21  female   \n",
       "3      negative   33    male   \n",
       "4      negative   27    male   \n",
       "..          ...  ...     ...   \n",
       "113    positive   50    male   \n",
       "114    negative   26    male   \n",
       "115    negative   50    male   \n",
       "116    negative   44    male   \n",
       "117    negative   28    male   \n",
       "\n",
       "                                       medical_history smoker  \\\n",
       "0                                                  NaN    NaN   \n",
       "1                                                  NaN    NaN   \n",
       "2                                                  NaN    NaN   \n",
       "3                      Asthma or chronic lung disease,    NaN   \n",
       "4    Disease or conditions that make it harder to c...    NaN   \n",
       "..                                                 ...    ...   \n",
       "113                                              None,     no   \n",
       "114                                              None,     no   \n",
       "115                                              None,    yes   \n",
       "116                                              None,     no   \n",
       "117                                              None,     no   \n",
       "\n",
       "                             patient_reported_symptoms  \n",
       "0                          Fever, chills, or sweating,  \n",
       "1    Fever, chills, or sweating,Shortness of breath...  \n",
       "2                              New or worsening cough,  \n",
       "3    Fever, chills, or sweating,Shortness of breath...  \n",
       "4                              New or worsening cough,  \n",
       "..                                                 ...  \n",
       "113                                              None,  \n",
       "114  Shortness of breath,New or worsening cough,Sor...  \n",
       "115                New or worsening cough,Sore throat,  \n",
       "116  Shortness of breath,New or worsening cough,Sor...  \n",
       "117                                              None,  \n",
       "\n",
       "[118 rows x 6 columns]"
      ]
     },
     "execution_count": 3,
     "metadata": {},
     "output_type": "execute_result"
    }
   ],
   "source": [
    "dataset = pd.read_csv(\"patient data all 119.csv\")\n",
    "df_clean = dataset.drop(columns=[\"seq_id\", \"patient_id\", \"date\" , \"cough_filename\", \"finger_filename\",\n",
    "                                \"patient_smartphone\", \"breathing_filename\"])\n",
    "# df_clean\n",
    "# df_clean = df_clean.head(1)\n",
    "df_clean"
   ]
  },
  {
   "cell_type": "markdown",
   "metadata": {
    "colab_type": "text",
    "id": "CPUFXYliWCUJ"
   },
   "source": [
    "### Counting number of nan values in each feature"
   ]
  },
  {
   "cell_type": "code",
   "execution_count": 4,
   "metadata": {
    "colab": {
     "base_uri": "https://localhost:8080/",
     "height": 34
    },
    "colab_type": "code",
    "id": "eUwQXW7vWCUK",
    "outputId": "a5f2c9fc-1c74-4219-8b77-af8cf4a169ae"
   },
   "outputs": [
    {
     "name": "stdout",
     "output_type": "stream",
     "text": [
      "3\n"
     ]
    }
   ],
   "source": [
    "ff = df_clean[\"medical_history\"].isna().sum()\n",
    "print(ff)\n",
    "\n",
    "# Filling nan values with None.\n",
    "df_clean[\"medical_history\"].fillna(\"None,\", inplace = True) \n",
    "df_clean[\"smoker\"].fillna(\"no\", inplace = True) \n",
    "df_clean[\"patient_reported_symptoms\"].fillna(\"None,\", inplace = True) "
   ]
  },
  {
   "cell_type": "code",
   "execution_count": 5,
   "metadata": {
    "colab": {
     "base_uri": "https://localhost:8080/",
     "height": 202
    },
    "colab_type": "code",
    "id": "v2vOrk3TWCUO",
    "outputId": "bc3c984d-4013-4eb5-d10c-fe76158d0b34"
   },
   "outputs": [
    {
     "data": {
      "text/html": [
       "<div>\n",
       "<style scoped>\n",
       "    .dataframe tbody tr th:only-of-type {\n",
       "        vertical-align: middle;\n",
       "    }\n",
       "\n",
       "    .dataframe tbody tr th {\n",
       "        vertical-align: top;\n",
       "    }\n",
       "\n",
       "    .dataframe thead th {\n",
       "        text-align: right;\n",
       "    }\n",
       "</style>\n",
       "<table border=\"1\" class=\"dataframe\">\n",
       "  <thead>\n",
       "    <tr style=\"text-align: right;\">\n",
       "      <th></th>\n",
       "      <th>corona_test</th>\n",
       "      <th>age</th>\n",
       "      <th>gender</th>\n",
       "      <th>medical_history</th>\n",
       "      <th>smoker</th>\n",
       "      <th>patient_reported_symptoms</th>\n",
       "    </tr>\n",
       "  </thead>\n",
       "  <tbody>\n",
       "    <tr>\n",
       "      <th>0</th>\n",
       "      <td>negative</td>\n",
       "      <td>32</td>\n",
       "      <td>male</td>\n",
       "      <td>None,</td>\n",
       "      <td>no</td>\n",
       "      <td>Fever, chills, or sweating,</td>\n",
       "    </tr>\n",
       "    <tr>\n",
       "      <th>1</th>\n",
       "      <td>negative</td>\n",
       "      <td>31</td>\n",
       "      <td>male</td>\n",
       "      <td>None,</td>\n",
       "      <td>no</td>\n",
       "      <td>Fever, chills, or sweating,Shortness of breath...</td>\n",
       "    </tr>\n",
       "    <tr>\n",
       "      <th>2</th>\n",
       "      <td>negative</td>\n",
       "      <td>21</td>\n",
       "      <td>female</td>\n",
       "      <td>None,</td>\n",
       "      <td>no</td>\n",
       "      <td>New or worsening cough,</td>\n",
       "    </tr>\n",
       "    <tr>\n",
       "      <th>3</th>\n",
       "      <td>negative</td>\n",
       "      <td>33</td>\n",
       "      <td>male</td>\n",
       "      <td>Asthma or chronic lung disease,</td>\n",
       "      <td>no</td>\n",
       "      <td>Fever, chills, or sweating,Shortness of breath...</td>\n",
       "    </tr>\n",
       "    <tr>\n",
       "      <th>4</th>\n",
       "      <td>negative</td>\n",
       "      <td>27</td>\n",
       "      <td>male</td>\n",
       "      <td>Disease or conditions that make it harder to c...</td>\n",
       "      <td>no</td>\n",
       "      <td>New or worsening cough,</td>\n",
       "    </tr>\n",
       "  </tbody>\n",
       "</table>\n",
       "</div>"
      ],
      "text/plain": [
       "  corona_test  age  gender                                    medical_history  \\\n",
       "0    negative   32    male                                              None,   \n",
       "1    negative   31    male                                              None,   \n",
       "2    negative   21  female                                              None,   \n",
       "3    negative   33    male                    Asthma or chronic lung disease,   \n",
       "4    negative   27    male  Disease or conditions that make it harder to c...   \n",
       "\n",
       "  smoker                          patient_reported_symptoms  \n",
       "0     no                        Fever, chills, or sweating,  \n",
       "1     no  Fever, chills, or sweating,Shortness of breath...  \n",
       "2     no                            New or worsening cough,  \n",
       "3     no  Fever, chills, or sweating,Shortness of breath...  \n",
       "4     no                            New or worsening cough,  "
      ]
     },
     "execution_count": 5,
     "metadata": {},
     "output_type": "execute_result"
    }
   ],
   "source": [
    "df_clean.head()"
   ]
  },
  {
   "cell_type": "code",
   "execution_count": 6,
   "metadata": {
    "colab": {
     "base_uri": "https://localhost:8080/",
     "height": 103
    },
    "colab_type": "code",
    "id": "MD8un8TWWCUR",
    "outputId": "7bf549fd-aaa4-4be0-e9cb-f45d2505a23c"
   },
   "outputs": [
    {
     "data": {
      "text/plain": [
       "count       118\n",
       "unique        9\n",
       "top       None,\n",
       "freq         84\n",
       "Name: medical_history, dtype: object"
      ]
     },
     "execution_count": 6,
     "metadata": {},
     "output_type": "execute_result"
    }
   ],
   "source": [
    "# In order to see how many unique values are there in my column\n",
    "df_clean[\"medical_history\"].describe()"
   ]
  },
  {
   "cell_type": "markdown",
   "metadata": {
    "colab_type": "text",
    "id": "3W4UKlhNWCUZ"
   },
   "source": [
    "### Histogram"
   ]
  },
  {
   "cell_type": "code",
   "execution_count": 7,
   "metadata": {
    "colab": {
     "base_uri": "https://localhost:8080/",
     "height": 1000
    },
    "colab_type": "code",
    "id": "sZRu-glOWCUb",
    "outputId": "df4d0cd9-22c0-4234-814d-10b0e148dfcd"
   },
   "outputs": [
    {
     "data": {
      "text/plain": [
       "<Figure size 432x288 with 0 Axes>"
      ]
     },
     "metadata": {},
     "output_type": "display_data"
    },
    {
     "data": {
      "image/png": "[encoded data removed]",
      "text/plain": [
       "<Figure size 1440x720 with 1 Axes>"
      ]
     },
     "metadata": {
      "needs_background": "light"
     },
     "output_type": "display_data"
    },
    {
     "data": {
      "image/png": "[encoded data removed]",
      "text/plain": [
       "<Figure size 1440x720 with 1 Axes>"
      ]
     },
     "metadata": {
      "needs_background": "light"
     },
     "output_type": "display_data"
    },
    {
     "data": {
      "image/png": "[encoded data removed]",
      "text/plain": [
       "<Figure size 1440x720 with 1 Axes>"
      ]
     },
     "metadata": {
      "needs_background": "light"
     },
     "output_type": "display_data"
    },
    {
     "data": {
      "image/png": "[encoded data removed]",
      "text/plain": [
       "<Figure size 1440x720 with 1 Axes>"
      ]
     },
     "metadata": {
      "needs_background": "light"
     },
     "output_type": "display_data"
    },
    {
     "data": {
      "image/png": "[encoded data removed]",
      "text/plain": [
       "<Figure size 1440x720 with 1 Axes>"
      ]
     },
     "metadata": {
      "needs_background": "light"
     },
     "output_type": "display_data"
    },
    {
     "data": {
      "image/png": "[encoded data removed]",
      "text/plain": [
       "<Figure size 1440x720 with 1 Axes>"
      ]
     },
     "metadata": {
      "needs_background": "light"
     },
     "output_type": "display_data"
    }
   ],
   "source": [
    "plt.suptitle(\"Histogram of Numerical Columns\", fontsize = 20)\n",
    "for i in range(1, df_clean.shape[1]+ 1): \n",
    "    plt.figure(figsize=(20,10))\n",
    "    plt.subplot(3, 3, i)\n",
    "    f = plt.gca()\n",
    "    f.set_title(df_clean.columns.values[i - 1])\n",
    "    vals = np.size(df_clean.iloc[:, i - 1].unique())\n",
    "    plt.hist(df_clean.iloc[:, i - 1], bins = vals, color = \"#3F5D7D\")"
   ]
  },
  {
   "cell_type": "markdown",
   "metadata": {
    "colab_type": "text",
    "id": "WQE9nZPYWCUl"
   },
   "source": [
    "# Correlation"
   ]
  },
  {
   "cell_type": "code",
   "execution_count": 8,
   "metadata": {
    "colab": {
     "base_uri": "https://localhost:8080/",
     "height": 280
    },
    "colab_type": "code",
    "id": "newyNpnFWCUl",
    "outputId": "c86e1c6a-9e50-44ee-d852-361a0f2c69a6"
   },
   "outputs": [],
   "source": [
    "# TODO: Not working properly\n",
    "\n",
    "# df_clean.corrwith(df_clean.corona_test).plot.bar(figsize = (20, 10),\n",
    "#                                                 title= \"Correlation With Responsive Variable\", \n",
    "#                                                 fontsize = 15, rot = 45,\n",
    "#                                                 grid = True)\n",
    "# corr = df_clean.corr()\n",
    "# ax = sns.heatmap(\n",
    "#     corr, \n",
    "#     vmin=-1, vmax=1, center=0,\n",
    "#     cmap=sns.diverging_palette(20, 220, n=200),\n",
    "#     square=True\n",
    "# )\n",
    "# ax.set_xticklabels(\n",
    "#     ax.get_xticklabels(),\n",
    "#     rotation=45,\n",
    "#     horizontalalignment='right'\n",
    "# );"
   ]
  },
  {
   "cell_type": "code",
   "execution_count": 9,
   "metadata": {
    "colab": {
     "base_uri": "https://localhost:8080/",
     "height": 138
    },
    "colab_type": "code",
    "id": "KUW0W_6TWCUq",
    "outputId": "4e81ebff-0781-41f9-ffa9-dfdd7136c567"
   },
   "outputs": [
    {
     "data": {
      "text/plain": [
       "corona_test                  object\n",
       "age                           int64\n",
       "gender                       object\n",
       "medical_history              object\n",
       "smoker                       object\n",
       "patient_reported_symptoms    object\n",
       "dtype: object"
      ]
     },
     "execution_count": 9,
     "metadata": {},
     "output_type": "execute_result"
    }
   ],
   "source": [
    "# For checking the data type of all the features\n",
    "df_clean.dtypes"
   ]
  },
  {
   "cell_type": "code",
   "execution_count": 10,
   "metadata": {
    "colab": {
     "base_uri": "https://localhost:8080/",
     "height": 173
    },
    "colab_type": "code",
    "id": "J_N89X2KWCUt",
    "outputId": "ec59e7b8-d60a-44fe-d4c3-6cb4fa4ca48b"
   },
   "outputs": [
    {
     "data": {
      "text/plain": [
       "array(['None,', 'Asthma or chronic lung disease,',\n",
       "       'Disease or conditions that make it harder to cough,',\n",
       "       'Diabetes with complications,',\n",
       "       'Asthma or chronic lung disease,Disease or conditions that make it harder to cough,',\n",
       "       'Asthma or chronic lung disease,Diabetes with complications,',\n",
       "       'Pregnancy,',\n",
       "       'Diabetes with complications,Congestive heart failure,',\n",
       "       'Congestive heart failure,'], dtype=object)"
      ]
     },
     "execution_count": 10,
     "metadata": {},
     "output_type": "execute_result"
    }
   ],
   "source": [
    "# For checking how many unique rows in medical history.\n",
    "df_clean[\"medical_history\"].unique()"
   ]
  },
  {
   "cell_type": "markdown",
   "metadata": {
    "colab_type": "text",
    "id": "UDyR7VgkWCU1"
   },
   "source": [
    "### reading csv containing important medical history diseases"
   ]
  },
  {
   "cell_type": "code",
   "execution_count": 11,
   "metadata": {
    "colab": {
     "base_uri": "https://localhost:8080/",
     "height": 86
    },
    "colab_type": "code",
    "id": "VsfFVP2nWCU2",
    "outputId": "737e5cfc-5ad6-40fb-9b4e-4dd0aac7bdcc"
   },
   "outputs": [
    {
     "data": {
      "text/plain": [
       "['None,',\n",
       " 'Asthma or chronic lung disease,',\n",
       " 'Disease or conditions that make it harder to cough,',\n",
       " 'Diabetes with complications,',\n",
       " 'Pregnancy,',\n",
       " 'Congestive heart failure,',\n",
       " 'Extreme obesity']"
      ]
     },
     "execution_count": 11,
     "metadata": {},
     "output_type": "execute_result"
    }
   ],
   "source": [
    "top_medical_history = ['None,', 'Asthma or chronic lung disease,',\n",
    "       'Disease or conditions that make it harder to cough,',\n",
    "       'Diabetes with complications,', 'Pregnancy,',\n",
    "       'Congestive heart failure,', 'Extreme obesity']\n",
    "top_medical_history"
   ]
  },
  {
   "cell_type": "markdown",
   "metadata": {
    "colab_type": "text",
    "id": "6XFHTHBRWCU6"
   },
   "source": [
    "### doing feature engineering on medical history"
   ]
  },
  {
   "cell_type": "code",
   "execution_count": 12,
   "metadata": {
    "colab": {
     "base_uri": "https://localhost:8080/",
     "height": 450
    },
    "colab_type": "code",
    "id": "kPr-7_nSWCU7",
    "outputId": "ee9fb033-c436-4235-a491-b39cf6bfb743"
   },
   "outputs": [
    {
     "data": {
      "text/html": [
       "<div>\n",
       "<style scoped>\n",
       "    .dataframe tbody tr th:only-of-type {\n",
       "        vertical-align: middle;\n",
       "    }\n",
       "\n",
       "    .dataframe tbody tr th {\n",
       "        vertical-align: top;\n",
       "    }\n",
       "\n",
       "    .dataframe thead th {\n",
       "        text-align: right;\n",
       "    }\n",
       "</style>\n",
       "<table border=\"1\" class=\"dataframe\">\n",
       "  <thead>\n",
       "    <tr style=\"text-align: right;\">\n",
       "      <th></th>\n",
       "      <th>corona_test</th>\n",
       "      <th>age</th>\n",
       "      <th>gender</th>\n",
       "      <th>smoker</th>\n",
       "      <th>None,</th>\n",
       "      <th>Asthma or chronic lung disease,</th>\n",
       "      <th>Disease or conditions that make it harder to cough,</th>\n",
       "      <th>Diabetes with complications,</th>\n",
       "      <th>Pregnancy,</th>\n",
       "      <th>Congestive heart failure,</th>\n",
       "      <th>Extreme obesity</th>\n",
       "      <th>total_diseases</th>\n",
       "    </tr>\n",
       "  </thead>\n",
       "  <tbody>\n",
       "    <tr>\n",
       "      <th>0</th>\n",
       "      <td>negative</td>\n",
       "      <td>32</td>\n",
       "      <td>male</td>\n",
       "      <td>no</td>\n",
       "      <td>1</td>\n",
       "      <td>0</td>\n",
       "      <td>0</td>\n",
       "      <td>0</td>\n",
       "      <td>0</td>\n",
       "      <td>0</td>\n",
       "      <td>0</td>\n",
       "      <td>1</td>\n",
       "    </tr>\n",
       "    <tr>\n",
       "      <th>1</th>\n",
       "      <td>negative</td>\n",
       "      <td>31</td>\n",
       "      <td>male</td>\n",
       "      <td>no</td>\n",
       "      <td>1</td>\n",
       "      <td>0</td>\n",
       "      <td>0</td>\n",
       "      <td>0</td>\n",
       "      <td>0</td>\n",
       "      <td>0</td>\n",
       "      <td>0</td>\n",
       "      <td>1</td>\n",
       "    </tr>\n",
       "    <tr>\n",
       "      <th>2</th>\n",
       "      <td>negative</td>\n",
       "      <td>21</td>\n",
       "      <td>female</td>\n",
       "      <td>no</td>\n",
       "      <td>1</td>\n",
       "      <td>0</td>\n",
       "      <td>0</td>\n",
       "      <td>0</td>\n",
       "      <td>0</td>\n",
       "      <td>0</td>\n",
       "      <td>0</td>\n",
       "      <td>1</td>\n",
       "    </tr>\n",
       "    <tr>\n",
       "      <th>3</th>\n",
       "      <td>negative</td>\n",
       "      <td>33</td>\n",
       "      <td>male</td>\n",
       "      <td>no</td>\n",
       "      <td>0</td>\n",
       "      <td>1</td>\n",
       "      <td>0</td>\n",
       "      <td>0</td>\n",
       "      <td>0</td>\n",
       "      <td>0</td>\n",
       "      <td>0</td>\n",
       "      <td>1</td>\n",
       "    </tr>\n",
       "    <tr>\n",
       "      <th>4</th>\n",
       "      <td>negative</td>\n",
       "      <td>27</td>\n",
       "      <td>male</td>\n",
       "      <td>no</td>\n",
       "      <td>0</td>\n",
       "      <td>0</td>\n",
       "      <td>1</td>\n",
       "      <td>0</td>\n",
       "      <td>0</td>\n",
       "      <td>0</td>\n",
       "      <td>0</td>\n",
       "      <td>1</td>\n",
       "    </tr>\n",
       "    <tr>\n",
       "      <th>...</th>\n",
       "      <td>...</td>\n",
       "      <td>...</td>\n",
       "      <td>...</td>\n",
       "      <td>...</td>\n",
       "      <td>...</td>\n",
       "      <td>...</td>\n",
       "      <td>...</td>\n",
       "      <td>...</td>\n",
       "      <td>...</td>\n",
       "      <td>...</td>\n",
       "      <td>...</td>\n",
       "      <td>...</td>\n",
       "    </tr>\n",
       "    <tr>\n",
       "      <th>113</th>\n",
       "      <td>positive</td>\n",
       "      <td>50</td>\n",
       "      <td>male</td>\n",
       "      <td>no</td>\n",
       "      <td>1</td>\n",
       "      <td>0</td>\n",
       "      <td>0</td>\n",
       "      <td>0</td>\n",
       "      <td>0</td>\n",
       "      <td>0</td>\n",
       "      <td>0</td>\n",
       "      <td>1</td>\n",
       "    </tr>\n",
       "    <tr>\n",
       "      <th>114</th>\n",
       "      <td>negative</td>\n",
       "      <td>26</td>\n",
       "      <td>male</td>\n",
       "      <td>no</td>\n",
       "      <td>1</td>\n",
       "      <td>0</td>\n",
       "      <td>0</td>\n",
       "      <td>0</td>\n",
       "      <td>0</td>\n",
       "      <td>0</td>\n",
       "      <td>0</td>\n",
       "      <td>1</td>\n",
       "    </tr>\n",
       "    <tr>\n",
       "      <th>115</th>\n",
       "      <td>negative</td>\n",
       "      <td>50</td>\n",
       "      <td>male</td>\n",
       "      <td>yes</td>\n",
       "      <td>1</td>\n",
       "      <td>0</td>\n",
       "      <td>0</td>\n",
       "      <td>0</td>\n",
       "      <td>0</td>\n",
       "      <td>0</td>\n",
       "      <td>0</td>\n",
       "      <td>1</td>\n",
       "    </tr>\n",
       "    <tr>\n",
       "      <th>116</th>\n",
       "      <td>negative</td>\n",
       "      <td>44</td>\n",
       "      <td>male</td>\n",
       "      <td>no</td>\n",
       "      <td>1</td>\n",
       "      <td>0</td>\n",
       "      <td>0</td>\n",
       "      <td>0</td>\n",
       "      <td>0</td>\n",
       "      <td>0</td>\n",
       "      <td>0</td>\n",
       "      <td>1</td>\n",
       "    </tr>\n",
       "    <tr>\n",
       "      <th>117</th>\n",
       "      <td>negative</td>\n",
       "      <td>28</td>\n",
       "      <td>male</td>\n",
       "      <td>no</td>\n",
       "      <td>1</td>\n",
       "      <td>0</td>\n",
       "      <td>0</td>\n",
       "      <td>0</td>\n",
       "      <td>0</td>\n",
       "      <td>0</td>\n",
       "      <td>0</td>\n",
       "      <td>1</td>\n",
       "    </tr>\n",
       "  </tbody>\n",
       "</table>\n",
       "<p>118 rows × 12 columns</p>\n",
       "</div>"
      ],
      "text/plain": [
       "    corona_test  age  gender smoker  None,  Asthma or chronic lung disease,  \\\n",
       "0      negative   32    male     no      1                                0   \n",
       "1      negative   31    male     no      1                                0   \n",
       "2      negative   21  female     no      1                                0   \n",
       "3      negative   33    male     no      0                                1   \n",
       "4      negative   27    male     no      0                                0   \n",
       "..          ...  ...     ...    ...    ...                              ...   \n",
       "113    positive   50    male     no      1                                0   \n",
       "114    negative   26    male     no      1                                0   \n",
       "115    negative   50    male    yes      1                                0   \n",
       "116    negative   44    male     no      1                                0   \n",
       "117    negative   28    male     no      1                                0   \n",
       "\n",
       "     Disease or conditions that make it harder to cough,  \\\n",
       "0                                                    0     \n",
       "1                                                    0     \n",
       "2                                                    0     \n",
       "3                                                    0     \n",
       "4                                                    1     \n",
       "..                                                 ...     \n",
       "113                                                  0     \n",
       "114                                                  0     \n",
       "115                                                  0     \n",
       "116                                                  0     \n",
       "117                                                  0     \n",
       "\n",
       "     Diabetes with complications,  Pregnancy,  Congestive heart failure,  \\\n",
       "0                               0           0                          0   \n",
       "1                               0           0                          0   \n",
       "2                               0           0                          0   \n",
       "3                               0           0                          0   \n",
       "4                               0           0                          0   \n",
       "..                            ...         ...                        ...   \n",
       "113                             0           0                          0   \n",
       "114                             0           0                          0   \n",
       "115                             0           0                          0   \n",
       "116                             0           0                          0   \n",
       "117                             0           0                          0   \n",
       "\n",
       "     Extreme obesity  total_diseases  \n",
       "0                  0               1  \n",
       "1                  0               1  \n",
       "2                  0               1  \n",
       "3                  0               1  \n",
       "4                  0               1  \n",
       "..               ...             ...  \n",
       "113                0               1  \n",
       "114                0               1  \n",
       "115                0               1  \n",
       "116                0               1  \n",
       "117                0               1  \n",
       "\n",
       "[118 rows x 12 columns]"
      ]
     },
     "execution_count": 12,
     "metadata": {},
     "output_type": "execute_result"
    }
   ],
   "source": [
    "# one hot encoding\n",
    "df2 = df_clean.copy()\n",
    "for mh in top_medical_history:\n",
    "    df2[mh] = df2.medical_history.str.contains(mh).astype(int)\n",
    "    df2[\"medical_history\"] = df2.medical_history.str.replace(mh+ \",\", \"\")\n",
    "\n",
    "df2[\"total_diseases\"] = df2.medical_history.str.count(\",\")\n",
    "df2 = df2.drop(columns = [\"medical_history\", \"patient_reported_symptoms\"])\n",
    "df2"
   ]
  },
  {
   "cell_type": "markdown",
   "metadata": {
    "colab_type": "text",
    "id": "R18PUXnMWCVC"
   },
   "source": [
    "# Doing feature engineering on reported Symptoms"
   ]
  },
  {
   "cell_type": "code",
   "execution_count": 13,
   "metadata": {
    "colab": {},
    "colab_type": "code",
    "id": "jRZGJAoTWCVD"
   },
   "outputs": [],
   "source": [
    "# For checking how many unique rows in patient_reported_symptoms.\n",
    "# df_clean[\"patient_reported_symptoms\"].unique()"
   ]
  },
  {
   "cell_type": "code",
   "execution_count": 14,
   "metadata": {
    "colab": {
     "base_uri": "https://localhost:8080/",
     "height": 69
    },
    "colab_type": "code",
    "id": "RBjvza5GWCVF",
    "outputId": "dd6b690b-d454-4e46-865e-be27a3cf7a19"
   },
   "outputs": [
    {
     "data": {
      "text/plain": [
       "['Fever,',\n",
       " 'chills,',\n",
       " 'or sweating,',\n",
       " 'Shortness of breath',\n",
       " 'Loss of taste,',\n",
       " 'Loss of smell,',\n",
       " 'New or worsening cough,',\n",
       " 'Sore throat,',\n",
       " 'Body aches,',\n",
       " 'None,']"
      ]
     },
     "execution_count": 14,
     "metadata": {},
     "output_type": "execute_result"
    }
   ],
   "source": [
    "# reading csv_file of patient recorded symptoms\n",
    "top_symptoms = ['Fever,', 'chills,', 'or sweating,', 'Shortness of breath',\n",
    "       'Loss of taste,', 'Loss of smell,', 'New or worsening cough,',\n",
    "       'Sore throat,', 'Body aches,', 'None,']\n",
    "top_symptoms"
   ]
  },
  {
   "cell_type": "markdown",
   "metadata": {
    "colab_type": "text",
    "id": "oBYJjH19WCVI"
   },
   "source": [
    "#### Breaking every symptom into a feature"
   ]
  },
  {
   "cell_type": "code",
   "execution_count": 15,
   "metadata": {
    "colab": {
     "base_uri": "https://localhost:8080/",
     "height": 415
    },
    "colab_type": "code",
    "id": "bm5mHv2iWCVJ",
    "outputId": "19ed93e3-3f13-4d28-b488-f5d2c04a9814"
   },
   "outputs": [
    {
     "data": {
      "text/html": [
       "<div>\n",
       "<style scoped>\n",
       "    .dataframe tbody tr th:only-of-type {\n",
       "        vertical-align: middle;\n",
       "    }\n",
       "\n",
       "    .dataframe tbody tr th {\n",
       "        vertical-align: top;\n",
       "    }\n",
       "\n",
       "    .dataframe thead th {\n",
       "        text-align: right;\n",
       "    }\n",
       "</style>\n",
       "<table border=\"1\" class=\"dataframe\">\n",
       "  <thead>\n",
       "    <tr style=\"text-align: right;\">\n",
       "      <th></th>\n",
       "      <th>Fever,</th>\n",
       "      <th>chills,</th>\n",
       "      <th>or sweating,</th>\n",
       "      <th>Shortness of breath</th>\n",
       "      <th>Loss of taste,</th>\n",
       "      <th>Loss of smell,</th>\n",
       "      <th>New or worsening cough,</th>\n",
       "      <th>Sore throat,</th>\n",
       "      <th>Body aches,</th>\n",
       "      <th>Nothing</th>\n",
       "      <th>total symptoms</th>\n",
       "    </tr>\n",
       "  </thead>\n",
       "  <tbody>\n",
       "    <tr>\n",
       "      <th>0</th>\n",
       "      <td>1</td>\n",
       "      <td>1</td>\n",
       "      <td>1</td>\n",
       "      <td>0</td>\n",
       "      <td>0</td>\n",
       "      <td>0</td>\n",
       "      <td>0</td>\n",
       "      <td>0</td>\n",
       "      <td>0</td>\n",
       "      <td>0</td>\n",
       "      <td>3</td>\n",
       "    </tr>\n",
       "    <tr>\n",
       "      <th>1</th>\n",
       "      <td>1</td>\n",
       "      <td>1</td>\n",
       "      <td>1</td>\n",
       "      <td>1</td>\n",
       "      <td>1</td>\n",
       "      <td>1</td>\n",
       "      <td>0</td>\n",
       "      <td>0</td>\n",
       "      <td>0</td>\n",
       "      <td>0</td>\n",
       "      <td>6</td>\n",
       "    </tr>\n",
       "    <tr>\n",
       "      <th>2</th>\n",
       "      <td>0</td>\n",
       "      <td>0</td>\n",
       "      <td>0</td>\n",
       "      <td>0</td>\n",
       "      <td>0</td>\n",
       "      <td>0</td>\n",
       "      <td>1</td>\n",
       "      <td>0</td>\n",
       "      <td>0</td>\n",
       "      <td>0</td>\n",
       "      <td>1</td>\n",
       "    </tr>\n",
       "    <tr>\n",
       "      <th>3</th>\n",
       "      <td>1</td>\n",
       "      <td>1</td>\n",
       "      <td>1</td>\n",
       "      <td>1</td>\n",
       "      <td>1</td>\n",
       "      <td>1</td>\n",
       "      <td>1</td>\n",
       "      <td>0</td>\n",
       "      <td>0</td>\n",
       "      <td>0</td>\n",
       "      <td>7</td>\n",
       "    </tr>\n",
       "    <tr>\n",
       "      <th>4</th>\n",
       "      <td>0</td>\n",
       "      <td>0</td>\n",
       "      <td>0</td>\n",
       "      <td>0</td>\n",
       "      <td>0</td>\n",
       "      <td>0</td>\n",
       "      <td>1</td>\n",
       "      <td>0</td>\n",
       "      <td>0</td>\n",
       "      <td>0</td>\n",
       "      <td>1</td>\n",
       "    </tr>\n",
       "    <tr>\n",
       "      <th>...</th>\n",
       "      <td>...</td>\n",
       "      <td>...</td>\n",
       "      <td>...</td>\n",
       "      <td>...</td>\n",
       "      <td>...</td>\n",
       "      <td>...</td>\n",
       "      <td>...</td>\n",
       "      <td>...</td>\n",
       "      <td>...</td>\n",
       "      <td>...</td>\n",
       "      <td>...</td>\n",
       "    </tr>\n",
       "    <tr>\n",
       "      <th>113</th>\n",
       "      <td>0</td>\n",
       "      <td>0</td>\n",
       "      <td>0</td>\n",
       "      <td>0</td>\n",
       "      <td>0</td>\n",
       "      <td>0</td>\n",
       "      <td>0</td>\n",
       "      <td>0</td>\n",
       "      <td>0</td>\n",
       "      <td>1</td>\n",
       "      <td>1</td>\n",
       "    </tr>\n",
       "    <tr>\n",
       "      <th>114</th>\n",
       "      <td>0</td>\n",
       "      <td>0</td>\n",
       "      <td>0</td>\n",
       "      <td>1</td>\n",
       "      <td>1</td>\n",
       "      <td>0</td>\n",
       "      <td>1</td>\n",
       "      <td>1</td>\n",
       "      <td>1</td>\n",
       "      <td>0</td>\n",
       "      <td>5</td>\n",
       "    </tr>\n",
       "    <tr>\n",
       "      <th>115</th>\n",
       "      <td>0</td>\n",
       "      <td>0</td>\n",
       "      <td>0</td>\n",
       "      <td>0</td>\n",
       "      <td>0</td>\n",
       "      <td>0</td>\n",
       "      <td>1</td>\n",
       "      <td>1</td>\n",
       "      <td>0</td>\n",
       "      <td>0</td>\n",
       "      <td>2</td>\n",
       "    </tr>\n",
       "    <tr>\n",
       "      <th>116</th>\n",
       "      <td>0</td>\n",
       "      <td>0</td>\n",
       "      <td>0</td>\n",
       "      <td>1</td>\n",
       "      <td>0</td>\n",
       "      <td>0</td>\n",
       "      <td>1</td>\n",
       "      <td>1</td>\n",
       "      <td>1</td>\n",
       "      <td>0</td>\n",
       "      <td>4</td>\n",
       "    </tr>\n",
       "    <tr>\n",
       "      <th>117</th>\n",
       "      <td>0</td>\n",
       "      <td>0</td>\n",
       "      <td>0</td>\n",
       "      <td>0</td>\n",
       "      <td>0</td>\n",
       "      <td>0</td>\n",
       "      <td>0</td>\n",
       "      <td>0</td>\n",
       "      <td>0</td>\n",
       "      <td>1</td>\n",
       "      <td>1</td>\n",
       "    </tr>\n",
       "  </tbody>\n",
       "</table>\n",
       "<p>118 rows × 11 columns</p>\n",
       "</div>"
      ],
      "text/plain": [
       "     Fever,  chills,  or sweating,  Shortness of breath  Loss of taste,  \\\n",
       "0         1        1             1                    0               0   \n",
       "1         1        1             1                    1               1   \n",
       "2         0        0             0                    0               0   \n",
       "3         1        1             1                    1               1   \n",
       "4         0        0             0                    0               0   \n",
       "..      ...      ...           ...                  ...             ...   \n",
       "113       0        0             0                    0               0   \n",
       "114       0        0             0                    1               1   \n",
       "115       0        0             0                    0               0   \n",
       "116       0        0             0                    1               0   \n",
       "117       0        0             0                    0               0   \n",
       "\n",
       "     Loss of smell,  New or worsening cough,  Sore throat,  Body aches,  \\\n",
       "0                 0                        0             0            0   \n",
       "1                 1                        0             0            0   \n",
       "2                 0                        1             0            0   \n",
       "3                 1                        1             0            0   \n",
       "4                 0                        1             0            0   \n",
       "..              ...                      ...           ...          ...   \n",
       "113               0                        0             0            0   \n",
       "114               0                        1             1            1   \n",
       "115               0                        1             1            0   \n",
       "116               0                        1             1            1   \n",
       "117               0                        0             0            0   \n",
       "\n",
       "     Nothing  total symptoms  \n",
       "0          0               3  \n",
       "1          0               6  \n",
       "2          0               1  \n",
       "3          0               7  \n",
       "4          0               1  \n",
       "..       ...             ...  \n",
       "113        1               1  \n",
       "114        0               5  \n",
       "115        0               2  \n",
       "116        0               4  \n",
       "117        1               1  \n",
       "\n",
       "[118 rows x 11 columns]"
      ]
     },
     "execution_count": 15,
     "metadata": {},
     "output_type": "execute_result"
    }
   ],
   "source": [
    "df3 = df_clean.copy()\n",
    "for ps in top_symptoms:\n",
    "    df3[ps] = df_clean.patient_reported_symptoms.str.contains(ps).astype(int)\n",
    "    df3[\"patient_reported_symptoms\"] = df_clean.patient_reported_symptoms.str.replace(ps+ \",\", \"\")\n",
    "\n",
    "df3[\"total symptoms\"] = df_clean.patient_reported_symptoms.str.count(\",\")\n",
    "df3 = df3.drop(columns = [\"patient_reported_symptoms\", \"medical_history\", \"corona_test\", \"age\", \"gender\", \"smoker\"])\n",
    "\n",
    "df3.rename(columns={'None,':'Nothing'}, \n",
    "                 inplace=True)\n",
    "df3"
   ]
  },
  {
   "cell_type": "markdown",
   "metadata": {
    "colab_type": "text",
    "id": "_xkswkczWCVO"
   },
   "source": [
    "##### Here we are merging the dataframes based on these features"
   ]
  },
  {
   "cell_type": "code",
   "execution_count": 16,
   "metadata": {
    "colab": {
     "base_uri": "https://localhost:8080/",
     "height": 504
    },
    "colab_type": "code",
    "id": "uJacLsbKWCVP",
    "outputId": "afd6a1ed-4147-46a4-a63d-4602e31ff1ec"
   },
   "outputs": [
    {
     "data": {
      "text/html": [
       "<div>\n",
       "<style scoped>\n",
       "    .dataframe tbody tr th:only-of-type {\n",
       "        vertical-align: middle;\n",
       "    }\n",
       "\n",
       "    .dataframe tbody tr th {\n",
       "        vertical-align: top;\n",
       "    }\n",
       "\n",
       "    .dataframe thead th {\n",
       "        text-align: right;\n",
       "    }\n",
       "</style>\n",
       "<table border=\"1\" class=\"dataframe\">\n",
       "  <thead>\n",
       "    <tr style=\"text-align: right;\">\n",
       "      <th></th>\n",
       "      <th>corona_test</th>\n",
       "      <th>age</th>\n",
       "      <th>gender</th>\n",
       "      <th>smoker</th>\n",
       "      <th>None,</th>\n",
       "      <th>Asthma or chronic lung disease,</th>\n",
       "      <th>Disease or conditions that make it harder to cough,</th>\n",
       "      <th>Diabetes with complications,</th>\n",
       "      <th>Pregnancy,</th>\n",
       "      <th>Congestive heart failure,</th>\n",
       "      <th>...</th>\n",
       "      <th>Fever,</th>\n",
       "      <th>chills,</th>\n",
       "      <th>or sweating,</th>\n",
       "      <th>Shortness of breath</th>\n",
       "      <th>Loss of taste,</th>\n",
       "      <th>Loss of smell,</th>\n",
       "      <th>New or worsening cough,</th>\n",
       "      <th>Sore throat,</th>\n",
       "      <th>Body aches,</th>\n",
       "      <th>Nothing</th>\n",
       "    </tr>\n",
       "  </thead>\n",
       "  <tbody>\n",
       "    <tr>\n",
       "      <th>0</th>\n",
       "      <td>negative</td>\n",
       "      <td>32</td>\n",
       "      <td>male</td>\n",
       "      <td>no</td>\n",
       "      <td>1</td>\n",
       "      <td>0</td>\n",
       "      <td>0</td>\n",
       "      <td>0</td>\n",
       "      <td>0</td>\n",
       "      <td>0</td>\n",
       "      <td>...</td>\n",
       "      <td>1</td>\n",
       "      <td>1</td>\n",
       "      <td>1</td>\n",
       "      <td>0</td>\n",
       "      <td>0</td>\n",
       "      <td>0</td>\n",
       "      <td>0</td>\n",
       "      <td>0</td>\n",
       "      <td>0</td>\n",
       "      <td>0</td>\n",
       "    </tr>\n",
       "    <tr>\n",
       "      <th>1</th>\n",
       "      <td>negative</td>\n",
       "      <td>31</td>\n",
       "      <td>male</td>\n",
       "      <td>no</td>\n",
       "      <td>1</td>\n",
       "      <td>0</td>\n",
       "      <td>0</td>\n",
       "      <td>0</td>\n",
       "      <td>0</td>\n",
       "      <td>0</td>\n",
       "      <td>...</td>\n",
       "      <td>1</td>\n",
       "      <td>1</td>\n",
       "      <td>1</td>\n",
       "      <td>1</td>\n",
       "      <td>1</td>\n",
       "      <td>1</td>\n",
       "      <td>0</td>\n",
       "      <td>0</td>\n",
       "      <td>0</td>\n",
       "      <td>0</td>\n",
       "    </tr>\n",
       "    <tr>\n",
       "      <th>2</th>\n",
       "      <td>negative</td>\n",
       "      <td>21</td>\n",
       "      <td>female</td>\n",
       "      <td>no</td>\n",
       "      <td>1</td>\n",
       "      <td>0</td>\n",
       "      <td>0</td>\n",
       "      <td>0</td>\n",
       "      <td>0</td>\n",
       "      <td>0</td>\n",
       "      <td>...</td>\n",
       "      <td>0</td>\n",
       "      <td>0</td>\n",
       "      <td>0</td>\n",
       "      <td>0</td>\n",
       "      <td>0</td>\n",
       "      <td>0</td>\n",
       "      <td>1</td>\n",
       "      <td>0</td>\n",
       "      <td>0</td>\n",
       "      <td>0</td>\n",
       "    </tr>\n",
       "    <tr>\n",
       "      <th>3</th>\n",
       "      <td>negative</td>\n",
       "      <td>33</td>\n",
       "      <td>male</td>\n",
       "      <td>no</td>\n",
       "      <td>0</td>\n",
       "      <td>1</td>\n",
       "      <td>0</td>\n",
       "      <td>0</td>\n",
       "      <td>0</td>\n",
       "      <td>0</td>\n",
       "      <td>...</td>\n",
       "      <td>1</td>\n",
       "      <td>1</td>\n",
       "      <td>1</td>\n",
       "      <td>1</td>\n",
       "      <td>1</td>\n",
       "      <td>1</td>\n",
       "      <td>1</td>\n",
       "      <td>0</td>\n",
       "      <td>0</td>\n",
       "      <td>0</td>\n",
       "    </tr>\n",
       "    <tr>\n",
       "      <th>4</th>\n",
       "      <td>negative</td>\n",
       "      <td>27</td>\n",
       "      <td>male</td>\n",
       "      <td>no</td>\n",
       "      <td>0</td>\n",
       "      <td>0</td>\n",
       "      <td>1</td>\n",
       "      <td>0</td>\n",
       "      <td>0</td>\n",
       "      <td>0</td>\n",
       "      <td>...</td>\n",
       "      <td>0</td>\n",
       "      <td>0</td>\n",
       "      <td>0</td>\n",
       "      <td>0</td>\n",
       "      <td>0</td>\n",
       "      <td>0</td>\n",
       "      <td>1</td>\n",
       "      <td>0</td>\n",
       "      <td>0</td>\n",
       "      <td>0</td>\n",
       "    </tr>\n",
       "    <tr>\n",
       "      <th>...</th>\n",
       "      <td>...</td>\n",
       "      <td>...</td>\n",
       "      <td>...</td>\n",
       "      <td>...</td>\n",
       "      <td>...</td>\n",
       "      <td>...</td>\n",
       "      <td>...</td>\n",
       "      <td>...</td>\n",
       "      <td>...</td>\n",
       "      <td>...</td>\n",
       "      <td>...</td>\n",
       "      <td>...</td>\n",
       "      <td>...</td>\n",
       "      <td>...</td>\n",
       "      <td>...</td>\n",
       "      <td>...</td>\n",
       "      <td>...</td>\n",
       "      <td>...</td>\n",
       "      <td>...</td>\n",
       "      <td>...</td>\n",
       "      <td>...</td>\n",
       "    </tr>\n",
       "    <tr>\n",
       "      <th>113</th>\n",
       "      <td>positive</td>\n",
       "      <td>50</td>\n",
       "      <td>male</td>\n",
       "      <td>no</td>\n",
       "      <td>1</td>\n",
       "      <td>0</td>\n",
       "      <td>0</td>\n",
       "      <td>0</td>\n",
       "      <td>0</td>\n",
       "      <td>0</td>\n",
       "      <td>...</td>\n",
       "      <td>0</td>\n",
       "      <td>0</td>\n",
       "      <td>0</td>\n",
       "      <td>0</td>\n",
       "      <td>0</td>\n",
       "      <td>0</td>\n",
       "      <td>0</td>\n",
       "      <td>0</td>\n",
       "      <td>0</td>\n",
       "      <td>1</td>\n",
       "    </tr>\n",
       "    <tr>\n",
       "      <th>114</th>\n",
       "      <td>negative</td>\n",
       "      <td>26</td>\n",
       "      <td>male</td>\n",
       "      <td>no</td>\n",
       "      <td>1</td>\n",
       "      <td>0</td>\n",
       "      <td>0</td>\n",
       "      <td>0</td>\n",
       "      <td>0</td>\n",
       "      <td>0</td>\n",
       "      <td>...</td>\n",
       "      <td>0</td>\n",
       "      <td>0</td>\n",
       "      <td>0</td>\n",
       "      <td>1</td>\n",
       "      <td>1</td>\n",
       "      <td>0</td>\n",
       "      <td>1</td>\n",
       "      <td>1</td>\n",
       "      <td>1</td>\n",
       "      <td>0</td>\n",
       "    </tr>\n",
       "    <tr>\n",
       "      <th>115</th>\n",
       "      <td>negative</td>\n",
       "      <td>50</td>\n",
       "      <td>male</td>\n",
       "      <td>yes</td>\n",
       "      <td>1</td>\n",
       "      <td>0</td>\n",
       "      <td>0</td>\n",
       "      <td>0</td>\n",
       "      <td>0</td>\n",
       "      <td>0</td>\n",
       "      <td>...</td>\n",
       "      <td>0</td>\n",
       "      <td>0</td>\n",
       "      <td>0</td>\n",
       "      <td>0</td>\n",
       "      <td>0</td>\n",
       "      <td>0</td>\n",
       "      <td>1</td>\n",
       "      <td>1</td>\n",
       "      <td>0</td>\n",
       "      <td>0</td>\n",
       "    </tr>\n",
       "    <tr>\n",
       "      <th>116</th>\n",
       "      <td>negative</td>\n",
       "      <td>44</td>\n",
       "      <td>male</td>\n",
       "      <td>no</td>\n",
       "      <td>1</td>\n",
       "      <td>0</td>\n",
       "      <td>0</td>\n",
       "      <td>0</td>\n",
       "      <td>0</td>\n",
       "      <td>0</td>\n",
       "      <td>...</td>\n",
       "      <td>0</td>\n",
       "      <td>0</td>\n",
       "      <td>0</td>\n",
       "      <td>1</td>\n",
       "      <td>0</td>\n",
       "      <td>0</td>\n",
       "      <td>1</td>\n",
       "      <td>1</td>\n",
       "      <td>1</td>\n",
       "      <td>0</td>\n",
       "    </tr>\n",
       "    <tr>\n",
       "      <th>117</th>\n",
       "      <td>negative</td>\n",
       "      <td>28</td>\n",
       "      <td>male</td>\n",
       "      <td>no</td>\n",
       "      <td>1</td>\n",
       "      <td>0</td>\n",
       "      <td>0</td>\n",
       "      <td>0</td>\n",
       "      <td>0</td>\n",
       "      <td>0</td>\n",
       "      <td>...</td>\n",
       "      <td>0</td>\n",
       "      <td>0</td>\n",
       "      <td>0</td>\n",
       "      <td>0</td>\n",
       "      <td>0</td>\n",
       "      <td>0</td>\n",
       "      <td>0</td>\n",
       "      <td>0</td>\n",
       "      <td>0</td>\n",
       "      <td>1</td>\n",
       "    </tr>\n",
       "  </tbody>\n",
       "</table>\n",
       "<p>118 rows × 21 columns</p>\n",
       "</div>"
      ],
      "text/plain": [
       "    corona_test  age  gender smoker  None,  Asthma or chronic lung disease,  \\\n",
       "0      negative   32    male     no      1                                0   \n",
       "1      negative   31    male     no      1                                0   \n",
       "2      negative   21  female     no      1                                0   \n",
       "3      negative   33    male     no      0                                1   \n",
       "4      negative   27    male     no      0                                0   \n",
       "..          ...  ...     ...    ...    ...                              ...   \n",
       "113    positive   50    male     no      1                                0   \n",
       "114    negative   26    male     no      1                                0   \n",
       "115    negative   50    male    yes      1                                0   \n",
       "116    negative   44    male     no      1                                0   \n",
       "117    negative   28    male     no      1                                0   \n",
       "\n",
       "     Disease or conditions that make it harder to cough,  \\\n",
       "0                                                    0     \n",
       "1                                                    0     \n",
       "2                                                    0     \n",
       "3                                                    0     \n",
       "4                                                    1     \n",
       "..                                                 ...     \n",
       "113                                                  0     \n",
       "114                                                  0     \n",
       "115                                                  0     \n",
       "116                                                  0     \n",
       "117                                                  0     \n",
       "\n",
       "     Diabetes with complications,  Pregnancy,  Congestive heart failure,  ...  \\\n",
       "0                               0           0                          0  ...   \n",
       "1                               0           0                          0  ...   \n",
       "2                               0           0                          0  ...   \n",
       "3                               0           0                          0  ...   \n",
       "4                               0           0                          0  ...   \n",
       "..                            ...         ...                        ...  ...   \n",
       "113                             0           0                          0  ...   \n",
       "114                             0           0                          0  ...   \n",
       "115                             0           0                          0  ...   \n",
       "116                             0           0                          0  ...   \n",
       "117                             0           0                          0  ...   \n",
       "\n",
       "     Fever,  chills,  or sweating,  Shortness of breath  Loss of taste,  \\\n",
       "0         1        1             1                    0               0   \n",
       "1         1        1             1                    1               1   \n",
       "2         0        0             0                    0               0   \n",
       "3         1        1             1                    1               1   \n",
       "4         0        0             0                    0               0   \n",
       "..      ...      ...           ...                  ...             ...   \n",
       "113       0        0             0                    0               0   \n",
       "114       0        0             0                    1               1   \n",
       "115       0        0             0                    0               0   \n",
       "116       0        0             0                    1               0   \n",
       "117       0        0             0                    0               0   \n",
       "\n",
       "     Loss of smell,  New or worsening cough,  Sore throat,  Body aches,  \\\n",
       "0                 0                        0             0            0   \n",
       "1                 1                        0             0            0   \n",
       "2                 0                        1             0            0   \n",
       "3                 1                        1             0            0   \n",
       "4                 0                        1             0            0   \n",
       "..              ...                      ...           ...          ...   \n",
       "113               0                        0             0            0   \n",
       "114               0                        1             1            1   \n",
       "115               0                        1             1            0   \n",
       "116               0                        1             1            1   \n",
       "117               0                        0             0            0   \n",
       "\n",
       "     Nothing  \n",
       "0          0  \n",
       "1          0  \n",
       "2          0  \n",
       "3          0  \n",
       "4          0  \n",
       "..       ...  \n",
       "113        1  \n",
       "114        0  \n",
       "115        0  \n",
       "116        0  \n",
       "117        1  \n",
       "\n",
       "[118 rows x 21 columns]"
      ]
     },
     "execution_count": 16,
     "metadata": {},
     "output_type": "execute_result"
    }
   ],
   "source": [
    "df4 = pd.concat([df2, df3], axis=1, ignore_index=False)\n",
    "# here you can drop total symptoms and total diseases column as well, in order to make your algo more robust\n",
    "df4 = df4.drop(columns = [\"total_diseases\", \"total symptoms\"])\n",
    "df4"
   ]
  },
  {
   "cell_type": "code",
   "execution_count": 17,
   "metadata": {
    "colab": {
     "base_uri": "https://localhost:8080/",
     "height": 383
    },
    "colab_type": "code",
    "id": "ki6VFxkxWCVe",
    "outputId": "18e213c0-f99a-4273-cc8a-0c7cc7da55cb"
   },
   "outputs": [
    {
     "data": {
      "text/html": [
       "<div>\n",
       "<style scoped>\n",
       "    .dataframe tbody tr th:only-of-type {\n",
       "        vertical-align: middle;\n",
       "    }\n",
       "\n",
       "    .dataframe tbody tr th {\n",
       "        vertical-align: top;\n",
       "    }\n",
       "\n",
       "    .dataframe thead th {\n",
       "        text-align: right;\n",
       "    }\n",
       "</style>\n",
       "<table border=\"1\" class=\"dataframe\">\n",
       "  <thead>\n",
       "    <tr style=\"text-align: right;\">\n",
       "      <th></th>\n",
       "      <th>age</th>\n",
       "      <th>None,</th>\n",
       "      <th>Asthma or chronic lung disease,</th>\n",
       "      <th>Disease or conditions that make it harder to cough,</th>\n",
       "      <th>Diabetes with complications,</th>\n",
       "      <th>Pregnancy,</th>\n",
       "      <th>Congestive heart failure,</th>\n",
       "      <th>Extreme obesity</th>\n",
       "      <th>Fever,</th>\n",
       "      <th>chills,</th>\n",
       "      <th>or sweating,</th>\n",
       "      <th>Shortness of breath</th>\n",
       "      <th>Loss of taste,</th>\n",
       "      <th>Loss of smell,</th>\n",
       "      <th>New or worsening cough,</th>\n",
       "      <th>Sore throat,</th>\n",
       "      <th>Body aches,</th>\n",
       "      <th>Nothing</th>\n",
       "    </tr>\n",
       "  </thead>\n",
       "  <tbody>\n",
       "    <tr>\n",
       "      <th>count</th>\n",
       "      <td>118.000000</td>\n",
       "      <td>118.000000</td>\n",
       "      <td>118.000000</td>\n",
       "      <td>118.000000</td>\n",
       "      <td>118.000000</td>\n",
       "      <td>118.000000</td>\n",
       "      <td>118.000000</td>\n",
       "      <td>118.0</td>\n",
       "      <td>118.000000</td>\n",
       "      <td>118.000000</td>\n",
       "      <td>118.000000</td>\n",
       "      <td>118.000000</td>\n",
       "      <td>118.000000</td>\n",
       "      <td>118.000000</td>\n",
       "      <td>118.000000</td>\n",
       "      <td>118.000000</td>\n",
       "      <td>118.000000</td>\n",
       "      <td>118.000000</td>\n",
       "    </tr>\n",
       "    <tr>\n",
       "      <th>mean</th>\n",
       "      <td>37.677966</td>\n",
       "      <td>0.711864</td>\n",
       "      <td>0.084746</td>\n",
       "      <td>0.067797</td>\n",
       "      <td>0.110169</td>\n",
       "      <td>0.016949</td>\n",
       "      <td>0.042373</td>\n",
       "      <td>0.0</td>\n",
       "      <td>0.245763</td>\n",
       "      <td>0.245763</td>\n",
       "      <td>0.245763</td>\n",
       "      <td>0.313559</td>\n",
       "      <td>0.177966</td>\n",
       "      <td>0.084746</td>\n",
       "      <td>0.381356</td>\n",
       "      <td>0.296610</td>\n",
       "      <td>0.110169</td>\n",
       "      <td>0.398305</td>\n",
       "    </tr>\n",
       "    <tr>\n",
       "      <th>std</th>\n",
       "      <td>14.503687</td>\n",
       "      <td>0.454826</td>\n",
       "      <td>0.279691</td>\n",
       "      <td>0.252469</td>\n",
       "      <td>0.314436</td>\n",
       "      <td>0.129631</td>\n",
       "      <td>0.202297</td>\n",
       "      <td>0.0</td>\n",
       "      <td>0.432374</td>\n",
       "      <td>0.432374</td>\n",
       "      <td>0.432374</td>\n",
       "      <td>0.465918</td>\n",
       "      <td>0.384115</td>\n",
       "      <td>0.279691</td>\n",
       "      <td>0.487791</td>\n",
       "      <td>0.458711</td>\n",
       "      <td>0.314436</td>\n",
       "      <td>0.491637</td>\n",
       "    </tr>\n",
       "    <tr>\n",
       "      <th>min</th>\n",
       "      <td>6.000000</td>\n",
       "      <td>0.000000</td>\n",
       "      <td>0.000000</td>\n",
       "      <td>0.000000</td>\n",
       "      <td>0.000000</td>\n",
       "      <td>0.000000</td>\n",
       "      <td>0.000000</td>\n",
       "      <td>0.0</td>\n",
       "      <td>0.000000</td>\n",
       "      <td>0.000000</td>\n",
       "      <td>0.000000</td>\n",
       "      <td>0.000000</td>\n",
       "      <td>0.000000</td>\n",
       "      <td>0.000000</td>\n",
       "      <td>0.000000</td>\n",
       "      <td>0.000000</td>\n",
       "      <td>0.000000</td>\n",
       "      <td>0.000000</td>\n",
       "    </tr>\n",
       "    <tr>\n",
       "      <th>25%</th>\n",
       "      <td>25.000000</td>\n",
       "      <td>0.000000</td>\n",
       "      <td>0.000000</td>\n",
       "      <td>0.000000</td>\n",
       "      <td>0.000000</td>\n",
       "      <td>0.000000</td>\n",
       "      <td>0.000000</td>\n",
       "      <td>0.0</td>\n",
       "      <td>0.000000</td>\n",
       "      <td>0.000000</td>\n",
       "      <td>0.000000</td>\n",
       "      <td>0.000000</td>\n",
       "      <td>0.000000</td>\n",
       "      <td>0.000000</td>\n",
       "      <td>0.000000</td>\n",
       "      <td>0.000000</td>\n",
       "      <td>0.000000</td>\n",
       "      <td>0.000000</td>\n",
       "    </tr>\n",
       "    <tr>\n",
       "      <th>50%</th>\n",
       "      <td>37.000000</td>\n",
       "      <td>1.000000</td>\n",
       "      <td>0.000000</td>\n",
       "      <td>0.000000</td>\n",
       "      <td>0.000000</td>\n",
       "      <td>0.000000</td>\n",
       "      <td>0.000000</td>\n",
       "      <td>0.0</td>\n",
       "      <td>0.000000</td>\n",
       "      <td>0.000000</td>\n",
       "      <td>0.000000</td>\n",
       "      <td>0.000000</td>\n",
       "      <td>0.000000</td>\n",
       "      <td>0.000000</td>\n",
       "      <td>0.000000</td>\n",
       "      <td>0.000000</td>\n",
       "      <td>0.000000</td>\n",
       "      <td>0.000000</td>\n",
       "    </tr>\n",
       "    <tr>\n",
       "      <th>75%</th>\n",
       "      <td>50.000000</td>\n",
       "      <td>1.000000</td>\n",
       "      <td>0.000000</td>\n",
       "      <td>0.000000</td>\n",
       "      <td>0.000000</td>\n",
       "      <td>0.000000</td>\n",
       "      <td>0.000000</td>\n",
       "      <td>0.0</td>\n",
       "      <td>0.000000</td>\n",
       "      <td>0.000000</td>\n",
       "      <td>0.000000</td>\n",
       "      <td>1.000000</td>\n",
       "      <td>0.000000</td>\n",
       "      <td>0.000000</td>\n",
       "      <td>1.000000</td>\n",
       "      <td>1.000000</td>\n",
       "      <td>0.000000</td>\n",
       "      <td>1.000000</td>\n",
       "    </tr>\n",
       "    <tr>\n",
       "      <th>max</th>\n",
       "      <td>67.000000</td>\n",
       "      <td>1.000000</td>\n",
       "      <td>1.000000</td>\n",
       "      <td>1.000000</td>\n",
       "      <td>1.000000</td>\n",
       "      <td>1.000000</td>\n",
       "      <td>1.000000</td>\n",
       "      <td>0.0</td>\n",
       "      <td>1.000000</td>\n",
       "      <td>1.000000</td>\n",
       "      <td>1.000000</td>\n",
       "      <td>1.000000</td>\n",
       "      <td>1.000000</td>\n",
       "      <td>1.000000</td>\n",
       "      <td>1.000000</td>\n",
       "      <td>1.000000</td>\n",
       "      <td>1.000000</td>\n",
       "      <td>1.000000</td>\n",
       "    </tr>\n",
       "  </tbody>\n",
       "</table>\n",
       "</div>"
      ],
      "text/plain": [
       "              age       None,  Asthma or chronic lung disease,  \\\n",
       "count  118.000000  118.000000                       118.000000   \n",
       "mean    37.677966    0.711864                         0.084746   \n",
       "std     14.503687    0.454826                         0.279691   \n",
       "min      6.000000    0.000000                         0.000000   \n",
       "25%     25.000000    0.000000                         0.000000   \n",
       "50%     37.000000    1.000000                         0.000000   \n",
       "75%     50.000000    1.000000                         0.000000   \n",
       "max     67.000000    1.000000                         1.000000   \n",
       "\n",
       "       Disease or conditions that make it harder to cough,  \\\n",
       "count                                         118.000000     \n",
       "mean                                            0.067797     \n",
       "std                                             0.252469     \n",
       "min                                             0.000000     \n",
       "25%                                             0.000000     \n",
       "50%                                             0.000000     \n",
       "75%                                             0.000000     \n",
       "max                                             1.000000     \n",
       "\n",
       "       Diabetes with complications,  Pregnancy,  Congestive heart failure,  \\\n",
       "count                    118.000000  118.000000                 118.000000   \n",
       "mean                       0.110169    0.016949                   0.042373   \n",
       "std                        0.314436    0.129631                   0.202297   \n",
       "min                        0.000000    0.000000                   0.000000   \n",
       "25%                        0.000000    0.000000                   0.000000   \n",
       "50%                        0.000000    0.000000                   0.000000   \n",
       "75%                        0.000000    0.000000                   0.000000   \n",
       "max                        1.000000    1.000000                   1.000000   \n",
       "\n",
       "       Extreme obesity      Fever,     chills,  or sweating,  \\\n",
       "count            118.0  118.000000  118.000000    118.000000   \n",
       "mean               0.0    0.245763    0.245763      0.245763   \n",
       "std                0.0    0.432374    0.432374      0.432374   \n",
       "min                0.0    0.000000    0.000000      0.000000   \n",
       "25%                0.0    0.000000    0.000000      0.000000   \n",
       "50%                0.0    0.000000    0.000000      0.000000   \n",
       "75%                0.0    0.000000    0.000000      0.000000   \n",
       "max                0.0    1.000000    1.000000      1.000000   \n",
       "\n",
       "       Shortness of breath  Loss of taste,  Loss of smell,  \\\n",
       "count           118.000000      118.000000      118.000000   \n",
       "mean              0.313559        0.177966        0.084746   \n",
       "std               0.465918        0.384115        0.279691   \n",
       "min               0.000000        0.000000        0.000000   \n",
       "25%               0.000000        0.000000        0.000000   \n",
       "50%               0.000000        0.000000        0.000000   \n",
       "75%               1.000000        0.000000        0.000000   \n",
       "max               1.000000        1.000000        1.000000   \n",
       "\n",
       "       New or worsening cough,  Sore throat,  Body aches,     Nothing  \n",
       "count               118.000000    118.000000   118.000000  118.000000  \n",
       "mean                  0.381356      0.296610     0.110169    0.398305  \n",
       "std                   0.487791      0.458711     0.314436    0.491637  \n",
       "min                   0.000000      0.000000     0.000000    0.000000  \n",
       "25%                   0.000000      0.000000     0.000000    0.000000  \n",
       "50%                   0.000000      0.000000     0.000000    0.000000  \n",
       "75%                   1.000000      1.000000     0.000000    1.000000  \n",
       "max                   1.000000      1.000000     1.000000    1.000000  "
      ]
     },
     "execution_count": 17,
     "metadata": {},
     "output_type": "execute_result"
    }
   ],
   "source": [
    "# for visualizing statistical detail of dataframe.\n",
    "df4.describe()"
   ]
  },
  {
   "cell_type": "code",
   "execution_count": 18,
   "metadata": {
    "colab": {
     "base_uri": "https://localhost:8080/",
     "height": 398
    },
    "colab_type": "code",
    "id": "dkMMX6scWCVh",
    "outputId": "df6965a1-1796-4abd-99fb-00eae9f85995"
   },
   "outputs": [
    {
     "data": {
      "text/plain": [
       "corona_test                                            object\n",
       "age                                                     int64\n",
       "gender                                                 object\n",
       "smoker                                                 object\n",
       "None,                                                   int64\n",
       "Asthma or chronic lung disease,                         int64\n",
       "Disease or conditions that make it harder to cough,     int64\n",
       "Diabetes with complications,                            int64\n",
       "Pregnancy,                                              int64\n",
       "Congestive heart failure,                               int64\n",
       "Extreme obesity                                         int64\n",
       "Fever,                                                  int64\n",
       "chills,                                                 int64\n",
       "or sweating,                                            int64\n",
       "Shortness of breath                                     int64\n",
       "Loss of taste,                                          int64\n",
       "Loss of smell,                                          int64\n",
       "New or worsening cough,                                 int64\n",
       "Sore throat,                                            int64\n",
       "Body aches,                                             int64\n",
       "Nothing                                                 int64\n",
       "dtype: object"
      ]
     },
     "execution_count": 18,
     "metadata": {},
     "output_type": "execute_result"
    }
   ],
   "source": [
    "df4.dtypes"
   ]
  },
  {
   "cell_type": "code",
   "execution_count": 19,
   "metadata": {
    "colab": {
     "base_uri": "https://localhost:8080/",
     "height": 398
    },
    "colab_type": "code",
    "id": "rfbcbQi4WCVl",
    "outputId": "24f6b568-42b4-44ba-d268-53d920b56f14"
   },
   "outputs": [
    {
     "data": {
      "text/plain": [
       "corona_test                                            0\n",
       "age                                                    0\n",
       "gender                                                 0\n",
       "smoker                                                 0\n",
       "None,                                                  0\n",
       "Asthma or chronic lung disease,                        0\n",
       "Disease or conditions that make it harder to cough,    0\n",
       "Diabetes with complications,                           0\n",
       "Pregnancy,                                             0\n",
       "Congestive heart failure,                              0\n",
       "Extreme obesity                                        0\n",
       "Fever,                                                 0\n",
       "chills,                                                0\n",
       "or sweating,                                           0\n",
       "Shortness of breath                                    0\n",
       "Loss of taste,                                         0\n",
       "Loss of smell,                                         0\n",
       "New or worsening cough,                                0\n",
       "Sore throat,                                           0\n",
       "Body aches,                                            0\n",
       "Nothing                                                0\n",
       "dtype: int64"
      ]
     },
     "execution_count": 19,
     "metadata": {},
     "output_type": "execute_result"
    }
   ],
   "source": [
    "# for checking total no of nan values in dataset.\n",
    "df4.isna().sum()"
   ]
  },
  {
   "cell_type": "markdown",
   "metadata": {
    "colab_type": "text",
    "id": "D2H5bbgpWCVp"
   },
   "source": [
    "### For checking class distribution"
   ]
  },
  {
   "cell_type": "code",
   "execution_count": 20,
   "metadata": {
    "colab": {
     "base_uri": "https://localhost:8080/",
     "height": 332
    },
    "colab_type": "code",
    "id": "s4BcTQu7WCVs",
    "outputId": "446fece6-c06c-4017-c50c-0646f1f6c770"
   },
   "outputs": [
    {
     "name": "stdout",
     "output_type": "stream",
     "text": [
      "negative    92\n",
      "positive    26\n",
      "Name: corona_test, dtype: int64\n"
     ]
    },
    {
     "data": {
      "image/png": "[encoded data removed]",
      "text/plain": [
       "<Figure size 432x288 with 1 Axes>"
      ]
     },
     "metadata": {
      "needs_background": "light"
     },
     "output_type": "display_data"
    }
   ],
   "source": [
    "ax = sns.countplot(x = \"corona_test\", data = df4)\n",
    "print(df4[\"corona_test\"].value_counts())\n",
    "\n",
    "pos = df4[\"corona_test\"].value_counts()[0]\n",
    "neg = df4[\"corona_test\"].value_counts()[1]"
   ]
  },
  {
   "cell_type": "markdown",
   "metadata": {
    "colab_type": "text",
    "id": "ouMr2c1BWCV3"
   },
   "source": [
    "### For checking contribution from each class in terms of percentage. "
   ]
  },
  {
   "cell_type": "code",
   "execution_count": 21,
   "metadata": {
    "colab": {
     "base_uri": "https://localhost:8080/",
     "height": 51
    },
    "colab_type": "code",
    "id": "sUCKQyL6WCV4",
    "outputId": "c1b81d5d-add7-4862-9790-90bf300c288c"
   },
   "outputs": [
    {
     "name": "stdout",
     "output_type": "stream",
     "text": [
      "77.96610169491525\n",
      "22.033898305084744\n"
     ]
    }
   ],
   "source": [
    "neg_per = 100 *(pos / float(df4.shape[0]))\n",
    "pos_per = 100 *(neg / float(df4.shape[0]))\n",
    "print(neg_per)\n",
    "print(pos_per)"
   ]
  },
  {
   "cell_type": "code",
   "execution_count": 22,
   "metadata": {
    "colab": {
     "base_uri": "https://localhost:8080/",
     "height": 225
    },
    "colab_type": "code",
    "id": "IjS_MIbRWCV8",
    "outputId": "f7e61909-3492-4971-fe0c-411c3a6bfc82"
   },
   "outputs": [
    {
     "name": "stdout",
     "output_type": "stream",
     "text": [
      "Number of unique age values : 47\n",
      "20    6\n",
      "50    6\n",
      "24    5\n",
      "29    5\n",
      "46    5\n",
      "22    5\n",
      "40    5\n",
      "30    4\n",
      "17    4\n",
      "47    4\n",
      "Name: age, dtype: int64\n"
     ]
    }
   ],
   "source": [
    "# For checking distribution of values in each column or in each feature.. \n",
    "\n",
    "unique = df4[\"age\"].value_counts()\n",
    "print(\"Number of unique age values :\", unique.shape[0])\n",
    "# the top 10 ages that were repeated again and again\n",
    "print(unique.head(10))"
   ]
  },
  {
   "cell_type": "code",
   "execution_count": 23,
   "metadata": {
    "colab": {
     "base_uri": "https://localhost:8080/",
     "height": 103
    },
    "colab_type": "code",
    "id": "-WFlewNAWCWB",
    "outputId": "81a15497-46a7-4fef-e80b-883303241dea"
   },
   "outputs": [
    {
     "name": "stdout",
     "output_type": "stream",
     "text": [
      "Number of unique age values : 3\n",
      "male           76\n",
      "female         41\n",
      "TRANSGENDER     1\n",
      "Name: gender, dtype: int64\n"
     ]
    }
   ],
   "source": [
    "# For checking distribution of values in each column or in each feature..  (checking distribution of age)\n",
    "\n",
    "unique = df4[\"gender\"].value_counts()\n",
    "print(\"Number of unique age values :\", unique.shape[0])\n",
    "# the top 10 ages that were repeated again and again\n",
    "print(unique.head(10))"
   ]
  },
  {
   "cell_type": "code",
   "execution_count": 24,
   "metadata": {
    "colab": {
     "base_uri": "https://localhost:8080/",
     "height": 86
    },
    "colab_type": "code",
    "id": "E2R-MQcBWCWE",
    "outputId": "a5c9f3da-1a70-4dc9-f8b9-50daf2bfbb9a"
   },
   "outputs": [
    {
     "name": "stdout",
     "output_type": "stream",
     "text": [
      "Number of unique age values : 2\n",
      "no     107\n",
      "yes     11\n",
      "Name: smoker, dtype: int64\n"
     ]
    }
   ],
   "source": [
    "# For checking distribution of values in each column or in each feature..  (checking distribution of )\n",
    "unique = df4[\"smoker\"].value_counts()\n",
    "print(\"Number of unique age values :\", unique.shape[0])\n",
    "# the top 10 ages that were repeated again and again\n",
    "print(unique.head(10))"
   ]
  },
  {
   "cell_type": "code",
   "execution_count": 25,
   "metadata": {
    "colab": {},
    "colab_type": "code",
    "id": "i24PS5pYWCWK"
   },
   "outputs": [],
   "source": [
    "# In order to convert textural data into a numerical number for machine learning, we will use One hot encoding. \n",
    "# in pandas we have get_dummies function to convert textual data into seperate features like one hot encoder"
   ]
  },
  {
   "cell_type": "code",
   "execution_count": 26,
   "metadata": {
    "colab": {},
    "colab_type": "code",
    "id": "CxZvtZHZWCWO"
   },
   "outputs": [
    {
     "data": {
      "text/html": [
       "<div>\n",
       "<style scoped>\n",
       "    .dataframe tbody tr th:only-of-type {\n",
       "        vertical-align: middle;\n",
       "    }\n",
       "\n",
       "    .dataframe tbody tr th {\n",
       "        vertical-align: top;\n",
       "    }\n",
       "\n",
       "    .dataframe thead th {\n",
       "        text-align: right;\n",
       "    }\n",
       "</style>\n",
       "<table border=\"1\" class=\"dataframe\">\n",
       "  <thead>\n",
       "    <tr style=\"text-align: right;\">\n",
       "      <th></th>\n",
       "      <th>corona_test</th>\n",
       "      <th>age</th>\n",
       "      <th>gender</th>\n",
       "      <th>smoker</th>\n",
       "      <th>None,</th>\n",
       "      <th>Asthma or chronic lung disease,</th>\n",
       "      <th>Disease or conditions that make it harder to cough,</th>\n",
       "      <th>Diabetes with complications,</th>\n",
       "      <th>Pregnancy,</th>\n",
       "      <th>Congestive heart failure,</th>\n",
       "      <th>...</th>\n",
       "      <th>Fever,</th>\n",
       "      <th>chills,</th>\n",
       "      <th>or sweating,</th>\n",
       "      <th>Shortness of breath</th>\n",
       "      <th>Loss of taste,</th>\n",
       "      <th>Loss of smell,</th>\n",
       "      <th>New or worsening cough,</th>\n",
       "      <th>Sore throat,</th>\n",
       "      <th>Body aches,</th>\n",
       "      <th>Nothing</th>\n",
       "    </tr>\n",
       "  </thead>\n",
       "  <tbody>\n",
       "    <tr>\n",
       "      <th>0</th>\n",
       "      <td>negative</td>\n",
       "      <td>32</td>\n",
       "      <td>2</td>\n",
       "      <td>0</td>\n",
       "      <td>1</td>\n",
       "      <td>0</td>\n",
       "      <td>0</td>\n",
       "      <td>0</td>\n",
       "      <td>0</td>\n",
       "      <td>0</td>\n",
       "      <td>...</td>\n",
       "      <td>1</td>\n",
       "      <td>1</td>\n",
       "      <td>1</td>\n",
       "      <td>0</td>\n",
       "      <td>0</td>\n",
       "      <td>0</td>\n",
       "      <td>0</td>\n",
       "      <td>0</td>\n",
       "      <td>0</td>\n",
       "      <td>0</td>\n",
       "    </tr>\n",
       "    <tr>\n",
       "      <th>1</th>\n",
       "      <td>negative</td>\n",
       "      <td>31</td>\n",
       "      <td>2</td>\n",
       "      <td>0</td>\n",
       "      <td>1</td>\n",
       "      <td>0</td>\n",
       "      <td>0</td>\n",
       "      <td>0</td>\n",
       "      <td>0</td>\n",
       "      <td>0</td>\n",
       "      <td>...</td>\n",
       "      <td>1</td>\n",
       "      <td>1</td>\n",
       "      <td>1</td>\n",
       "      <td>1</td>\n",
       "      <td>1</td>\n",
       "      <td>1</td>\n",
       "      <td>0</td>\n",
       "      <td>0</td>\n",
       "      <td>0</td>\n",
       "      <td>0</td>\n",
       "    </tr>\n",
       "    <tr>\n",
       "      <th>2</th>\n",
       "      <td>negative</td>\n",
       "      <td>21</td>\n",
       "      <td>1</td>\n",
       "      <td>0</td>\n",
       "      <td>1</td>\n",
       "      <td>0</td>\n",
       "      <td>0</td>\n",
       "      <td>0</td>\n",
       "      <td>0</td>\n",
       "      <td>0</td>\n",
       "      <td>...</td>\n",
       "      <td>0</td>\n",
       "      <td>0</td>\n",
       "      <td>0</td>\n",
       "      <td>0</td>\n",
       "      <td>0</td>\n",
       "      <td>0</td>\n",
       "      <td>1</td>\n",
       "      <td>0</td>\n",
       "      <td>0</td>\n",
       "      <td>0</td>\n",
       "    </tr>\n",
       "    <tr>\n",
       "      <th>3</th>\n",
       "      <td>negative</td>\n",
       "      <td>33</td>\n",
       "      <td>2</td>\n",
       "      <td>0</td>\n",
       "      <td>0</td>\n",
       "      <td>1</td>\n",
       "      <td>0</td>\n",
       "      <td>0</td>\n",
       "      <td>0</td>\n",
       "      <td>0</td>\n",
       "      <td>...</td>\n",
       "      <td>1</td>\n",
       "      <td>1</td>\n",
       "      <td>1</td>\n",
       "      <td>1</td>\n",
       "      <td>1</td>\n",
       "      <td>1</td>\n",
       "      <td>1</td>\n",
       "      <td>0</td>\n",
       "      <td>0</td>\n",
       "      <td>0</td>\n",
       "    </tr>\n",
       "    <tr>\n",
       "      <th>4</th>\n",
       "      <td>negative</td>\n",
       "      <td>27</td>\n",
       "      <td>2</td>\n",
       "      <td>0</td>\n",
       "      <td>0</td>\n",
       "      <td>0</td>\n",
       "      <td>1</td>\n",
       "      <td>0</td>\n",
       "      <td>0</td>\n",
       "      <td>0</td>\n",
       "      <td>...</td>\n",
       "      <td>0</td>\n",
       "      <td>0</td>\n",
       "      <td>0</td>\n",
       "      <td>0</td>\n",
       "      <td>0</td>\n",
       "      <td>0</td>\n",
       "      <td>1</td>\n",
       "      <td>0</td>\n",
       "      <td>0</td>\n",
       "      <td>0</td>\n",
       "    </tr>\n",
       "  </tbody>\n",
       "</table>\n",
       "<p>5 rows × 21 columns</p>\n",
       "</div>"
      ],
      "text/plain": [
       "  corona_test  age  gender  smoker  None,  Asthma or chronic lung disease,  \\\n",
       "0    negative   32       2       0      1                                0   \n",
       "1    negative   31       2       0      1                                0   \n",
       "2    negative   21       1       0      1                                0   \n",
       "3    negative   33       2       0      0                                1   \n",
       "4    negative   27       2       0      0                                0   \n",
       "\n",
       "   Disease or conditions that make it harder to cough,  \\\n",
       "0                                                  0     \n",
       "1                                                  0     \n",
       "2                                                  0     \n",
       "3                                                  0     \n",
       "4                                                  1     \n",
       "\n",
       "   Diabetes with complications,  Pregnancy,  Congestive heart failure,  ...  \\\n",
       "0                             0           0                          0  ...   \n",
       "1                             0           0                          0  ...   \n",
       "2                             0           0                          0  ...   \n",
       "3                             0           0                          0  ...   \n",
       "4                             0           0                          0  ...   \n",
       "\n",
       "   Fever,  chills,  or sweating,  Shortness of breath  Loss of taste,  \\\n",
       "0       1        1             1                    0               0   \n",
       "1       1        1             1                    1               1   \n",
       "2       0        0             0                    0               0   \n",
       "3       1        1             1                    1               1   \n",
       "4       0        0             0                    0               0   \n",
       "\n",
       "   Loss of smell,  New or worsening cough,  Sore throat,  Body aches,  Nothing  \n",
       "0               0                        0             0            0        0  \n",
       "1               1                        0             0            0        0  \n",
       "2               0                        1             0            0        0  \n",
       "3               1                        1             0            0        0  \n",
       "4               0                        1             0            0        0  \n",
       "\n",
       "[5 rows x 21 columns]"
      ]
     },
     "execution_count": 26,
     "metadata": {},
     "output_type": "execute_result"
    }
   ],
   "source": [
    "df4['gender'] = LabelEncoder().fit_transform(df4['gender'])\n",
    "df4['smoker'] = LabelEncoder().fit_transform(df4['smoker'])\n",
    "# df4['gender']\n",
    "# df4[\"smoker\"]\n",
    "df4.head()\n",
    "# gender = pd.get_dummies(df4['gender'])\n",
    "# smoker = pd.get_dummies(df4['smoker'], prefix='smoker')"
   ]
  },
  {
   "cell_type": "code",
   "execution_count": 27,
   "metadata": {
    "colab": {
     "base_uri": "https://localhost:8080/",
     "height": 504
    },
    "colab_type": "code",
    "id": "lK7xCdnOWCWS",
    "outputId": "c65dbb09-400f-40df-c0bd-cc12bca7c7b0"
   },
   "outputs": [
    {
     "name": "stdout",
     "output_type": "stream",
     "text": [
      "92\n",
      "26\n"
     ]
    },
    {
     "data": {
      "text/html": [
       "<div>\n",
       "<style scoped>\n",
       "    .dataframe tbody tr th:only-of-type {\n",
       "        vertical-align: middle;\n",
       "    }\n",
       "\n",
       "    .dataframe tbody tr th {\n",
       "        vertical-align: top;\n",
       "    }\n",
       "\n",
       "    .dataframe thead th {\n",
       "        text-align: right;\n",
       "    }\n",
       "</style>\n",
       "<table border=\"1\" class=\"dataframe\">\n",
       "  <thead>\n",
       "    <tr style=\"text-align: right;\">\n",
       "      <th></th>\n",
       "      <th>age</th>\n",
       "      <th>gender</th>\n",
       "      <th>smoker</th>\n",
       "      <th>None,</th>\n",
       "      <th>Asthma or chronic lung disease,</th>\n",
       "      <th>Disease or conditions that make it harder to cough,</th>\n",
       "      <th>Diabetes with complications,</th>\n",
       "      <th>Pregnancy,</th>\n",
       "      <th>Congestive heart failure,</th>\n",
       "      <th>Extreme obesity</th>\n",
       "      <th>Fever,</th>\n",
       "      <th>chills,</th>\n",
       "      <th>or sweating,</th>\n",
       "      <th>Shortness of breath</th>\n",
       "      <th>Loss of taste,</th>\n",
       "      <th>Loss of smell,</th>\n",
       "      <th>New or worsening cough,</th>\n",
       "      <th>Sore throat,</th>\n",
       "      <th>Body aches,</th>\n",
       "      <th>Nothing</th>\n",
       "    </tr>\n",
       "  </thead>\n",
       "  <tbody>\n",
       "    <tr>\n",
       "      <th>0</th>\n",
       "      <td>32</td>\n",
       "      <td>2</td>\n",
       "      <td>0</td>\n",
       "      <td>1</td>\n",
       "      <td>0</td>\n",
       "      <td>0</td>\n",
       "      <td>0</td>\n",
       "      <td>0</td>\n",
       "      <td>0</td>\n",
       "      <td>0</td>\n",
       "      <td>1</td>\n",
       "      <td>1</td>\n",
       "      <td>1</td>\n",
       "      <td>0</td>\n",
       "      <td>0</td>\n",
       "      <td>0</td>\n",
       "      <td>0</td>\n",
       "      <td>0</td>\n",
       "      <td>0</td>\n",
       "      <td>0</td>\n",
       "    </tr>\n",
       "    <tr>\n",
       "      <th>1</th>\n",
       "      <td>31</td>\n",
       "      <td>2</td>\n",
       "      <td>0</td>\n",
       "      <td>1</td>\n",
       "      <td>0</td>\n",
       "      <td>0</td>\n",
       "      <td>0</td>\n",
       "      <td>0</td>\n",
       "      <td>0</td>\n",
       "      <td>0</td>\n",
       "      <td>1</td>\n",
       "      <td>1</td>\n",
       "      <td>1</td>\n",
       "      <td>1</td>\n",
       "      <td>1</td>\n",
       "      <td>1</td>\n",
       "      <td>0</td>\n",
       "      <td>0</td>\n",
       "      <td>0</td>\n",
       "      <td>0</td>\n",
       "    </tr>\n",
       "    <tr>\n",
       "      <th>2</th>\n",
       "      <td>21</td>\n",
       "      <td>1</td>\n",
       "      <td>0</td>\n",
       "      <td>1</td>\n",
       "      <td>0</td>\n",
       "      <td>0</td>\n",
       "      <td>0</td>\n",
       "      <td>0</td>\n",
       "      <td>0</td>\n",
       "      <td>0</td>\n",
       "      <td>0</td>\n",
       "      <td>0</td>\n",
       "      <td>0</td>\n",
       "      <td>0</td>\n",
       "      <td>0</td>\n",
       "      <td>0</td>\n",
       "      <td>1</td>\n",
       "      <td>0</td>\n",
       "      <td>0</td>\n",
       "      <td>0</td>\n",
       "    </tr>\n",
       "    <tr>\n",
       "      <th>3</th>\n",
       "      <td>33</td>\n",
       "      <td>2</td>\n",
       "      <td>0</td>\n",
       "      <td>0</td>\n",
       "      <td>1</td>\n",
       "      <td>0</td>\n",
       "      <td>0</td>\n",
       "      <td>0</td>\n",
       "      <td>0</td>\n",
       "      <td>0</td>\n",
       "      <td>1</td>\n",
       "      <td>1</td>\n",
       "      <td>1</td>\n",
       "      <td>1</td>\n",
       "      <td>1</td>\n",
       "      <td>1</td>\n",
       "      <td>1</td>\n",
       "      <td>0</td>\n",
       "      <td>0</td>\n",
       "      <td>0</td>\n",
       "    </tr>\n",
       "    <tr>\n",
       "      <th>4</th>\n",
       "      <td>27</td>\n",
       "      <td>2</td>\n",
       "      <td>0</td>\n",
       "      <td>0</td>\n",
       "      <td>0</td>\n",
       "      <td>1</td>\n",
       "      <td>0</td>\n",
       "      <td>0</td>\n",
       "      <td>0</td>\n",
       "      <td>0</td>\n",
       "      <td>0</td>\n",
       "      <td>0</td>\n",
       "      <td>0</td>\n",
       "      <td>0</td>\n",
       "      <td>0</td>\n",
       "      <td>0</td>\n",
       "      <td>1</td>\n",
       "      <td>0</td>\n",
       "      <td>0</td>\n",
       "      <td>0</td>\n",
       "    </tr>\n",
       "    <tr>\n",
       "      <th>...</th>\n",
       "      <td>...</td>\n",
       "      <td>...</td>\n",
       "      <td>...</td>\n",
       "      <td>...</td>\n",
       "      <td>...</td>\n",
       "      <td>...</td>\n",
       "      <td>...</td>\n",
       "      <td>...</td>\n",
       "      <td>...</td>\n",
       "      <td>...</td>\n",
       "      <td>...</td>\n",
       "      <td>...</td>\n",
       "      <td>...</td>\n",
       "      <td>...</td>\n",
       "      <td>...</td>\n",
       "      <td>...</td>\n",
       "      <td>...</td>\n",
       "      <td>...</td>\n",
       "      <td>...</td>\n",
       "      <td>...</td>\n",
       "    </tr>\n",
       "    <tr>\n",
       "      <th>113</th>\n",
       "      <td>50</td>\n",
       "      <td>2</td>\n",
       "      <td>0</td>\n",
       "      <td>1</td>\n",
       "      <td>0</td>\n",
       "      <td>0</td>\n",
       "      <td>0</td>\n",
       "      <td>0</td>\n",
       "      <td>0</td>\n",
       "      <td>0</td>\n",
       "      <td>0</td>\n",
       "      <td>0</td>\n",
       "      <td>0</td>\n",
       "      <td>0</td>\n",
       "      <td>0</td>\n",
       "      <td>0</td>\n",
       "      <td>0</td>\n",
       "      <td>0</td>\n",
       "      <td>0</td>\n",
       "      <td>1</td>\n",
       "    </tr>\n",
       "    <tr>\n",
       "      <th>114</th>\n",
       "      <td>26</td>\n",
       "      <td>2</td>\n",
       "      <td>0</td>\n",
       "      <td>1</td>\n",
       "      <td>0</td>\n",
       "      <td>0</td>\n",
       "      <td>0</td>\n",
       "      <td>0</td>\n",
       "      <td>0</td>\n",
       "      <td>0</td>\n",
       "      <td>0</td>\n",
       "      <td>0</td>\n",
       "      <td>0</td>\n",
       "      <td>1</td>\n",
       "      <td>1</td>\n",
       "      <td>0</td>\n",
       "      <td>1</td>\n",
       "      <td>1</td>\n",
       "      <td>1</td>\n",
       "      <td>0</td>\n",
       "    </tr>\n",
       "    <tr>\n",
       "      <th>115</th>\n",
       "      <td>50</td>\n",
       "      <td>2</td>\n",
       "      <td>1</td>\n",
       "      <td>1</td>\n",
       "      <td>0</td>\n",
       "      <td>0</td>\n",
       "      <td>0</td>\n",
       "      <td>0</td>\n",
       "      <td>0</td>\n",
       "      <td>0</td>\n",
       "      <td>0</td>\n",
       "      <td>0</td>\n",
       "      <td>0</td>\n",
       "      <td>0</td>\n",
       "      <td>0</td>\n",
       "      <td>0</td>\n",
       "      <td>1</td>\n",
       "      <td>1</td>\n",
       "      <td>0</td>\n",
       "      <td>0</td>\n",
       "    </tr>\n",
       "    <tr>\n",
       "      <th>116</th>\n",
       "      <td>44</td>\n",
       "      <td>2</td>\n",
       "      <td>0</td>\n",
       "      <td>1</td>\n",
       "      <td>0</td>\n",
       "      <td>0</td>\n",
       "      <td>0</td>\n",
       "      <td>0</td>\n",
       "      <td>0</td>\n",
       "      <td>0</td>\n",
       "      <td>0</td>\n",
       "      <td>0</td>\n",
       "      <td>0</td>\n",
       "      <td>1</td>\n",
       "      <td>0</td>\n",
       "      <td>0</td>\n",
       "      <td>1</td>\n",
       "      <td>1</td>\n",
       "      <td>1</td>\n",
       "      <td>0</td>\n",
       "    </tr>\n",
       "    <tr>\n",
       "      <th>117</th>\n",
       "      <td>28</td>\n",
       "      <td>2</td>\n",
       "      <td>0</td>\n",
       "      <td>1</td>\n",
       "      <td>0</td>\n",
       "      <td>0</td>\n",
       "      <td>0</td>\n",
       "      <td>0</td>\n",
       "      <td>0</td>\n",
       "      <td>0</td>\n",
       "      <td>0</td>\n",
       "      <td>0</td>\n",
       "      <td>0</td>\n",
       "      <td>0</td>\n",
       "      <td>0</td>\n",
       "      <td>0</td>\n",
       "      <td>0</td>\n",
       "      <td>0</td>\n",
       "      <td>0</td>\n",
       "      <td>1</td>\n",
       "    </tr>\n",
       "  </tbody>\n",
       "</table>\n",
       "<p>118 rows × 20 columns</p>\n",
       "</div>"
      ],
      "text/plain": [
       "     age  gender  smoker  None,  Asthma or chronic lung disease,  \\\n",
       "0     32       2       0      1                                0   \n",
       "1     31       2       0      1                                0   \n",
       "2     21       1       0      1                                0   \n",
       "3     33       2       0      0                                1   \n",
       "4     27       2       0      0                                0   \n",
       "..   ...     ...     ...    ...                              ...   \n",
       "113   50       2       0      1                                0   \n",
       "114   26       2       0      1                                0   \n",
       "115   50       2       1      1                                0   \n",
       "116   44       2       0      1                                0   \n",
       "117   28       2       0      1                                0   \n",
       "\n",
       "     Disease or conditions that make it harder to cough,  \\\n",
       "0                                                    0     \n",
       "1                                                    0     \n",
       "2                                                    0     \n",
       "3                                                    0     \n",
       "4                                                    1     \n",
       "..                                                 ...     \n",
       "113                                                  0     \n",
       "114                                                  0     \n",
       "115                                                  0     \n",
       "116                                                  0     \n",
       "117                                                  0     \n",
       "\n",
       "     Diabetes with complications,  Pregnancy,  Congestive heart failure,  \\\n",
       "0                               0           0                          0   \n",
       "1                               0           0                          0   \n",
       "2                               0           0                          0   \n",
       "3                               0           0                          0   \n",
       "4                               0           0                          0   \n",
       "..                            ...         ...                        ...   \n",
       "113                             0           0                          0   \n",
       "114                             0           0                          0   \n",
       "115                             0           0                          0   \n",
       "116                             0           0                          0   \n",
       "117                             0           0                          0   \n",
       "\n",
       "     Extreme obesity  Fever,  chills,  or sweating,  Shortness of breath  \\\n",
       "0                  0       1        1             1                    0   \n",
       "1                  0       1        1             1                    1   \n",
       "2                  0       0        0             0                    0   \n",
       "3                  0       1        1             1                    1   \n",
       "4                  0       0        0             0                    0   \n",
       "..               ...     ...      ...           ...                  ...   \n",
       "113                0       0        0             0                    0   \n",
       "114                0       0        0             0                    1   \n",
       "115                0       0        0             0                    0   \n",
       "116                0       0        0             0                    1   \n",
       "117                0       0        0             0                    0   \n",
       "\n",
       "     Loss of taste,  Loss of smell,  New or worsening cough,  Sore throat,  \\\n",
       "0                 0               0                        0             0   \n",
       "1                 1               1                        0             0   \n",
       "2                 0               0                        1             0   \n",
       "3                 1               1                        1             0   \n",
       "4                 0               0                        1             0   \n",
       "..              ...             ...                      ...           ...   \n",
       "113               0               0                        0             0   \n",
       "114               1               0                        1             1   \n",
       "115               0               0                        1             1   \n",
       "116               0               0                        1             1   \n",
       "117               0               0                        0             0   \n",
       "\n",
       "     Body aches,  Nothing  \n",
       "0              0        0  \n",
       "1              0        0  \n",
       "2              0        0  \n",
       "3              0        0  \n",
       "4              0        0  \n",
       "..           ...      ...  \n",
       "113            0        1  \n",
       "114            1        0  \n",
       "115            0        0  \n",
       "116            1        0  \n",
       "117            0        1  \n",
       "\n",
       "[118 rows x 20 columns]"
      ]
     },
     "execution_count": 27,
     "metadata": {},
     "output_type": "execute_result"
    }
   ],
   "source": [
    "# so here we are merging dataframes together\n",
    "# df5 = pd.concat([gender, smoker, df4], axis=1, ignore_index=False)\n",
    "# df5 = df5.drop(columns = [\"gender\", \"smoker\"])\n",
    "df5 = df4.replace(to_replace =\"negative\", \n",
    "                 value =0)\n",
    "df5 = df5.replace(to_replace =\"positive\", \n",
    "                 value =1)\n",
    "\n",
    "corona_positive = len(df4[df4['corona_test'] == 'positive'])\n",
    "corona_negative = len(df4[df4['corona_test'] == 'negative'])\n",
    "print(corona_negative)\n",
    "print(corona_positive)\n",
    "\n",
    "target_labels = df5[\"corona_test\"] \n",
    "df5 = df5.drop(columns = [\"corona_test\"])\n",
    "df5\n",
    "# target_labels"
   ]
  },
  {
   "cell_type": "code",
   "execution_count": 28,
   "metadata": {
    "colab": {},
    "colab_type": "code",
    "id": "pUgqRr4IWCWX"
   },
   "outputs": [],
   "source": [
    "# Let's try SMOTE for balancing data \n",
    "# but we will just apply smote on training data\n",
    "# blc testing data will remain original, no duplication in testing data. \n",
    "# so spliting the dataset"
   ]
  },
  {
   "cell_type": "code",
   "execution_count": 29,
   "metadata": {
    "colab": {},
    "colab_type": "code",
    "id": "tZYanonIWCWa"
   },
   "outputs": [],
   "source": [
    "X_train, X_test, y_train, y_test = train_test_split(df5, target_labels, test_size=0.30, random_state=20, shuffle=True)"
   ]
  },
  {
   "cell_type": "markdown",
   "metadata": {
    "colab_type": "text",
    "id": "HEvcTDp1WCWd"
   },
   "source": [
    "### Applying SMOTE"
   ]
  },
  {
   "cell_type": "code",
   "execution_count": 30,
   "metadata": {
    "colab": {
     "base_uri": "https://localhost:8080/",
     "height": 175
    },
    "colab_type": "code",
    "id": "02lHxo2IWCWe",
    "outputId": "4d3328c5-c5ca-48c0-ef7a-6cac2334fc2e"
   },
   "outputs": [
    {
     "name": "stdout",
     "output_type": "stream",
     "text": [
      "Before Smote:  Counter({0: 65, 1: 17})\n",
      "After Smote:  Counter({0: 65, 1: 65})\n",
      "67\n"
     ]
    },
    {
     "name": "stderr",
     "output_type": "stream",
     "text": [
      "/home/naufil/anaconda3/lib/python3.7/site-packages/ipykernel_launcher.py:16: SettingWithCopyWarning: \n",
      "A value is trying to be set on a copy of a slice from a DataFrame.\n",
      "Try using .loc[row_indexer,col_indexer] = value instead\n",
      "\n",
      "See the caveats in the documentation: https://pandas.pydata.org/pandas-docs/stable/user_guide/indexing.html#returning-a-view-versus-a-copy\n",
      "  app.launch_new_instance()\n"
     ]
    },
    {
     "data": {
      "text/html": [
       "<div>\n",
       "<style scoped>\n",
       "    .dataframe tbody tr th:only-of-type {\n",
       "        vertical-align: middle;\n",
       "    }\n",
       "\n",
       "    .dataframe tbody tr th {\n",
       "        vertical-align: top;\n",
       "    }\n",
       "\n",
       "    .dataframe thead th {\n",
       "        text-align: right;\n",
       "    }\n",
       "</style>\n",
       "<table border=\"1\" class=\"dataframe\">\n",
       "  <thead>\n",
       "    <tr style=\"text-align: right;\">\n",
       "      <th></th>\n",
       "      <th>age</th>\n",
       "      <th>gender</th>\n",
       "      <th>smoker</th>\n",
       "      <th>None,</th>\n",
       "      <th>Asthma or chronic lung disease,</th>\n",
       "      <th>Disease or conditions that make it harder to cough,</th>\n",
       "      <th>Diabetes with complications,</th>\n",
       "      <th>Pregnancy,</th>\n",
       "      <th>Congestive heart failure,</th>\n",
       "      <th>Extreme obesity</th>\n",
       "      <th>Fever,</th>\n",
       "      <th>chills,</th>\n",
       "      <th>or sweating,</th>\n",
       "      <th>Shortness of breath</th>\n",
       "      <th>Loss of taste,</th>\n",
       "      <th>Loss of smell,</th>\n",
       "      <th>New or worsening cough,</th>\n",
       "      <th>Sore throat,</th>\n",
       "      <th>Body aches,</th>\n",
       "      <th>Nothing</th>\n",
       "    </tr>\n",
       "  </thead>\n",
       "  <tbody>\n",
       "    <tr>\n",
       "      <th>0</th>\n",
       "      <td>0.432836</td>\n",
       "      <td>1</td>\n",
       "      <td>0</td>\n",
       "      <td>0</td>\n",
       "      <td>0</td>\n",
       "      <td>0</td>\n",
       "      <td>0</td>\n",
       "      <td>1</td>\n",
       "      <td>0</td>\n",
       "      <td>0</td>\n",
       "      <td>0</td>\n",
       "      <td>0</td>\n",
       "      <td>0</td>\n",
       "      <td>0</td>\n",
       "      <td>1</td>\n",
       "      <td>0</td>\n",
       "      <td>0</td>\n",
       "      <td>0</td>\n",
       "      <td>1</td>\n",
       "      <td>0</td>\n",
       "    </tr>\n",
       "    <tr>\n",
       "      <th>1</th>\n",
       "      <td>0.970149</td>\n",
       "      <td>2</td>\n",
       "      <td>0</td>\n",
       "      <td>0</td>\n",
       "      <td>1</td>\n",
       "      <td>0</td>\n",
       "      <td>0</td>\n",
       "      <td>0</td>\n",
       "      <td>0</td>\n",
       "      <td>0</td>\n",
       "      <td>0</td>\n",
       "      <td>0</td>\n",
       "      <td>0</td>\n",
       "      <td>1</td>\n",
       "      <td>0</td>\n",
       "      <td>0</td>\n",
       "      <td>1</td>\n",
       "      <td>0</td>\n",
       "      <td>0</td>\n",
       "      <td>0</td>\n",
       "    </tr>\n",
       "    <tr>\n",
       "      <th>2</th>\n",
       "      <td>0.522388</td>\n",
       "      <td>1</td>\n",
       "      <td>0</td>\n",
       "      <td>1</td>\n",
       "      <td>0</td>\n",
       "      <td>0</td>\n",
       "      <td>0</td>\n",
       "      <td>0</td>\n",
       "      <td>0</td>\n",
       "      <td>0</td>\n",
       "      <td>0</td>\n",
       "      <td>0</td>\n",
       "      <td>0</td>\n",
       "      <td>0</td>\n",
       "      <td>0</td>\n",
       "      <td>0</td>\n",
       "      <td>0</td>\n",
       "      <td>0</td>\n",
       "      <td>0</td>\n",
       "      <td>1</td>\n",
       "    </tr>\n",
       "    <tr>\n",
       "      <th>3</th>\n",
       "      <td>0.328358</td>\n",
       "      <td>2</td>\n",
       "      <td>1</td>\n",
       "      <td>1</td>\n",
       "      <td>0</td>\n",
       "      <td>0</td>\n",
       "      <td>0</td>\n",
       "      <td>0</td>\n",
       "      <td>0</td>\n",
       "      <td>0</td>\n",
       "      <td>1</td>\n",
       "      <td>1</td>\n",
       "      <td>1</td>\n",
       "      <td>1</td>\n",
       "      <td>0</td>\n",
       "      <td>0</td>\n",
       "      <td>1</td>\n",
       "      <td>0</td>\n",
       "      <td>1</td>\n",
       "      <td>0</td>\n",
       "    </tr>\n",
       "    <tr>\n",
       "      <th>4</th>\n",
       "      <td>0.567164</td>\n",
       "      <td>2</td>\n",
       "      <td>0</td>\n",
       "      <td>0</td>\n",
       "      <td>0</td>\n",
       "      <td>0</td>\n",
       "      <td>1</td>\n",
       "      <td>0</td>\n",
       "      <td>0</td>\n",
       "      <td>0</td>\n",
       "      <td>0</td>\n",
       "      <td>0</td>\n",
       "      <td>0</td>\n",
       "      <td>0</td>\n",
       "      <td>0</td>\n",
       "      <td>0</td>\n",
       "      <td>0</td>\n",
       "      <td>0</td>\n",
       "      <td>0</td>\n",
       "      <td>1</td>\n",
       "    </tr>\n",
       "  </tbody>\n",
       "</table>\n",
       "</div>"
      ],
      "text/plain": [
       "        age  gender  smoker  None,  Asthma or chronic lung disease,  \\\n",
       "0  0.432836       1       0      0                                0   \n",
       "1  0.970149       2       0      0                                1   \n",
       "2  0.522388       1       0      1                                0   \n",
       "3  0.328358       2       1      1                                0   \n",
       "4  0.567164       2       0      0                                0   \n",
       "\n",
       "   Disease or conditions that make it harder to cough,  \\\n",
       "0                                                  0     \n",
       "1                                                  0     \n",
       "2                                                  0     \n",
       "3                                                  0     \n",
       "4                                                  0     \n",
       "\n",
       "   Diabetes with complications,  Pregnancy,  Congestive heart failure,  \\\n",
       "0                             0           1                          0   \n",
       "1                             0           0                          0   \n",
       "2                             0           0                          0   \n",
       "3                             0           0                          0   \n",
       "4                             1           0                          0   \n",
       "\n",
       "   Extreme obesity  Fever,  chills,  or sweating,  Shortness of breath  \\\n",
       "0                0       0        0             0                    0   \n",
       "1                0       0        0             0                    1   \n",
       "2                0       0        0             0                    0   \n",
       "3                0       1        1             1                    1   \n",
       "4                0       0        0             0                    0   \n",
       "\n",
       "   Loss of taste,  Loss of smell,  New or worsening cough,  Sore throat,  \\\n",
       "0               1               0                        0             0   \n",
       "1               0               0                        1             0   \n",
       "2               0               0                        0             0   \n",
       "3               0               0                        1             0   \n",
       "4               0               0                        0             0   \n",
       "\n",
       "   Body aches,  Nothing  \n",
       "0            1        0  \n",
       "1            0        0  \n",
       "2            0        1  \n",
       "3            1        0  \n",
       "4            0        1  "
      ]
     },
     "execution_count": 30,
     "metadata": {},
     "output_type": "execute_result"
    }
   ],
   "source": [
    "from imblearn.over_sampling import SMOTE\n",
    "from collections import Counter\n",
    "\n",
    "smote = SMOTE(random_state=0)\n",
    "\n",
    "X_train_smote , y_train_smote = smote.fit_sample(X_train.astype(\"int\"), y_train.astype(\"int\"))\n",
    "\n",
    "print(\"Before Smote: \", Counter(y_train))\n",
    "print(\"After Smote: \", Counter(y_train_smote))\n",
    "\n",
    "# so as you can say from the results that before smoting we had only 20 samples from class 1\n",
    "# and we had 74 samples from class 0 so we performed smote to make them equal. \n",
    "\n",
    "max_age = X_train_smote[\"age\"].max()\n",
    "X_train_smote[\"age\"] = X_train_smote[\"age\"] / max_age\n",
    "X_test[\"age\"] = X_test[\"age\"] / max_age\n",
    "print(max_age)\n",
    "\n",
    "# X_test.head()\n",
    "X_train_smote.head()"
   ]
  },
  {
   "cell_type": "markdown",
   "metadata": {
    "colab_type": "text",
    "id": "HPHGL9gmbA_e"
   },
   "source": [
    "# Now building the model"
   ]
  },
  {
   "cell_type": "code",
   "execution_count": 31,
   "metadata": {
    "colab": {},
    "colab_type": "code",
    "id": "kA0MeOlZWCWk"
   },
   "outputs": [],
   "source": [
    "from sklearn.neighbors import KNeighborsClassifier\n",
    "from sklearn.metrics import accuracy_score\n",
    "from sklearn import preprocessing\n",
    "from sklearn.metrics import roc_curve\n",
    "import matplotlib.pyplot as plt\n",
    "from sklearn.metrics import classification_report\n",
    "\n",
    "# Normalising train and test data\n",
    "# min_max_scaler = preprocessing.MinMaxScaler()\n",
    "# X_train_scaled = min_max_scaler.fit_transform(X_train_smote)\n",
    "# X_test_scaled = min_max_scaler.fit_transform(X_test)\n",
    "\n",
    "\n",
    "model = KNeighborsClassifier(n_neighbors=10)\n",
    "model.fit(X_train_smote, y_train_smote)\n",
    "\n",
    "y_pred = model.predict(X_test)"
   ]
  },
  {
   "cell_type": "code",
   "execution_count": 32,
   "metadata": {
    "colab": {
     "base_uri": "https://localhost:8080/",
     "height": 314
    },
    "colab_type": "code",
    "id": "ps5IOVWqWCWn",
    "outputId": "f1059bc2-5eb4-4fc0-a5ac-583b17cff764"
   },
   "outputs": [
    {
     "name": "stdout",
     "output_type": "stream",
     "text": [
      "Testing accuracy is:  0.6666666666666666\n",
      "              precision    recall  f1-score   support\n",
      "\n",
      "           0       0.80      0.74      0.77        27\n",
      "           1       0.36      0.44      0.40         9\n",
      "\n",
      "    accuracy                           0.67        36\n",
      "   macro avg       0.58      0.59      0.58        36\n",
      "weighted avg       0.69      0.67      0.68        36\n",
      "\n"
     ]
    },
    {
     "data": {
      "text/html": [
       "<div>\n",
       "<style scoped>\n",
       "    .dataframe tbody tr th:only-of-type {\n",
       "        vertical-align: middle;\n",
       "    }\n",
       "\n",
       "    .dataframe tbody tr th {\n",
       "        vertical-align: top;\n",
       "    }\n",
       "\n",
       "    .dataframe thead th {\n",
       "        text-align: right;\n",
       "    }\n",
       "</style>\n",
       "<table border=\"1\" class=\"dataframe\">\n",
       "  <thead>\n",
       "    <tr style=\"text-align: right;\">\n",
       "      <th>col_0</th>\n",
       "      <th>0</th>\n",
       "      <th>1</th>\n",
       "    </tr>\n",
       "    <tr>\n",
       "      <th>row_0</th>\n",
       "      <th></th>\n",
       "      <th></th>\n",
       "    </tr>\n",
       "  </thead>\n",
       "  <tbody>\n",
       "    <tr>\n",
       "      <th>0</th>\n",
       "      <td>20</td>\n",
       "      <td>7</td>\n",
       "    </tr>\n",
       "    <tr>\n",
       "      <th>1</th>\n",
       "      <td>5</td>\n",
       "      <td>4</td>\n",
       "    </tr>\n",
       "  </tbody>\n",
       "</table>\n",
       "</div>"
      ],
      "text/plain": [
       "col_0   0  1\n",
       "row_0       \n",
       "0      20  7\n",
       "1       5  4"
      ]
     },
     "execution_count": 32,
     "metadata": {},
     "output_type": "execute_result"
    }
   ],
   "source": [
    "y_test = np.array(y_test).astype(\"int\")\n",
    "print(\"Testing accuracy is: \", accuracy_score(y_test, y_pred))\n",
    "print(classification_report(y_test, y_pred))\n",
    "pd.crosstab(y_test, y_pred)"
   ]
  },
  {
   "cell_type": "code",
   "execution_count": 33,
   "metadata": {
    "colab": {
     "base_uri": "https://localhost:8080/",
     "height": 713
    },
    "colab_type": "code",
    "id": "xUV-_aZqWCWq",
    "outputId": "77b1a665-0eab-44a7-9086-715ca2bfb93d"
   },
   "outputs": [
    {
     "name": "stdout",
     "output_type": "stream",
     "text": [
      "\n",
      "ROC curve value is:  0.6707818930041152\n",
      "Confusion matrix, without normalization\n",
      "[[20  7]\n",
      " [ 5  4]]\n"
     ]
    },
    {
     "data": {
      "image/png": "[encoded data removed]",
      "text/plain": [
       "<Figure size 720x720 with 2 Axes>"
      ]
     },
     "metadata": {
      "needs_background": "light"
     },
     "output_type": "display_data"
    }
   ],
   "source": [
    "# Probabilities for each class\n",
    "rf_probs = model.predict_proba(X_test)[:, 1]\n",
    "\n",
    "# Calculate roc auc\n",
    "roc_value = roc_auc_score(y_test, rf_probs)\n",
    "print()\n",
    "print(\"ROC curve value is: \", roc_value)\n",
    "\n",
    "# Plotting confusion matrix\n",
    "\n",
    "def plot_confusion_matrix(cm, classes,\n",
    "                          normalize=False,\n",
    "                          title='Confusion matrix',\n",
    "                          cmap=plt.cm.Oranges):\n",
    "    \"\"\"\n",
    "    This function prints and plots the confusion matrix.\n",
    "    Normalization can be applied by setting `normalize=True`.\n",
    "    Source: http://scikit-learn.org/stable/auto_examples/model_selection/plot_confusion_matrix.html\n",
    "    \"\"\"\n",
    "    if normalize:\n",
    "        cm = cm.astype('float') / cm.sum(axis=1)[:, np.newaxis]\n",
    "        print(\"Normalized confusion matrix\")\n",
    "    else:\n",
    "        print('Confusion matrix, without normalization')\n",
    "\n",
    "    print(cm)\n",
    "\n",
    "    # Plot the confusion matrix\n",
    "    plt.figure(figsize = (10, 10))\n",
    "    plt.imshow(cm, interpolation='nearest', cmap=cmap)\n",
    "    plt.title(title, size = 24)\n",
    "    plt.colorbar(aspect=4)\n",
    "    tick_marks = np.arange(len(classes))\n",
    "    plt.xticks(tick_marks, classes, rotation=45, size = 14)\n",
    "    plt.yticks(tick_marks, classes, size = 14)\n",
    "\n",
    "    fmt = '.2f' if normalize else 'd'\n",
    "    thresh = cm.max() / 2.\n",
    "    \n",
    "    # Labeling the plot\n",
    "    for i, j in itertools.product(range(cm.shape[0]), range(cm.shape[1])):\n",
    "        plt.text(j, i, format(cm[i, j], fmt), fontsize = 20,\n",
    "                 horizontalalignment=\"center\",\n",
    "                 color=\"white\" if cm[i, j] > thresh else \"black\")\n",
    "        \n",
    "    plt.grid(None)\n",
    "    plt.tight_layout()\n",
    "    plt.ylabel('True label', size = 18)\n",
    "    plt.xlabel('Predicted label', size = 18)\n",
    "\n",
    "# Confusion matrix\n",
    "cm = confusion_matrix(y_test, y_pred)\n",
    "plot_confusion_matrix(cm, classes = ['Covid', 'Not Covid'],\n",
    "                      title = 'Health Confusion Matrix')\n",
    "\n",
    "plt.savefig('text-cmat.png')"
   ]
  },
  {
   "cell_type": "code",
   "execution_count": 34,
   "metadata": {
    "colab": {},
    "colab_type": "code",
    "id": "956J2dUvWCWt"
   },
   "outputs": [],
   "source": [
    "# calculate roc curve\n",
    "ns_probs = [0 for _ in range(len(y_test))]\n",
    "\n",
    "fpr, tpr, thresholds = roc_curve(y_test, rf_probs)"
   ]
  },
  {
   "cell_type": "code",
   "execution_count": 35,
   "metadata": {
    "colab": {
     "base_uri": "https://localhost:8080/",
     "height": 296
    },
    "colab_type": "code",
    "id": "LSRvLQiwWCWw",
    "outputId": "95cbf640-3171-4d4c-c066-358500cd79b6"
   },
   "outputs": [
    {
     "data": {
      "text/plain": [
       "<matplotlib.legend.Legend at 0x7faa95ad4f10>"
      ]
     },
     "execution_count": 35,
     "metadata": {},
     "output_type": "execute_result"
    },
    {
     "data": {
      "image/png": "[encoded data removed]",
      "text/plain": [
       "<Figure size 432x288 with 1 Axes>"
      ]
     },
     "metadata": {
      "needs_background": "light"
     },
     "output_type": "display_data"
    }
   ],
   "source": [
    "# calculate roc curves\n",
    "ns_fpr, ns_tpr, _ = roc_curve(y_test, ns_probs)\n",
    "lr_fpr, lr_tpr, _ = roc_curve(y_test, rf_probs)\n",
    "# plot the roc curve for the model\n",
    "plt.plot(ns_fpr, ns_tpr, linestyle='--', label='No Skill')\n",
    "plt.plot(lr_fpr, lr_tpr, marker='.', label='Learning')\n",
    "# axis labels\n",
    "plt.xlabel('False Positive Rate')\n",
    "plt.ylabel('True Positive Rate')\n",
    "# show the legend\n",
    "plt.legend()"
   ]
  },
  {
   "cell_type": "markdown",
   "metadata": {
    "colab_type": "text",
    "id": "FY1DxcchWCW3"
   },
   "source": [
    "### Now down here I m gonna use XGBoost\n",
    "### along with RandomizedSearchCV for hyperparamter tuning"
   ]
  },
  {
   "cell_type": "code",
   "execution_count": 36,
   "metadata": {
    "colab": {
     "base_uri": "https://localhost:8080/",
     "height": 106
    },
    "colab_type": "code",
    "id": "oIvgVxRRWCW3",
    "outputId": "3989311d-ea1e-4cd7-9514-1e6b8521b439"
   },
   "outputs": [
    {
     "name": "stdout",
     "output_type": "stream",
     "text": [
      "Before Smote:  Counter({0: 65, 1: 17})\n",
      "After Smote:  Counter({0: 65, 1: 65})\n"
     ]
    },
    {
     "name": "stderr",
     "output_type": "stream",
     "text": [
      "/home/naufil/anaconda3/lib/python3.7/site-packages/ipykernel_launcher.py:10: SettingWithCopyWarning: \n",
      "A value is trying to be set on a copy of a slice from a DataFrame.\n",
      "Try using .loc[row_indexer,col_indexer] = value instead\n",
      "\n",
      "See the caveats in the documentation: https://pandas.pydata.org/pandas-docs/stable/user_guide/indexing.html#returning-a-view-versus-a-copy\n",
      "  # Remove the CWD from sys.path while we load stuff.\n"
     ]
    },
    {
     "data": {
      "text/html": [
       "<div>\n",
       "<style scoped>\n",
       "    .dataframe tbody tr th:only-of-type {\n",
       "        vertical-align: middle;\n",
       "    }\n",
       "\n",
       "    .dataframe tbody tr th {\n",
       "        vertical-align: top;\n",
       "    }\n",
       "\n",
       "    .dataframe thead th {\n",
       "        text-align: right;\n",
       "    }\n",
       "</style>\n",
       "<table border=\"1\" class=\"dataframe\">\n",
       "  <thead>\n",
       "    <tr style=\"text-align: right;\">\n",
       "      <th></th>\n",
       "      <th>age</th>\n",
       "      <th>gender</th>\n",
       "      <th>smoker</th>\n",
       "      <th>None,</th>\n",
       "      <th>Asthma or chronic lung disease,</th>\n",
       "      <th>Disease or conditions that make it harder to cough,</th>\n",
       "      <th>Diabetes with complications,</th>\n",
       "      <th>Pregnancy,</th>\n",
       "      <th>Congestive heart failure,</th>\n",
       "      <th>Extreme obesity</th>\n",
       "      <th>Fever,</th>\n",
       "      <th>chills,</th>\n",
       "      <th>or sweating,</th>\n",
       "      <th>Shortness of breath</th>\n",
       "      <th>Loss of taste,</th>\n",
       "      <th>Loss of smell,</th>\n",
       "      <th>New or worsening cough,</th>\n",
       "      <th>Sore throat,</th>\n",
       "      <th>Body aches,</th>\n",
       "      <th>Nothing</th>\n",
       "    </tr>\n",
       "  </thead>\n",
       "  <tbody>\n",
       "    <tr>\n",
       "      <th>0</th>\n",
       "      <td>0.307692</td>\n",
       "      <td>1</td>\n",
       "      <td>0</td>\n",
       "      <td>1</td>\n",
       "      <td>0</td>\n",
       "      <td>0</td>\n",
       "      <td>0</td>\n",
       "      <td>0</td>\n",
       "      <td>0</td>\n",
       "      <td>0</td>\n",
       "      <td>0</td>\n",
       "      <td>0</td>\n",
       "      <td>0</td>\n",
       "      <td>0</td>\n",
       "      <td>0</td>\n",
       "      <td>0</td>\n",
       "      <td>0</td>\n",
       "      <td>0</td>\n",
       "      <td>0</td>\n",
       "      <td>1</td>\n",
       "    </tr>\n",
       "    <tr>\n",
       "      <th>1</th>\n",
       "      <td>1.000000</td>\n",
       "      <td>2</td>\n",
       "      <td>0</td>\n",
       "      <td>0</td>\n",
       "      <td>1</td>\n",
       "      <td>0</td>\n",
       "      <td>0</td>\n",
       "      <td>0</td>\n",
       "      <td>0</td>\n",
       "      <td>0</td>\n",
       "      <td>0</td>\n",
       "      <td>0</td>\n",
       "      <td>0</td>\n",
       "      <td>1</td>\n",
       "      <td>0</td>\n",
       "      <td>0</td>\n",
       "      <td>1</td>\n",
       "      <td>0</td>\n",
       "      <td>0</td>\n",
       "      <td>0</td>\n",
       "    </tr>\n",
       "    <tr>\n",
       "      <th>2</th>\n",
       "      <td>0.507692</td>\n",
       "      <td>2</td>\n",
       "      <td>0</td>\n",
       "      <td>1</td>\n",
       "      <td>0</td>\n",
       "      <td>0</td>\n",
       "      <td>0</td>\n",
       "      <td>0</td>\n",
       "      <td>0</td>\n",
       "      <td>0</td>\n",
       "      <td>1</td>\n",
       "      <td>1</td>\n",
       "      <td>1</td>\n",
       "      <td>1</td>\n",
       "      <td>0</td>\n",
       "      <td>0</td>\n",
       "      <td>1</td>\n",
       "      <td>1</td>\n",
       "      <td>1</td>\n",
       "      <td>0</td>\n",
       "    </tr>\n",
       "    <tr>\n",
       "      <th>3</th>\n",
       "      <td>0.846154</td>\n",
       "      <td>0</td>\n",
       "      <td>0</td>\n",
       "      <td>1</td>\n",
       "      <td>0</td>\n",
       "      <td>0</td>\n",
       "      <td>0</td>\n",
       "      <td>0</td>\n",
       "      <td>0</td>\n",
       "      <td>0</td>\n",
       "      <td>1</td>\n",
       "      <td>1</td>\n",
       "      <td>1</td>\n",
       "      <td>1</td>\n",
       "      <td>0</td>\n",
       "      <td>0</td>\n",
       "      <td>0</td>\n",
       "      <td>0</td>\n",
       "      <td>0</td>\n",
       "      <td>0</td>\n",
       "    </tr>\n",
       "    <tr>\n",
       "      <th>4</th>\n",
       "      <td>0.307692</td>\n",
       "      <td>1</td>\n",
       "      <td>0</td>\n",
       "      <td>0</td>\n",
       "      <td>0</td>\n",
       "      <td>1</td>\n",
       "      <td>0</td>\n",
       "      <td>0</td>\n",
       "      <td>0</td>\n",
       "      <td>0</td>\n",
       "      <td>0</td>\n",
       "      <td>0</td>\n",
       "      <td>0</td>\n",
       "      <td>1</td>\n",
       "      <td>0</td>\n",
       "      <td>0</td>\n",
       "      <td>1</td>\n",
       "      <td>1</td>\n",
       "      <td>0</td>\n",
       "      <td>0</td>\n",
       "    </tr>\n",
       "  </tbody>\n",
       "</table>\n",
       "</div>"
      ],
      "text/plain": [
       "        age  gender  smoker  None,  Asthma or chronic lung disease,  \\\n",
       "0  0.307692       1       0      1                                0   \n",
       "1  1.000000       2       0      0                                1   \n",
       "2  0.507692       2       0      1                                0   \n",
       "3  0.846154       0       0      1                                0   \n",
       "4  0.307692       1       0      0                                0   \n",
       "\n",
       "   Disease or conditions that make it harder to cough,  \\\n",
       "0                                                  0     \n",
       "1                                                  0     \n",
       "2                                                  0     \n",
       "3                                                  0     \n",
       "4                                                  1     \n",
       "\n",
       "   Diabetes with complications,  Pregnancy,  Congestive heart failure,  \\\n",
       "0                             0           0                          0   \n",
       "1                             0           0                          0   \n",
       "2                             0           0                          0   \n",
       "3                             0           0                          0   \n",
       "4                             0           0                          0   \n",
       "\n",
       "   Extreme obesity  Fever,  chills,  or sweating,  Shortness of breath  \\\n",
       "0                0       0        0             0                    0   \n",
       "1                0       0        0             0                    1   \n",
       "2                0       1        1             1                    1   \n",
       "3                0       1        1             1                    1   \n",
       "4                0       0        0             0                    1   \n",
       "\n",
       "   Loss of taste,  Loss of smell,  New or worsening cough,  Sore throat,  \\\n",
       "0               0               0                        0             0   \n",
       "1               0               0                        1             0   \n",
       "2               0               0                        1             1   \n",
       "3               0               0                        0             0   \n",
       "4               0               0                        1             1   \n",
       "\n",
       "   Body aches,  Nothing  \n",
       "0            0        1  \n",
       "1            0        0  \n",
       "2            1        0  \n",
       "3            0        0  \n",
       "4            0        0  "
      ]
     },
     "execution_count": 36,
     "metadata": {},
     "output_type": "execute_result"
    }
   ],
   "source": [
    "X_train, X_test, y_train, y_test = train_test_split(df5, target_labels, test_size=0.30, random_state=40, shuffle=True)\n",
    "\n",
    "# doing oversampling on train data\n",
    "X_train_smote , y_train_smote = smote.fit_sample(X_train.astype(\"int\"), y_train.astype(\"int\"))\n",
    "print(\"Before Smote: \", Counter(y_train))\n",
    "print(\"After Smote: \", Counter(y_train_smote))\n",
    "\n",
    "max_age = X_train_smote[\"age\"].max()\n",
    "X_train_smote[\"age\"] = X_train_smote[\"age\"] / max_age\n",
    "X_test[\"age\"] = X_test[\"age\"] / max_age\n",
    "\n",
    "# X_test.head()\n",
    "X_train_smote.head()\n",
    "# Normalising train and test data\n",
    "\n",
    "# min_max_scaler = preprocessing.MinMaxScaler()\n",
    "# X_train_scaled = min_max_scaler.fit_transform(X_train_smote)\n",
    "# X_test_scaled = min_max_scaler.fit_transform(X_test)"
   ]
  },
  {
   "cell_type": "code",
   "execution_count": 37,
   "metadata": {
    "colab": {
     "base_uri": "https://localhost:8080/",
     "height": 69
    },
    "colab_type": "code",
    "id": "Bd7g8xreWCXE",
    "outputId": "19305ba9-d241-4e8a-917a-1ec47e3f7e65"
   },
   "outputs": [
    {
     "name": "stdout",
     "output_type": "stream",
     "text": [
      "Fitting 5 folds for each of 5 candidates, totalling 25 fits\n"
     ]
    },
    {
     "name": "stderr",
     "output_type": "stream",
     "text": [
      "[Parallel(n_jobs=-1)]: Using backend LokyBackend with 8 concurrent workers.\n",
      "[Parallel(n_jobs=-1)]: Done  19 out of  25 | elapsed:    4.4s remaining:    1.4s\n",
      "[Parallel(n_jobs=-1)]: Done  25 out of  25 | elapsed:    4.5s finished\n"
     ]
    }
   ],
   "source": [
    "from sklearn.model_selection import RandomizedSearchCV, GridSearchCV\n",
    "import xgboost\n",
    "\n",
    "## Hyper Parameter Optimization\n",
    "\n",
    "params = {\n",
    " \"learning_rate\"    : [0.05, 0.10, 0.15, 0.20, 0.25, 0.30 ] ,\n",
    " \"max_depth\"        : [ 3, 4, 5, 6, 8, 10, 12, 15],\n",
    " \"min_child_weight\" : [ 1, 3, 5, 7 ],\n",
    " \"gamma\"            : [ 0.0, 0.1, 0.2 , 0.3, 0.4 ],\n",
    " \"colsample_bytree\" : [ 0.3, 0.4, 0.5 , 0.7 ]\n",
    "    \n",
    "}\n",
    "\n",
    "\n",
    "classifier=xgboost.XGBClassifier()\n",
    "\n",
    "random_search=RandomizedSearchCV(classifier, param_distributions=params, n_iter=5,   \n",
    "                                 scoring='roc_auc', n_jobs=-1, cv=5,verbose=3)\n",
    "\n",
    "# n_iter defines how many times your hyperparamters combination will be tested. \n",
    "\n",
    "random_search_model = random_search.fit(X_train_smote, y_train_smote)"
   ]
  },
  {
   "cell_type": "code",
   "execution_count": 38,
   "metadata": {
    "colab": {
     "base_uri": "https://localhost:8080/",
     "height": 138
    },
    "colab_type": "code",
    "id": "clHnaevIWCXV",
    "outputId": "0169e93b-4273-4880-92a8-d56f1061f26c"
   },
   "outputs": [
    {
     "data": {
      "text/plain": [
       "XGBClassifier(base_score=0.5, booster=None, colsample_bylevel=1,\n",
       "              colsample_bynode=1, colsample_bytree=0.5, gamma=0.0, gpu_id=-1,\n",
       "              importance_type='gain', interaction_constraints=None,\n",
       "              learning_rate=0.05, max_delta_step=0, max_depth=6,\n",
       "              min_child_weight=1, missing=nan, monotone_constraints=None,\n",
       "              n_estimators=100, n_jobs=0, num_parallel_tree=1,\n",
       "              objective='binary:logistic', random_state=0, reg_alpha=0,\n",
       "              reg_lambda=1, scale_pos_weight=1, subsample=1, tree_method=None,\n",
       "              validate_parameters=False, verbosity=None)"
      ]
     },
     "execution_count": 38,
     "metadata": {},
     "output_type": "execute_result"
    }
   ],
   "source": [
    "random_search.best_estimator_"
   ]
  },
  {
   "cell_type": "code",
   "execution_count": 39,
   "metadata": {
    "colab": {
     "base_uri": "https://localhost:8080/",
     "height": 103
    },
    "colab_type": "code",
    "id": "J6WqLLlPWCXn",
    "outputId": "968eedcf-42d3-4358-a694-82846c06d4dd"
   },
   "outputs": [
    {
     "data": {
      "text/plain": [
       "{'min_child_weight': 1,\n",
       " 'max_depth': 6,\n",
       " 'learning_rate': 0.05,\n",
       " 'gamma': 0.0,\n",
       " 'colsample_bytree': 0.5}"
      ]
     },
     "execution_count": 39,
     "metadata": {},
     "output_type": "execute_result"
    }
   ],
   "source": [
    "random_search.best_params_"
   ]
  },
  {
   "cell_type": "code",
   "execution_count": 40,
   "metadata": {
    "colab": {
     "base_uri": "https://localhost:8080/",
     "height": 123
    },
    "colab_type": "code",
    "id": "X4PWRmsyWCXv",
    "outputId": "6c9b2942-fb0c-4732-9d8a-50764143e9c9"
   },
   "outputs": [
    {
     "name": "stderr",
     "output_type": "stream",
     "text": [
      "/home/naufil/anaconda3/lib/python3.7/site-packages/sklearn/model_selection/_split.py:667: UserWarning: The least populated class in y has only 9 members, which is less than n_splits=10.\n",
      "  % (min_groups, self.n_splits)), UserWarning)\n"
     ]
    },
    {
     "name": "stdout",
     "output_type": "stream",
     "text": [
      "[0.5        0.75       0.25       0.5        0.75       0.75\n",
      " 0.66666667 0.33333333 0.33333333 0.66666667]\n",
      "0.55\n"
     ]
    }
   ],
   "source": [
    "from sklearn.model_selection import cross_val_score\n",
    "score=cross_val_score(classifier, X_test, y_test ,cv=10)\n",
    "print(score)\n",
    "print(score.mean())"
   ]
  },
  {
   "cell_type": "code",
   "execution_count": 41,
   "metadata": {
    "colab": {},
    "colab_type": "code",
    "id": "w85NfSrhWCX1"
   },
   "outputs": [],
   "source": [
    "classifier = xgboost.XGBClassifier(base_score=0.5, booster='gbtree', colsample_bylevel=1,\n",
    "              colsample_bynode=1, colsample_bytree=0.5, gamma=0.4,\n",
    "              learning_rate=0.3, max_delta_step=0, max_depth=8,\n",
    "              min_child_weight=3, missing=None, n_estimators=100, n_jobs=1,\n",
    "              nthread=None, objective='binary:logistic', random_state=0,\n",
    "              reg_alpha=0, reg_lambda=1, scale_pos_weight=1, seed=None,\n",
    "              silent=None, subsample=1, verbosity=1)"
   ]
  },
  {
   "cell_type": "code",
   "execution_count": 42,
   "metadata": {
    "colab": {
     "base_uri": "https://localhost:8080/",
     "height": 331
    },
    "colab_type": "code",
    "id": "CF0rJsrlWCX9",
    "outputId": "69b1f5b3-f4d7-4343-fc2d-ae1513fa53d9"
   },
   "outputs": [
    {
     "name": "stdout",
     "output_type": "stream",
     "text": [
      "Testing accuracy is:  0.75\n",
      "              precision    recall  f1-score   support\n",
      "\n",
      "           0       0.80      0.89      0.84        27\n",
      "           1       0.50      0.33      0.40         9\n",
      "\n",
      "    accuracy                           0.75        36\n",
      "   macro avg       0.65      0.61      0.62        36\n",
      "weighted avg       0.73      0.75      0.73        36\n",
      "\n",
      "None\n"
     ]
    },
    {
     "data": {
      "text/html": [
       "<div>\n",
       "<style scoped>\n",
       "    .dataframe tbody tr th:only-of-type {\n",
       "        vertical-align: middle;\n",
       "    }\n",
       "\n",
       "    .dataframe tbody tr th {\n",
       "        vertical-align: top;\n",
       "    }\n",
       "\n",
       "    .dataframe thead th {\n",
       "        text-align: right;\n",
       "    }\n",
       "</style>\n",
       "<table border=\"1\" class=\"dataframe\">\n",
       "  <thead>\n",
       "    <tr style=\"text-align: right;\">\n",
       "      <th>col_0</th>\n",
       "      <th>0</th>\n",
       "      <th>1</th>\n",
       "    </tr>\n",
       "    <tr>\n",
       "      <th>row_0</th>\n",
       "      <th></th>\n",
       "      <th></th>\n",
       "    </tr>\n",
       "  </thead>\n",
       "  <tbody>\n",
       "    <tr>\n",
       "      <th>0</th>\n",
       "      <td>24</td>\n",
       "      <td>3</td>\n",
       "    </tr>\n",
       "    <tr>\n",
       "      <th>1</th>\n",
       "      <td>6</td>\n",
       "      <td>3</td>\n",
       "    </tr>\n",
       "  </tbody>\n",
       "</table>\n",
       "</div>"
      ],
      "text/plain": [
       "col_0   0  1\n",
       "row_0       \n",
       "0      24  3\n",
       "1       6  3"
      ]
     },
     "execution_count": 42,
     "metadata": {},
     "output_type": "execute_result"
    }
   ],
   "source": [
    "classifier.fit(X_train_smote, y_train_smote)\n",
    "\n",
    "y_pred = classifier.predict(X_test)\n",
    "\n",
    "y_test = np.array(y_test).astype(\"int\")\n",
    "# y_test\n",
    "print(\"Testing accuracy is: \", accuracy_score(y_test, y_pred))\n",
    "print(print(classification_report(y_test, y_pred)))\n",
    "pd.crosstab(y_test, y_pred)"
   ]
  },
  {
   "cell_type": "code",
   "execution_count": 43,
   "metadata": {
    "colab": {
     "base_uri": "https://localhost:8080/",
     "height": 713
    },
    "colab_type": "code",
    "id": "42Z61TNxWCYB",
    "outputId": "ba56b280-6f36-4424-e596-619f0bd24579"
   },
   "outputs": [
    {
     "name": "stdout",
     "output_type": "stream",
     "text": [
      "\n",
      "ROC curve value is:  0.7551440329218108\n",
      "Confusion matrix, without normalization\n",
      "[[24  3]\n",
      " [ 6  3]]\n"
     ]
    },
    {
     "data": {
      "image/png": "[encoded data removed]",
      "text/plain": [
       "<Figure size 720x720 with 2 Axes>"
      ]
     },
     "metadata": {
      "needs_background": "light"
     },
     "output_type": "display_data"
    }
   ],
   "source": [
    "# Probabilities for each class\n",
    "rf_probs = model.predict_proba(X_test)[:, 1]\n",
    "\n",
    "# Calculate roc auc\n",
    "roc_value = roc_auc_score(y_test, rf_probs)\n",
    "print()\n",
    "print(\"ROC curve value is: \", roc_value)\n",
    "\n",
    "# Plotting confusion matrix\n",
    "\n",
    "def plot_confusion_matrix(cm, classes,\n",
    "                          normalize=False,\n",
    "                          title='Confusion matrix',\n",
    "                          cmap=plt.cm.Oranges):\n",
    "    \"\"\"\n",
    "    This function prints and plots the confusion matrix.\n",
    "    Normalization can be applied by setting `normalize=True`.\n",
    "    Source: http://scikit-learn.org/stable/auto_examples/model_selection/plot_confusion_matrix.html\n",
    "    \"\"\"\n",
    "    if normalize:\n",
    "        cm = cm.astype('float') / cm.sum(axis=1)[:, np.newaxis]\n",
    "        print(\"Normalized confusion matrix\")\n",
    "    else:\n",
    "        print('Confusion matrix, without normalization')\n",
    "\n",
    "    print(cm)\n",
    "\n",
    "    # Plot the confusion matrix\n",
    "    plt.figure(figsize = (10, 10))\n",
    "    plt.imshow(cm, interpolation='nearest', cmap=cmap)\n",
    "    plt.title(title, size = 24)\n",
    "    plt.colorbar(aspect=4)\n",
    "    tick_marks = np.arange(len(classes))\n",
    "    plt.xticks(tick_marks, classes, rotation=45, size = 14)\n",
    "    plt.yticks(tick_marks, classes, size = 14)\n",
    "\n",
    "    fmt = '.2f' if normalize else 'd'\n",
    "    thresh = cm.max() / 2.\n",
    "    \n",
    "    # Labeling the plot\n",
    "    for i, j in itertools.product(range(cm.shape[0]), range(cm.shape[1])):\n",
    "        plt.text(j, i, format(cm[i, j], fmt), fontsize = 20,\n",
    "                 horizontalalignment=\"center\",\n",
    "                 color=\"white\" if cm[i, j] > thresh else \"black\")\n",
    "        \n",
    "    plt.grid(None)\n",
    "    plt.tight_layout()\n",
    "    plt.ylabel('True label', size = 18)\n",
    "    plt.xlabel('Predicted label', size = 18)\n",
    "\n",
    "# Confusion matrix\n",
    "cm = confusion_matrix(y_test, y_pred)\n",
    "plot_confusion_matrix(cm, classes = ['Covid', 'Not Covid'],\n",
    "                      title = 'Health Confusion Matrix')\n",
    "\n",
    "plt.savefig('text-cmat2.png')"
   ]
  },
  {
   "cell_type": "markdown",
   "metadata": {
    "colab_type": "text",
    "id": "Mu7eRM5JWCYG"
   },
   "source": [
    "##### NOTE: you can make prediction using randomized_search_hyperparameter_model as well. "
   ]
  },
  {
   "cell_type": "code",
   "execution_count": 44,
   "metadata": {
    "colab": {
     "base_uri": "https://localhost:8080/",
     "height": 331
    },
    "colab_type": "code",
    "id": "pWebppcPWCYH",
    "outputId": "06c5a039-ce46-49a5-891b-26e42e84fadb"
   },
   "outputs": [
    {
     "name": "stdout",
     "output_type": "stream",
     "text": [
      "Testing accuracy is:  0.5833333333333334\n",
      "              precision    recall  f1-score   support\n",
      "\n",
      "           0       0.75      0.67      0.71        27\n",
      "           1       0.25      0.33      0.29         9\n",
      "\n",
      "    accuracy                           0.58        36\n",
      "   macro avg       0.50      0.50      0.50        36\n",
      "weighted avg       0.62      0.58      0.60        36\n",
      "\n",
      "None\n"
     ]
    },
    {
     "data": {
      "text/html": [
       "<div>\n",
       "<style scoped>\n",
       "    .dataframe tbody tr th:only-of-type {\n",
       "        vertical-align: middle;\n",
       "    }\n",
       "\n",
       "    .dataframe tbody tr th {\n",
       "        vertical-align: top;\n",
       "    }\n",
       "\n",
       "    .dataframe thead th {\n",
       "        text-align: right;\n",
       "    }\n",
       "</style>\n",
       "<table border=\"1\" class=\"dataframe\">\n",
       "  <thead>\n",
       "    <tr style=\"text-align: right;\">\n",
       "      <th>col_0</th>\n",
       "      <th>0</th>\n",
       "      <th>1</th>\n",
       "    </tr>\n",
       "    <tr>\n",
       "      <th>row_0</th>\n",
       "      <th></th>\n",
       "      <th></th>\n",
       "    </tr>\n",
       "  </thead>\n",
       "  <tbody>\n",
       "    <tr>\n",
       "      <th>0</th>\n",
       "      <td>18</td>\n",
       "      <td>9</td>\n",
       "    </tr>\n",
       "    <tr>\n",
       "      <th>1</th>\n",
       "      <td>6</td>\n",
       "      <td>3</td>\n",
       "    </tr>\n",
       "  </tbody>\n",
       "</table>\n",
       "</div>"
      ],
      "text/plain": [
       "col_0   0  1\n",
       "row_0       \n",
       "0      18  9\n",
       "1       6  3"
      ]
     },
     "execution_count": 44,
     "metadata": {},
     "output_type": "execute_result"
    }
   ],
   "source": [
    "y_pred = random_search_model.predict(X_test)\n",
    "\n",
    "y_test = np.array(y_test).astype(\"int\")\n",
    "# y_test\n",
    "print(\"Testing accuracy is: \", accuracy_score(y_test, y_pred))\n",
    "print(print(classification_report(y_test, y_pred)))\n",
    "pd.crosstab(y_test, y_pred)"
   ]
  },
  {
   "cell_type": "markdown",
   "metadata": {
    "colab_type": "text",
    "id": "uRYi2doMWCYW"
   },
   "source": [
    "# Spliting data into training, validation and testing.\n",
    "# and trying XGBoost "
   ]
  },
  {
   "cell_type": "code",
   "execution_count": 74,
   "metadata": {
    "colab": {
     "base_uri": "https://localhost:8080/",
     "height": 106
    },
    "colab_type": "code",
    "id": "3GMSFmJIWCYW",
    "outputId": "25b1a0fd-7285-4ce0-ade6-890dedbd20ed"
   },
   "outputs": [
    {
     "name": "stdout",
     "output_type": "stream",
     "text": [
      "Before Smote:  Counter({0: 62, 1: 20})\n",
      "After Smote:  Counter({0: 62, 1: 62})\n"
     ]
    },
    {
     "name": "stderr",
     "output_type": "stream",
     "text": [
      "/home/naufil/anaconda3/lib/python3.7/site-packages/ipykernel_launcher.py:13: SettingWithCopyWarning: \n",
      "A value is trying to be set on a copy of a slice from a DataFrame.\n",
      "Try using .loc[row_indexer,col_indexer] = value instead\n",
      "\n",
      "See the caveats in the documentation: https://pandas.pydata.org/pandas-docs/stable/user_guide/indexing.html#returning-a-view-versus-a-copy\n",
      "  del sys.path[0]\n"
     ]
    }
   ],
   "source": [
    "from sklearn.model_selection import train_test_split\n",
    "\n",
    "X_train, X_test, y_train, y_test = train_test_split(df5, target_labels, test_size=0.30, random_state=50, shuffle=True)\n",
    "# X_train, X_val, y_train, y_val = train_test_split(X_train, y_train, test_size=0.30, random_state=50, shuffle=True)\n",
    "#split in between train, validation and test\n",
    "#  cross validation instead of train_test_split\n",
    "\n",
    "# doing over sampling\n",
    "X_train_smote , y_train_smote = smote.fit_sample(X_train.astype(\"int\"), y_train.astype(\"int\"))\n",
    "print(\"Before Smote: \", Counter(y_train))\n",
    "print(\"After Smote: \", Counter(y_train_smote))\n",
    "\n",
    "max_age = X_train_smote[\"age\"].max()\n",
    "X_train_smote[\"age\"] = X_train_smote[\"age\"] / max_age\n",
    "X_test[\"age\"] = X_test[\"age\"] / max_age\n",
    "\n",
    "\n",
    "# # Normalising train, val and test data\n",
    "# np.random.seed(1)\n",
    "# min_max_scaler = preprocessing.MinMaxScaler()\n",
    "# X_train_scaled = min_max_scaler.fit_transform(X_train_smote)\n",
    "# # X_val_scaled = min_max_scaler.fit_transform(X_val)\n",
    "# X_test_scaled = min_max_scaler.fit_transform(X_test)"
   ]
  },
  {
   "cell_type": "code",
   "execution_count": 75,
   "metadata": {
    "colab": {
     "base_uri": "https://localhost:8080/",
     "height": 69
    },
    "colab_type": "code",
    "id": "5LkkcZ3SWCYZ",
    "outputId": "a8eb40d3-607e-44ca-c45f-9f6ad6284a05"
   },
   "outputs": [
    {
     "name": "stdout",
     "output_type": "stream",
     "text": [
      "Fitting 5 folds for each of 5 candidates, totalling 25 fits\n"
     ]
    },
    {
     "name": "stderr",
     "output_type": "stream",
     "text": [
      "[Parallel(n_jobs=-1)]: Using backend LokyBackend with 8 concurrent workers.\n",
      "[Parallel(n_jobs=-1)]: Done  19 out of  25 | elapsed:    6.5s remaining:    2.1s\n",
      "[Parallel(n_jobs=-1)]: Done  25 out of  25 | elapsed:    6.6s finished\n"
     ]
    }
   ],
   "source": [
    "from sklearn.model_selection import RandomizedSearchCV, GridSearchCV\n",
    "import xgboost\n",
    "\n",
    "## Hyper Parameter Optimization\n",
    "\n",
    "params = {\n",
    " \"learning_rate\"    : [0.05, 0.10, 0.15, 0.20, 0.25, 0.30 ] ,\n",
    " \"max_depth\"        : [ 3, 4, 5, 6, 8, 10, 12, 15],\n",
    " \"min_child_weight\" : [ 1, 3, 5, 7 ],\n",
    " \"gamma\"            : [ 0.0, 0.1, 0.2 , 0.3, 0.4 ],\n",
    " \"colsample_bytree\" : [ 0.3, 0.4, 0.5 , 0.7 ]\n",
    "}\n",
    "\n",
    "\n",
    "classifier=xgboost.XGBClassifier()\n",
    "\n",
    "random_search=RandomizedSearchCV(classifier, param_distributions=params, n_iter=5,   \n",
    "                                 scoring='roc_auc', n_jobs=-1, cv=5,verbose=3)\n",
    "\n",
    "# n_iter defines how many times your hyperparamters combination will be tested. \n",
    "\n",
    "random_search_model = random_search.fit(X_train_smote, y_train_smote)"
   ]
  },
  {
   "cell_type": "code",
   "execution_count": 76,
   "metadata": {
    "colab": {
     "base_uri": "https://localhost:8080/",
     "height": 138
    },
    "colab_type": "code",
    "id": "_oLpNsfAWCYe",
    "outputId": "c74d2c2f-87dd-4036-d73f-04239c2daa32"
   },
   "outputs": [
    {
     "data": {
      "text/plain": [
       "XGBClassifier(base_score=0.5, booster=None, colsample_bylevel=1,\n",
       "              colsample_bynode=1, colsample_bytree=0.5, gamma=0.4, gpu_id=-1,\n",
       "              importance_type='gain', interaction_constraints=None,\n",
       "              learning_rate=0.05, max_delta_step=0, max_depth=4,\n",
       "              min_child_weight=1, missing=nan, monotone_constraints=None,\n",
       "              n_estimators=100, n_jobs=0, num_parallel_tree=1,\n",
       "              objective='binary:logistic', random_state=0, reg_alpha=0,\n",
       "              reg_lambda=1, scale_pos_weight=1, subsample=1, tree_method=None,\n",
       "              validate_parameters=False, verbosity=None)"
      ]
     },
     "execution_count": 76,
     "metadata": {},
     "output_type": "execute_result"
    }
   ],
   "source": [
    "# This shows best paramter for your model\n",
    "random_search_model.best_estimator_"
   ]
  },
  {
   "cell_type": "code",
   "execution_count": 77,
   "metadata": {
    "colab": {
     "base_uri": "https://localhost:8080/",
     "height": 103
    },
    "colab_type": "code",
    "id": "FKLnCxC9WCYh",
    "outputId": "76cdbdae-ea0c-4bfb-ca6b-4037f7926ee4"
   },
   "outputs": [
    {
     "data": {
      "text/plain": [
       "{'min_child_weight': 1,\n",
       " 'max_depth': 4,\n",
       " 'learning_rate': 0.05,\n",
       " 'gamma': 0.4,\n",
       " 'colsample_bytree': 0.5}"
      ]
     },
     "execution_count": 77,
     "metadata": {},
     "output_type": "execute_result"
    }
   ],
   "source": [
    "# This is almost the same but less concise.\n",
    "random_search_model.best_params_"
   ]
  },
  {
   "cell_type": "code",
   "execution_count": 78,
   "metadata": {
    "colab": {},
    "colab_type": "code",
    "id": "xqGhFP1hWCYk"
   },
   "outputs": [],
   "source": [
    "classifier = xgboost.XGBClassifier(base_score=0.5, booster='gbtree', colsample_bylevel=1,\n",
    "              colsample_bynode=1, colsample_bytree=0.3, gamma=0.3,\n",
    "              learning_rate=0.05, max_delta_step=0, max_depth=15,\n",
    "              min_child_weight=1, missing=None, n_estimators=100, n_jobs=1,\n",
    "              nthread=None, objective='binary:logistic', random_state=0,\n",
    "              reg_alpha=0, reg_lambda=1, scale_pos_weight=1, seed=None,\n",
    "              silent=None, subsample=1, verbosity=1)"
   ]
  },
  {
   "cell_type": "code",
   "execution_count": 79,
   "metadata": {
    "colab": {
     "base_uri": "https://localhost:8080/",
     "height": 331
    },
    "colab_type": "code",
    "id": "OIb7JCl9WCYm",
    "outputId": "2b47525f-20f4-4401-8a3b-3f83507908df"
   },
   "outputs": [
    {
     "name": "stdout",
     "output_type": "stream",
     "text": [
      "Testing accuracy is:  0.6666666666666666\n",
      "              precision    recall  f1-score   support\n",
      "\n",
      "           0       0.85      0.73      0.79        30\n",
      "           1       0.20      0.33      0.25         6\n",
      "\n",
      "    accuracy                           0.67        36\n",
      "   macro avg       0.52      0.53      0.52        36\n",
      "weighted avg       0.74      0.67      0.70        36\n",
      "\n",
      "None\n"
     ]
    },
    {
     "data": {
      "text/html": [
       "<div>\n",
       "<style scoped>\n",
       "    .dataframe tbody tr th:only-of-type {\n",
       "        vertical-align: middle;\n",
       "    }\n",
       "\n",
       "    .dataframe tbody tr th {\n",
       "        vertical-align: top;\n",
       "    }\n",
       "\n",
       "    .dataframe thead th {\n",
       "        text-align: right;\n",
       "    }\n",
       "</style>\n",
       "<table border=\"1\" class=\"dataframe\">\n",
       "  <thead>\n",
       "    <tr style=\"text-align: right;\">\n",
       "      <th>col_0</th>\n",
       "      <th>0</th>\n",
       "      <th>1</th>\n",
       "    </tr>\n",
       "    <tr>\n",
       "      <th>row_0</th>\n",
       "      <th></th>\n",
       "      <th></th>\n",
       "    </tr>\n",
       "  </thead>\n",
       "  <tbody>\n",
       "    <tr>\n",
       "      <th>0</th>\n",
       "      <td>22</td>\n",
       "      <td>8</td>\n",
       "    </tr>\n",
       "    <tr>\n",
       "      <th>1</th>\n",
       "      <td>4</td>\n",
       "      <td>2</td>\n",
       "    </tr>\n",
       "  </tbody>\n",
       "</table>\n",
       "</div>"
      ],
      "text/plain": [
       "col_0   0  1\n",
       "row_0       \n",
       "0      22  8\n",
       "1       4  2"
      ]
     },
     "execution_count": 79,
     "metadata": {},
     "output_type": "execute_result"
    }
   ],
   "source": [
    "classifier.fit(X_train_smote, y_train_smote)\n",
    "\n",
    "y_pred = classifier.predict(X_test)\n",
    "\n",
    "y_test = np.array(y_test).astype(\"int\")\n",
    "# y_test\n",
    "print(\"Testing accuracy is: \", accuracy_score(y_test, y_pred))\n",
    "print(print(classification_report(y_test, y_pred)))\n",
    "pd.crosstab(y_test, y_pred)"
   ]
  },
  {
   "cell_type": "markdown",
   "metadata": {
    "colab_type": "text",
    "id": "Y5wtut3eWCYp"
   },
   "source": [
    "# Naive Bayes"
   ]
  },
  {
   "cell_type": "code",
   "execution_count": 80,
   "metadata": {
    "colab": {},
    "colab_type": "code",
    "id": "fIdHuVsdWCYq"
   },
   "outputs": [],
   "source": [
    "from sklearn.naive_bayes import GaussianNB"
   ]
  },
  {
   "cell_type": "code",
   "execution_count": 81,
   "metadata": {
    "colab": {
     "base_uri": "https://localhost:8080/",
     "height": 34
    },
    "colab_type": "code",
    "id": "ZDCfxGuxWCYt",
    "outputId": "6c94e631-f313-46b2-84bb-789a11632e6b"
   },
   "outputs": [
    {
     "name": "stdout",
     "output_type": "stream",
     "text": [
      "Accuracy on test dataset:  0.2222222222222222\n"
     ]
    }
   ],
   "source": [
    "clf = GaussianNB()\n",
    "clf.fit(X_train_smote,y_train_smote)\n",
    "print(\"Accuracy on test dataset: \", clf.score(X_test,y_test))"
   ]
  },
  {
   "cell_type": "markdown",
   "metadata": {
    "colab_type": "text",
    "id": "jTlPbGF3WCYx"
   },
   "source": [
    "# SVM"
   ]
  },
  {
   "cell_type": "code",
   "execution_count": 82,
   "metadata": {
    "colab": {},
    "colab_type": "code",
    "id": "w9PYldAxWCYy"
   },
   "outputs": [],
   "source": [
    "from sklearn.svm import SVC"
   ]
  },
  {
   "cell_type": "code",
   "execution_count": 83,
   "metadata": {
    "colab": {
     "base_uri": "https://localhost:8080/",
     "height": 86
    },
    "colab_type": "code",
    "id": "uKb4qxdOWCY4",
    "outputId": "71174d36-a35a-4901-d456-0fd2c41e6b3b"
   },
   "outputs": [
    {
     "name": "stdout",
     "output_type": "stream",
     "text": [
      "Accuracy on test dataset with linear kernel:  0.5\n",
      "Accuracy on test dataset with poly kernel:  0.6111111111111112\n",
      "Accuracy on test dataset with rbf kernel:  0.7222222222222222\n",
      "Accuracy on test dataset with sigmoid kernel:  0.6111111111111112\n"
     ]
    }
   ],
   "source": [
    "# with default hyper parameter\n",
    "kernel = [\"linear\",\"poly\",\"rbf\",\"sigmoid\"]\n",
    "for i in kernel:\n",
    "    clf = SVC(kernel = i)\n",
    "    clf.fit(X_train_smote, y_train_smote)\n",
    "    pred = clf.predict(X_test)\n",
    "    print(\"Accuracy on test dataset with\",i,\"kernel: \", accuracy_score(pred,y_test)) "
   ]
  },
  {
   "cell_type": "code",
   "execution_count": 84,
   "metadata": {
    "colab": {},
    "colab_type": "code",
    "id": "-U1i12EfWCY7"
   },
   "outputs": [],
   "source": [
    "# hyper parameters for SVC\n",
    "kernel = [\"linear\",\"poly\",\"rbf\",\"sigmoid\"]\n",
    "degree = [2,3,4]\n",
    "gammas = [0.001, 0.01, 0.1, 1, 10, 100]\n",
    "# making C list  \n",
    "C=[1, 10, 100, 200, 300, 1000]\n"
   ]
  },
  {
   "cell_type": "code",
   "execution_count": 85,
   "metadata": {
    "colab": {
     "base_uri": "https://localhost:8080/",
     "height": 1000
    },
    "colab_type": "code",
    "id": "otoC1KGvWCY-",
    "outputId": "83e627cc-a749-412e-a4b9-c332415146ce"
   },
   "outputs": [
    {
     "name": "stdout",
     "output_type": "stream",
     "text": [
      "Accuracy on test dataset with linear kernel 2 degree 0.001 gamma 1 C:  0.5\n",
      "Accuracy on test dataset with linear kernel 2 degree 0.001 gamma 10 C:  0.5833333333333334\n",
      "Accuracy on test dataset with linear kernel 2 degree 0.001 gamma 100 C:  0.5833333333333334\n",
      "Accuracy on test dataset with linear kernel 2 degree 0.001 gamma 200 C:  0.5833333333333334\n",
      "Accuracy on test dataset with linear kernel 2 degree 0.001 gamma 300 C:  0.5833333333333334\n",
      "Accuracy on test dataset with linear kernel 2 degree 0.001 gamma 1000 C:  0.5833333333333334\n",
      "Accuracy on test dataset with linear kernel 2 degree 0.01 gamma 1 C:  0.5\n",
      "Accuracy on test dataset with linear kernel 2 degree 0.01 gamma 10 C:  0.5833333333333334\n",
      "Accuracy on test dataset with linear kernel 2 degree 0.01 gamma 100 C:  0.5833333333333334\n",
      "Accuracy on test dataset with linear kernel 2 degree 0.01 gamma 200 C:  0.5833333333333334\n",
      "Accuracy on test dataset with linear kernel 2 degree 0.01 gamma 300 C:  0.5833333333333334\n",
      "Accuracy on test dataset with linear kernel 2 degree 0.01 gamma 1000 C:  0.5833333333333334\n",
      "Accuracy on test dataset with linear kernel 2 degree 0.1 gamma 1 C:  0.5\n",
      "Accuracy on test dataset with linear kernel 2 degree 0.1 gamma 10 C:  0.5833333333333334\n",
      "Accuracy on test dataset with linear kernel 2 degree 0.1 gamma 100 C:  0.5833333333333334\n",
      "Accuracy on test dataset with linear kernel 2 degree 0.1 gamma 200 C:  0.5833333333333334\n",
      "Accuracy on test dataset with linear kernel 2 degree 0.1 gamma 300 C:  0.5833333333333334\n",
      "Accuracy on test dataset with linear kernel 2 degree 0.1 gamma 1000 C:  0.5833333333333334\n",
      "Accuracy on test dataset with linear kernel 2 degree 1 gamma 1 C:  0.5\n",
      "Accuracy on test dataset with linear kernel 2 degree 1 gamma 10 C:  0.5833333333333334\n",
      "Accuracy on test dataset with linear kernel 2 degree 1 gamma 100 C:  0.5833333333333334\n",
      "Accuracy on test dataset with linear kernel 2 degree 1 gamma 200 C:  0.5833333333333334\n",
      "Accuracy on test dataset with linear kernel 2 degree 1 gamma 300 C:  0.5833333333333334\n",
      "Accuracy on test dataset with linear kernel 2 degree 1 gamma 1000 C:  0.5833333333333334\n",
      "Accuracy on test dataset with linear kernel 2 degree 10 gamma 1 C:  0.5\n",
      "Accuracy on test dataset with linear kernel 2 degree 10 gamma 10 C:  0.5833333333333334\n",
      "Accuracy on test dataset with linear kernel 2 degree 10 gamma 100 C:  0.5833333333333334\n",
      "Accuracy on test dataset with linear kernel 2 degree 10 gamma 200 C:  0.5833333333333334\n",
      "Accuracy on test dataset with linear kernel 2 degree 10 gamma 300 C:  0.5833333333333334\n",
      "Accuracy on test dataset with linear kernel 2 degree 10 gamma 1000 C:  0.5833333333333334\n",
      "Accuracy on test dataset with linear kernel 2 degree 100 gamma 1 C:  0.5\n",
      "Accuracy on test dataset with linear kernel 2 degree 100 gamma 10 C:  0.5833333333333334\n",
      "Accuracy on test dataset with linear kernel 2 degree 100 gamma 100 C:  0.5833333333333334\n",
      "Accuracy on test dataset with linear kernel 2 degree 100 gamma 200 C:  0.5833333333333334\n",
      "Accuracy on test dataset with linear kernel 2 degree 100 gamma 300 C:  0.5833333333333334\n",
      "Accuracy on test dataset with linear kernel 2 degree 100 gamma 1000 C:  0.5833333333333334\n",
      "Accuracy on test dataset with linear kernel 3 degree 0.001 gamma 1 C:  0.5\n",
      "Accuracy on test dataset with linear kernel 3 degree 0.001 gamma 10 C:  0.5833333333333334\n",
      "Accuracy on test dataset with linear kernel 3 degree 0.001 gamma 100 C:  0.5833333333333334\n",
      "Accuracy on test dataset with linear kernel 3 degree 0.001 gamma 200 C:  0.5833333333333334\n",
      "Accuracy on test dataset with linear kernel 3 degree 0.001 gamma 300 C:  0.5833333333333334\n",
      "Accuracy on test dataset with linear kernel 3 degree 0.001 gamma 1000 C:  0.5833333333333334\n",
      "Accuracy on test dataset with linear kernel 3 degree 0.01 gamma 1 C:  0.5\n",
      "Accuracy on test dataset with linear kernel 3 degree 0.01 gamma 10 C:  0.5833333333333334\n",
      "Accuracy on test dataset with linear kernel 3 degree 0.01 gamma 100 C:  0.5833333333333334\n",
      "Accuracy on test dataset with linear kernel 3 degree 0.01 gamma 200 C:  0.5833333333333334\n",
      "Accuracy on test dataset with linear kernel 3 degree 0.01 gamma 300 C:  0.5833333333333334\n",
      "Accuracy on test dataset with linear kernel 3 degree 0.01 gamma 1000 C:  0.5833333333333334\n",
      "Accuracy on test dataset with linear kernel 3 degree 0.1 gamma 1 C:  0.5\n",
      "Accuracy on test dataset with linear kernel 3 degree 0.1 gamma 10 C:  0.5833333333333334\n",
      "Accuracy on test dataset with linear kernel 3 degree 0.1 gamma 100 C:  0.5833333333333334\n",
      "Accuracy on test dataset with linear kernel 3 degree 0.1 gamma 200 C:  0.5833333333333334\n",
      "Accuracy on test dataset with linear kernel 3 degree 0.1 gamma 300 C:  0.5833333333333334\n",
      "Accuracy on test dataset with linear kernel 3 degree 0.1 gamma 1000 C:  0.5833333333333334\n",
      "Accuracy on test dataset with linear kernel 3 degree 1 gamma 1 C:  0.5\n",
      "Accuracy on test dataset with linear kernel 3 degree 1 gamma 10 C:  0.5833333333333334\n",
      "Accuracy on test dataset with linear kernel 3 degree 1 gamma 100 C:  0.5833333333333334\n",
      "Accuracy on test dataset with linear kernel 3 degree 1 gamma 200 C:  0.5833333333333334\n",
      "Accuracy on test dataset with linear kernel 3 degree 1 gamma 300 C:  0.5833333333333334\n",
      "Accuracy on test dataset with linear kernel 3 degree 1 gamma 1000 C:  0.5833333333333334\n",
      "Accuracy on test dataset with linear kernel 3 degree 10 gamma 1 C:  0.5\n",
      "Accuracy on test dataset with linear kernel 3 degree 10 gamma 10 C:  0.5833333333333334\n",
      "Accuracy on test dataset with linear kernel 3 degree 10 gamma 100 C:  0.5833333333333334\n",
      "Accuracy on test dataset with linear kernel 3 degree 10 gamma 200 C:  0.5833333333333334\n",
      "Accuracy on test dataset with linear kernel 3 degree 10 gamma 300 C:  0.5833333333333334\n",
      "Accuracy on test dataset with linear kernel 3 degree 10 gamma 1000 C:  0.5833333333333334\n",
      "Accuracy on test dataset with linear kernel 3 degree 100 gamma 1 C:  0.5\n",
      "Accuracy on test dataset with linear kernel 3 degree 100 gamma 10 C:  0.5833333333333334\n",
      "Accuracy on test dataset with linear kernel 3 degree 100 gamma 100 C:  0.5833333333333334\n",
      "Accuracy on test dataset with linear kernel 3 degree 100 gamma 200 C:  0.5833333333333334\n",
      "Accuracy on test dataset with linear kernel 3 degree 100 gamma 300 C:  0.5833333333333334\n",
      "Accuracy on test dataset with linear kernel 3 degree 100 gamma 1000 C:  0.5833333333333334\n",
      "Accuracy on test dataset with linear kernel 4 degree 0.001 gamma 1 C:  0.5\n",
      "Accuracy on test dataset with linear kernel 4 degree 0.001 gamma 10 C:  0.5833333333333334\n",
      "Accuracy on test dataset with linear kernel 4 degree 0.001 gamma 100 C:  0.5833333333333334\n",
      "Accuracy on test dataset with linear kernel 4 degree 0.001 gamma 200 C:  0.5833333333333334\n",
      "Accuracy on test dataset with linear kernel 4 degree 0.001 gamma 300 C:  0.5833333333333334\n",
      "Accuracy on test dataset with linear kernel 4 degree 0.001 gamma 1000 C:  0.5833333333333334\n",
      "Accuracy on test dataset with linear kernel 4 degree 0.01 gamma 1 C:  0.5\n",
      "Accuracy on test dataset with linear kernel 4 degree 0.01 gamma 10 C:  0.5833333333333334\n",
      "Accuracy on test dataset with linear kernel 4 degree 0.01 gamma 100 C:  0.5833333333333334\n",
      "Accuracy on test dataset with linear kernel 4 degree 0.01 gamma 200 C:  0.5833333333333334\n",
      "Accuracy on test dataset with linear kernel 4 degree 0.01 gamma 300 C:  0.5833333333333334\n",
      "Accuracy on test dataset with linear kernel 4 degree 0.01 gamma 1000 C:  0.5833333333333334\n",
      "Accuracy on test dataset with linear kernel 4 degree 0.1 gamma 1 C:  0.5\n",
      "Accuracy on test dataset with linear kernel 4 degree 0.1 gamma 10 C:  0.5833333333333334\n",
      "Accuracy on test dataset with linear kernel 4 degree 0.1 gamma 100 C:  0.5833333333333334\n",
      "Accuracy on test dataset with linear kernel 4 degree 0.1 gamma 200 C:  0.5833333333333334\n",
      "Accuracy on test dataset with linear kernel 4 degree 0.1 gamma 300 C:  0.5833333333333334\n",
      "Accuracy on test dataset with linear kernel 4 degree 0.1 gamma 1000 C:  0.5833333333333334\n",
      "Accuracy on test dataset with linear kernel 4 degree 1 gamma 1 C:  0.5\n",
      "Accuracy on test dataset with linear kernel 4 degree 1 gamma 10 C:  0.5833333333333334\n",
      "Accuracy on test dataset with linear kernel 4 degree 1 gamma 100 C:  0.5833333333333334\n",
      "Accuracy on test dataset with linear kernel 4 degree 1 gamma 200 C:  0.5833333333333334\n"
     ]
    },
    {
     "name": "stdout",
     "output_type": "stream",
     "text": [
      "Accuracy on test dataset with linear kernel 4 degree 1 gamma 300 C:  0.5833333333333334\n",
      "Accuracy on test dataset with linear kernel 4 degree 1 gamma 1000 C:  0.5833333333333334\n",
      "Accuracy on test dataset with linear kernel 4 degree 10 gamma 1 C:  0.5\n",
      "Accuracy on test dataset with linear kernel 4 degree 10 gamma 10 C:  0.5833333333333334\n",
      "Accuracy on test dataset with linear kernel 4 degree 10 gamma 100 C:  0.5833333333333334\n",
      "Accuracy on test dataset with linear kernel 4 degree 10 gamma 200 C:  0.5833333333333334\n",
      "Accuracy on test dataset with linear kernel 4 degree 10 gamma 300 C:  0.5833333333333334\n",
      "Accuracy on test dataset with linear kernel 4 degree 10 gamma 1000 C:  0.5833333333333334\n",
      "Accuracy on test dataset with linear kernel 4 degree 100 gamma 1 C:  0.5\n",
      "Accuracy on test dataset with linear kernel 4 degree 100 gamma 10 C:  0.5833333333333334\n",
      "Accuracy on test dataset with linear kernel 4 degree 100 gamma 100 C:  0.5833333333333334\n",
      "Accuracy on test dataset with linear kernel 4 degree 100 gamma 200 C:  0.5833333333333334\n",
      "Accuracy on test dataset with linear kernel 4 degree 100 gamma 300 C:  0.5833333333333334\n",
      "Accuracy on test dataset with linear kernel 4 degree 100 gamma 1000 C:  0.5833333333333334\n",
      "Accuracy on test dataset with poly kernel 2 degree 0.001 gamma 1 C:  0.7222222222222222\n",
      "Accuracy on test dataset with poly kernel 2 degree 0.001 gamma 10 C:  0.7222222222222222\n",
      "Accuracy on test dataset with poly kernel 2 degree 0.001 gamma 100 C:  0.7222222222222222\n",
      "Accuracy on test dataset with poly kernel 2 degree 0.001 gamma 200 C:  0.7222222222222222\n",
      "Accuracy on test dataset with poly kernel 2 degree 0.001 gamma 300 C:  0.7222222222222222\n",
      "Accuracy on test dataset with poly kernel 2 degree 0.001 gamma 1000 C:  0.7222222222222222\n",
      "Accuracy on test dataset with poly kernel 2 degree 0.01 gamma 1 C:  0.7222222222222222\n",
      "Accuracy on test dataset with poly kernel 2 degree 0.01 gamma 10 C:  0.7222222222222222\n",
      "Accuracy on test dataset with poly kernel 2 degree 0.01 gamma 100 C:  0.6666666666666666\n",
      "Accuracy on test dataset with poly kernel 2 degree 0.01 gamma 200 C:  0.6666666666666666\n",
      "Accuracy on test dataset with poly kernel 2 degree 0.01 gamma 300 C:  0.5\n",
      "Accuracy on test dataset with poly kernel 2 degree 0.01 gamma 1000 C:  0.6666666666666666\n",
      "Accuracy on test dataset with poly kernel 2 degree 0.1 gamma 1 C:  0.6666666666666666\n",
      "Accuracy on test dataset with poly kernel 2 degree 0.1 gamma 10 C:  0.6666666666666666\n",
      "Accuracy on test dataset with poly kernel 2 degree 0.1 gamma 100 C:  0.7222222222222222\n",
      "Accuracy on test dataset with poly kernel 2 degree 0.1 gamma 200 C:  0.8055555555555556\n",
      "Accuracy on test dataset with poly kernel 2 degree 0.1 gamma 300 C:  0.8055555555555556\n",
      "Accuracy on test dataset with poly kernel 2 degree 0.1 gamma 1000 C:  0.7777777777777778\n",
      "Accuracy on test dataset with poly kernel 2 degree 1 gamma 1 C:  0.7222222222222222\n",
      "Accuracy on test dataset with poly kernel 2 degree 1 gamma 10 C:  0.7777777777777778\n",
      "Accuracy on test dataset with poly kernel 2 degree 1 gamma 100 C:  0.8055555555555556\n",
      "Accuracy on test dataset with poly kernel 2 degree 1 gamma 200 C:  0.75\n",
      "Accuracy on test dataset with poly kernel 2 degree 1 gamma 300 C:  0.75\n",
      "Accuracy on test dataset with poly kernel 2 degree 1 gamma 1000 C:  0.75\n",
      "Accuracy on test dataset with poly kernel 2 degree 10 gamma 1 C:  0.8055555555555556\n",
      "Accuracy on test dataset with poly kernel 2 degree 10 gamma 10 C:  0.75\n",
      "Accuracy on test dataset with poly kernel 2 degree 10 gamma 100 C:  0.75\n",
      "Accuracy on test dataset with poly kernel 2 degree 10 gamma 200 C:  0.75\n",
      "Accuracy on test dataset with poly kernel 2 degree 10 gamma 300 C:  0.7777777777777778\n",
      "Accuracy on test dataset with poly kernel 2 degree 10 gamma 1000 C:  0.7777777777777778\n",
      "Accuracy on test dataset with poly kernel 2 degree 100 gamma 1 C:  0.75\n",
      "Accuracy on test dataset with poly kernel 2 degree 100 gamma 10 C:  0.7222222222222222\n",
      "Accuracy on test dataset with poly kernel 2 degree 100 gamma 100 C:  0.6111111111111112\n",
      "Accuracy on test dataset with poly kernel 2 degree 100 gamma 200 C:  0.6388888888888888\n",
      "Accuracy on test dataset with poly kernel 2 degree 100 gamma 300 C:  0.6111111111111112\n",
      "Accuracy on test dataset with poly kernel 2 degree 100 gamma 1000 C:  0.5833333333333334\n",
      "Accuracy on test dataset with poly kernel 3 degree 0.001 gamma 1 C:  0.7777777777777778\n",
      "Accuracy on test dataset with poly kernel 3 degree 0.001 gamma 10 C:  0.7777777777777778\n",
      "Accuracy on test dataset with poly kernel 3 degree 0.001 gamma 100 C:  0.7777777777777778\n",
      "Accuracy on test dataset with poly kernel 3 degree 0.001 gamma 200 C:  0.7777777777777778\n",
      "Accuracy on test dataset with poly kernel 3 degree 0.001 gamma 300 C:  0.7777777777777778\n",
      "Accuracy on test dataset with poly kernel 3 degree 0.001 gamma 1000 C:  0.7777777777777778\n",
      "Accuracy on test dataset with poly kernel 3 degree 0.01 gamma 1 C:  0.7777777777777778\n",
      "Accuracy on test dataset with poly kernel 3 degree 0.01 gamma 10 C:  0.7777777777777778\n",
      "Accuracy on test dataset with poly kernel 3 degree 0.01 gamma 100 C:  0.7777777777777778\n",
      "Accuracy on test dataset with poly kernel 3 degree 0.01 gamma 200 C:  0.75\n",
      "Accuracy on test dataset with poly kernel 3 degree 0.01 gamma 300 C:  0.75\n",
      "Accuracy on test dataset with poly kernel 3 degree 0.01 gamma 1000 C:  0.75\n",
      "Accuracy on test dataset with poly kernel 3 degree 0.1 gamma 1 C:  0.75\n",
      "Accuracy on test dataset with poly kernel 3 degree 0.1 gamma 10 C:  0.5555555555555556\n",
      "Accuracy on test dataset with poly kernel 3 degree 0.1 gamma 100 C:  0.75\n",
      "Accuracy on test dataset with poly kernel 3 degree 0.1 gamma 200 C:  0.7777777777777778\n",
      "Accuracy on test dataset with poly kernel 3 degree 0.1 gamma 300 C:  0.7777777777777778\n",
      "Accuracy on test dataset with poly kernel 3 degree 0.1 gamma 1000 C:  0.75\n",
      "Accuracy on test dataset with poly kernel 3 degree 1 gamma 1 C:  0.75\n",
      "Accuracy on test dataset with poly kernel 3 degree 1 gamma 10 C:  0.8333333333333334\n",
      "Accuracy on test dataset with poly kernel 3 degree 1 gamma 100 C:  0.8333333333333334\n",
      "Accuracy on test dataset with poly kernel 3 degree 1 gamma 200 C:  0.8055555555555556\n",
      "Accuracy on test dataset with poly kernel 3 degree 1 gamma 300 C:  0.8055555555555556\n",
      "Accuracy on test dataset with poly kernel 3 degree 1 gamma 1000 C:  0.7222222222222222\n",
      "Accuracy on test dataset with poly kernel 3 degree 10 gamma 1 C:  0.7222222222222222\n",
      "Accuracy on test dataset with poly kernel 3 degree 10 gamma 10 C:  0.7777777777777778\n",
      "Accuracy on test dataset with poly kernel 3 degree 10 gamma 100 C:  0.6944444444444444\n",
      "Accuracy on test dataset with poly kernel 3 degree 10 gamma 200 C:  0.6944444444444444\n",
      "Accuracy on test dataset with poly kernel 3 degree 10 gamma 300 C:  0.6388888888888888\n",
      "Accuracy on test dataset with poly kernel 3 degree 10 gamma 1000 C:  0.6666666666666666\n",
      "Accuracy on test dataset with poly kernel 3 degree 100 gamma 1 C:  0.6944444444444444\n",
      "Accuracy on test dataset with poly kernel 3 degree 100 gamma 10 C:  0.6666666666666666\n",
      "Accuracy on test dataset with poly kernel 3 degree 100 gamma 100 C:  0.6944444444444444\n",
      "Accuracy on test dataset with poly kernel 3 degree 100 gamma 200 C:  0.6944444444444444\n",
      "Accuracy on test dataset with poly kernel 3 degree 100 gamma 300 C:  0.6944444444444444\n",
      "Accuracy on test dataset with poly kernel 3 degree 100 gamma 1000 C:  0.6944444444444444\n",
      "Accuracy on test dataset with poly kernel 4 degree 0.001 gamma 1 C:  0.8055555555555556\n",
      "Accuracy on test dataset with poly kernel 4 degree 0.001 gamma 10 C:  0.8055555555555556\n",
      "Accuracy on test dataset with poly kernel 4 degree 0.001 gamma 100 C:  0.8055555555555556\n",
      "Accuracy on test dataset with poly kernel 4 degree 0.001 gamma 200 C:  0.8055555555555556\n",
      "Accuracy on test dataset with poly kernel 4 degree 0.001 gamma 300 C:  0.8055555555555556\n",
      "Accuracy on test dataset with poly kernel 4 degree 0.001 gamma 1000 C:  0.8055555555555556\n",
      "Accuracy on test dataset with poly kernel 4 degree 0.01 gamma 1 C:  0.8055555555555556\n",
      "Accuracy on test dataset with poly kernel 4 degree 0.01 gamma 10 C:  0.8055555555555556\n",
      "Accuracy on test dataset with poly kernel 4 degree 0.01 gamma 100 C:  0.8055555555555556\n",
      "Accuracy on test dataset with poly kernel 4 degree 0.01 gamma 200 C:  0.8055555555555556\n",
      "Accuracy on test dataset with poly kernel 4 degree 0.01 gamma 300 C:  0.8055555555555556\n",
      "Accuracy on test dataset with poly kernel 4 degree 0.01 gamma 1000 C:  0.8055555555555556\n",
      "Accuracy on test dataset with poly kernel 4 degree 0.1 gamma 1 C:  0.7777777777777778\n",
      "Accuracy on test dataset with poly kernel 4 degree 0.1 gamma 10 C:  0.75\n",
      "Accuracy on test dataset with poly kernel 4 degree 0.1 gamma 100 C:  0.7222222222222222\n",
      "Accuracy on test dataset with poly kernel 4 degree 0.1 gamma 200 C:  0.75\n",
      "Accuracy on test dataset with poly kernel 4 degree 0.1 gamma 300 C:  0.75\n",
      "Accuracy on test dataset with poly kernel 4 degree 0.1 gamma 1000 C:  0.75\n",
      "Accuracy on test dataset with poly kernel 4 degree 1 gamma 1 C:  0.7777777777777778\n"
     ]
    },
    {
     "name": "stdout",
     "output_type": "stream",
     "text": [
      "Accuracy on test dataset with poly kernel 4 degree 1 gamma 10 C:  0.75\n",
      "Accuracy on test dataset with poly kernel 4 degree 1 gamma 100 C:  0.7222222222222222\n",
      "Accuracy on test dataset with poly kernel 4 degree 1 gamma 200 C:  0.7222222222222222\n",
      "Accuracy on test dataset with poly kernel 4 degree 1 gamma 300 C:  0.7222222222222222\n",
      "Accuracy on test dataset with poly kernel 4 degree 1 gamma 1000 C:  0.75\n",
      "Accuracy on test dataset with poly kernel 4 degree 10 gamma 1 C:  0.7222222222222222\n",
      "Accuracy on test dataset with poly kernel 4 degree 10 gamma 10 C:  0.6666666666666666\n",
      "Accuracy on test dataset with poly kernel 4 degree 10 gamma 100 C:  0.7222222222222222\n",
      "Accuracy on test dataset with poly kernel 4 degree 10 gamma 200 C:  0.7222222222222222\n",
      "Accuracy on test dataset with poly kernel 4 degree 10 gamma 300 C:  0.7222222222222222\n",
      "Accuracy on test dataset with poly kernel 4 degree 10 gamma 1000 C:  0.7222222222222222\n",
      "Accuracy on test dataset with poly kernel 4 degree 100 gamma 1 C:  0.6944444444444444\n",
      "Accuracy on test dataset with poly kernel 4 degree 100 gamma 10 C:  0.6944444444444444\n",
      "Accuracy on test dataset with poly kernel 4 degree 100 gamma 100 C:  0.6944444444444444\n",
      "Accuracy on test dataset with poly kernel 4 degree 100 gamma 200 C:  0.6944444444444444\n",
      "Accuracy on test dataset with poly kernel 4 degree 100 gamma 300 C:  0.6944444444444444\n",
      "Accuracy on test dataset with poly kernel 4 degree 100 gamma 1000 C:  0.6944444444444444\n",
      "Accuracy on test dataset with rbf kernel 2 degree 0.001 gamma 1 C:  0.6388888888888888\n",
      "Accuracy on test dataset with rbf kernel 2 degree 0.001 gamma 10 C:  0.6388888888888888\n",
      "Accuracy on test dataset with rbf kernel 2 degree 0.001 gamma 100 C:  0.5\n",
      "Accuracy on test dataset with rbf kernel 2 degree 0.001 gamma 200 C:  0.4722222222222222\n",
      "Accuracy on test dataset with rbf kernel 2 degree 0.001 gamma 300 C:  0.4722222222222222\n",
      "Accuracy on test dataset with rbf kernel 2 degree 0.001 gamma 1000 C:  0.5555555555555556\n",
      "Accuracy on test dataset with rbf kernel 2 degree 0.01 gamma 1 C:  0.6388888888888888\n",
      "Accuracy on test dataset with rbf kernel 2 degree 0.01 gamma 10 C:  0.5\n",
      "Accuracy on test dataset with rbf kernel 2 degree 0.01 gamma 100 C:  0.5555555555555556\n",
      "Accuracy on test dataset with rbf kernel 2 degree 0.01 gamma 200 C:  0.5555555555555556\n",
      "Accuracy on test dataset with rbf kernel 2 degree 0.01 gamma 300 C:  0.7222222222222222\n",
      "Accuracy on test dataset with rbf kernel 2 degree 0.01 gamma 1000 C:  0.75\n",
      "Accuracy on test dataset with rbf kernel 2 degree 0.1 gamma 1 C:  0.6388888888888888\n",
      "Accuracy on test dataset with rbf kernel 2 degree 0.1 gamma 10 C:  0.7777777777777778\n",
      "Accuracy on test dataset with rbf kernel 2 degree 0.1 gamma 100 C:  0.8055555555555556\n",
      "Accuracy on test dataset with rbf kernel 2 degree 0.1 gamma 200 C:  0.8055555555555556\n",
      "Accuracy on test dataset with rbf kernel 2 degree 0.1 gamma 300 C:  0.8055555555555556\n",
      "Accuracy on test dataset with rbf kernel 2 degree 0.1 gamma 1000 C:  0.8055555555555556\n",
      "Accuracy on test dataset with rbf kernel 2 degree 1 gamma 1 C:  0.7777777777777778\n",
      "Accuracy on test dataset with rbf kernel 2 degree 1 gamma 10 C:  0.75\n",
      "Accuracy on test dataset with rbf kernel 2 degree 1 gamma 100 C:  0.7222222222222222\n",
      "Accuracy on test dataset with rbf kernel 2 degree 1 gamma 200 C:  0.7222222222222222\n",
      "Accuracy on test dataset with rbf kernel 2 degree 1 gamma 300 C:  0.7222222222222222\n",
      "Accuracy on test dataset with rbf kernel 2 degree 1 gamma 1000 C:  0.6944444444444444\n",
      "Accuracy on test dataset with rbf kernel 2 degree 10 gamma 1 C:  0.8055555555555556\n",
      "Accuracy on test dataset with rbf kernel 2 degree 10 gamma 10 C:  0.8055555555555556\n",
      "Accuracy on test dataset with rbf kernel 2 degree 10 gamma 100 C:  0.8055555555555556\n",
      "Accuracy on test dataset with rbf kernel 2 degree 10 gamma 200 C:  0.8055555555555556\n",
      "Accuracy on test dataset with rbf kernel 2 degree 10 gamma 300 C:  0.8055555555555556\n",
      "Accuracy on test dataset with rbf kernel 2 degree 10 gamma 1000 C:  0.6944444444444444\n",
      "Accuracy on test dataset with rbf kernel 2 degree 100 gamma 1 C:  0.8333333333333334\n",
      "Accuracy on test dataset with rbf kernel 2 degree 100 gamma 10 C:  0.75\n",
      "Accuracy on test dataset with rbf kernel 2 degree 100 gamma 100 C:  0.7222222222222222\n",
      "Accuracy on test dataset with rbf kernel 2 degree 100 gamma 200 C:  0.75\n",
      "Accuracy on test dataset with rbf kernel 2 degree 100 gamma 300 C:  0.75\n",
      "Accuracy on test dataset with rbf kernel 2 degree 100 gamma 1000 C:  0.75\n",
      "Accuracy on test dataset with rbf kernel 3 degree 0.001 gamma 1 C:  0.6388888888888888\n",
      "Accuracy on test dataset with rbf kernel 3 degree 0.001 gamma 10 C:  0.6388888888888888\n",
      "Accuracy on test dataset with rbf kernel 3 degree 0.001 gamma 100 C:  0.5\n",
      "Accuracy on test dataset with rbf kernel 3 degree 0.001 gamma 200 C:  0.4722222222222222\n",
      "Accuracy on test dataset with rbf kernel 3 degree 0.001 gamma 300 C:  0.4722222222222222\n",
      "Accuracy on test dataset with rbf kernel 3 degree 0.001 gamma 1000 C:  0.5555555555555556\n",
      "Accuracy on test dataset with rbf kernel 3 degree 0.01 gamma 1 C:  0.6388888888888888\n",
      "Accuracy on test dataset with rbf kernel 3 degree 0.01 gamma 10 C:  0.5\n",
      "Accuracy on test dataset with rbf kernel 3 degree 0.01 gamma 100 C:  0.5555555555555556\n",
      "Accuracy on test dataset with rbf kernel 3 degree 0.01 gamma 200 C:  0.5555555555555556\n",
      "Accuracy on test dataset with rbf kernel 3 degree 0.01 gamma 300 C:  0.7222222222222222\n",
      "Accuracy on test dataset with rbf kernel 3 degree 0.01 gamma 1000 C:  0.75\n",
      "Accuracy on test dataset with rbf kernel 3 degree 0.1 gamma 1 C:  0.6388888888888888\n",
      "Accuracy on test dataset with rbf kernel 3 degree 0.1 gamma 10 C:  0.7777777777777778\n",
      "Accuracy on test dataset with rbf kernel 3 degree 0.1 gamma 100 C:  0.8055555555555556\n",
      "Accuracy on test dataset with rbf kernel 3 degree 0.1 gamma 200 C:  0.8055555555555556\n",
      "Accuracy on test dataset with rbf kernel 3 degree 0.1 gamma 300 C:  0.8055555555555556\n",
      "Accuracy on test dataset with rbf kernel 3 degree 0.1 gamma 1000 C:  0.8055555555555556\n",
      "Accuracy on test dataset with rbf kernel 3 degree 1 gamma 1 C:  0.7777777777777778\n",
      "Accuracy on test dataset with rbf kernel 3 degree 1 gamma 10 C:  0.75\n",
      "Accuracy on test dataset with rbf kernel 3 degree 1 gamma 100 C:  0.7222222222222222\n",
      "Accuracy on test dataset with rbf kernel 3 degree 1 gamma 200 C:  0.7222222222222222\n",
      "Accuracy on test dataset with rbf kernel 3 degree 1 gamma 300 C:  0.7222222222222222\n",
      "Accuracy on test dataset with rbf kernel 3 degree 1 gamma 1000 C:  0.6944444444444444\n",
      "Accuracy on test dataset with rbf kernel 3 degree 10 gamma 1 C:  0.8055555555555556\n",
      "Accuracy on test dataset with rbf kernel 3 degree 10 gamma 10 C:  0.8055555555555556\n",
      "Accuracy on test dataset with rbf kernel 3 degree 10 gamma 100 C:  0.8055555555555556\n",
      "Accuracy on test dataset with rbf kernel 3 degree 10 gamma 200 C:  0.8055555555555556\n",
      "Accuracy on test dataset with rbf kernel 3 degree 10 gamma 300 C:  0.8055555555555556\n",
      "Accuracy on test dataset with rbf kernel 3 degree 10 gamma 1000 C:  0.6944444444444444\n",
      "Accuracy on test dataset with rbf kernel 3 degree 100 gamma 1 C:  0.8333333333333334\n",
      "Accuracy on test dataset with rbf kernel 3 degree 100 gamma 10 C:  0.75\n",
      "Accuracy on test dataset with rbf kernel 3 degree 100 gamma 100 C:  0.7222222222222222\n",
      "Accuracy on test dataset with rbf kernel 3 degree 100 gamma 200 C:  0.75\n",
      "Accuracy on test dataset with rbf kernel 3 degree 100 gamma 300 C:  0.75\n",
      "Accuracy on test dataset with rbf kernel 3 degree 100 gamma 1000 C:  0.75\n",
      "Accuracy on test dataset with rbf kernel 4 degree 0.001 gamma 1 C:  0.6388888888888888\n",
      "Accuracy on test dataset with rbf kernel 4 degree 0.001 gamma 10 C:  0.6388888888888888\n",
      "Accuracy on test dataset with rbf kernel 4 degree 0.001 gamma 100 C:  0.5\n",
      "Accuracy on test dataset with rbf kernel 4 degree 0.001 gamma 200 C:  0.4722222222222222\n",
      "Accuracy on test dataset with rbf kernel 4 degree 0.001 gamma 300 C:  0.4722222222222222\n",
      "Accuracy on test dataset with rbf kernel 4 degree 0.001 gamma 1000 C:  0.5555555555555556\n",
      "Accuracy on test dataset with rbf kernel 4 degree 0.01 gamma 1 C:  0.6388888888888888\n",
      "Accuracy on test dataset with rbf kernel 4 degree 0.01 gamma 10 C:  0.5\n",
      "Accuracy on test dataset with rbf kernel 4 degree 0.01 gamma 100 C:  0.5555555555555556\n",
      "Accuracy on test dataset with rbf kernel 4 degree 0.01 gamma 200 C:  0.5555555555555556\n",
      "Accuracy on test dataset with rbf kernel 4 degree 0.01 gamma 300 C:  0.7222222222222222\n",
      "Accuracy on test dataset with rbf kernel 4 degree 0.01 gamma 1000 C:  0.75\n",
      "Accuracy on test dataset with rbf kernel 4 degree 0.1 gamma 1 C:  0.6388888888888888\n",
      "Accuracy on test dataset with rbf kernel 4 degree 0.1 gamma 10 C:  0.7777777777777778\n",
      "Accuracy on test dataset with rbf kernel 4 degree 0.1 gamma 100 C:  0.8055555555555556\n",
      "Accuracy on test dataset with rbf kernel 4 degree 0.1 gamma 200 C:  0.8055555555555556\n",
      "Accuracy on test dataset with rbf kernel 4 degree 0.1 gamma 300 C:  0.8055555555555556\n",
      "Accuracy on test dataset with rbf kernel 4 degree 0.1 gamma 1000 C:  0.8055555555555556\n",
      "Accuracy on test dataset with rbf kernel 4 degree 1 gamma 1 C:  0.7777777777777778\n",
      "Accuracy on test dataset with rbf kernel 4 degree 1 gamma 10 C:  0.75\n",
      "Accuracy on test dataset with rbf kernel 4 degree 1 gamma 100 C:  0.7222222222222222\n",
      "Accuracy on test dataset with rbf kernel 4 degree 1 gamma 200 C:  0.7222222222222222\n"
     ]
    },
    {
     "name": "stdout",
     "output_type": "stream",
     "text": [
      "Accuracy on test dataset with rbf kernel 4 degree 1 gamma 300 C:  0.7222222222222222\n",
      "Accuracy on test dataset with rbf kernel 4 degree 1 gamma 1000 C:  0.6944444444444444\n",
      "Accuracy on test dataset with rbf kernel 4 degree 10 gamma 1 C:  0.8055555555555556\n",
      "Accuracy on test dataset with rbf kernel 4 degree 10 gamma 10 C:  0.8055555555555556\n",
      "Accuracy on test dataset with rbf kernel 4 degree 10 gamma 100 C:  0.8055555555555556\n",
      "Accuracy on test dataset with rbf kernel 4 degree 10 gamma 200 C:  0.8055555555555556\n",
      "Accuracy on test dataset with rbf kernel 4 degree 10 gamma 300 C:  0.8055555555555556\n",
      "Accuracy on test dataset with rbf kernel 4 degree 10 gamma 1000 C:  0.6944444444444444\n",
      "Accuracy on test dataset with rbf kernel 4 degree 100 gamma 1 C:  0.8333333333333334\n",
      "Accuracy on test dataset with rbf kernel 4 degree 100 gamma 10 C:  0.75\n",
      "Accuracy on test dataset with rbf kernel 4 degree 100 gamma 100 C:  0.7222222222222222\n",
      "Accuracy on test dataset with rbf kernel 4 degree 100 gamma 200 C:  0.75\n",
      "Accuracy on test dataset with rbf kernel 4 degree 100 gamma 300 C:  0.75\n",
      "Accuracy on test dataset with rbf kernel 4 degree 100 gamma 1000 C:  0.75\n",
      "Accuracy on test dataset with sigmoid kernel 2 degree 0.001 gamma 1 C:  0.6388888888888888\n",
      "Accuracy on test dataset with sigmoid kernel 2 degree 0.001 gamma 10 C:  0.6388888888888888\n",
      "Accuracy on test dataset with sigmoid kernel 2 degree 0.001 gamma 100 C:  0.6666666666666666\n",
      "Accuracy on test dataset with sigmoid kernel 2 degree 0.001 gamma 200 C:  0.5\n",
      "Accuracy on test dataset with sigmoid kernel 2 degree 0.001 gamma 300 C:  0.4722222222222222\n",
      "Accuracy on test dataset with sigmoid kernel 2 degree 0.001 gamma 1000 C:  0.5\n",
      "Accuracy on test dataset with sigmoid kernel 2 degree 0.01 gamma 1 C:  0.6388888888888888\n",
      "Accuracy on test dataset with sigmoid kernel 2 degree 0.01 gamma 10 C:  0.6666666666666666\n",
      "Accuracy on test dataset with sigmoid kernel 2 degree 0.01 gamma 100 C:  0.5\n",
      "Accuracy on test dataset with sigmoid kernel 2 degree 0.01 gamma 200 C:  0.5277777777777778\n",
      "Accuracy on test dataset with sigmoid kernel 2 degree 0.01 gamma 300 C:  0.5833333333333334\n",
      "Accuracy on test dataset with sigmoid kernel 2 degree 0.01 gamma 1000 C:  0.5833333333333334\n",
      "Accuracy on test dataset with sigmoid kernel 2 degree 0.1 gamma 1 C:  0.6111111111111112\n",
      "Accuracy on test dataset with sigmoid kernel 2 degree 0.1 gamma 10 C:  0.5277777777777778\n",
      "Accuracy on test dataset with sigmoid kernel 2 degree 0.1 gamma 100 C:  0.5833333333333334\n",
      "Accuracy on test dataset with sigmoid kernel 2 degree 0.1 gamma 200 C:  0.5833333333333334\n",
      "Accuracy on test dataset with sigmoid kernel 2 degree 0.1 gamma 300 C:  0.5833333333333334\n",
      "Accuracy on test dataset with sigmoid kernel 2 degree 0.1 gamma 1000 C:  0.5833333333333334\n",
      "Accuracy on test dataset with sigmoid kernel 2 degree 1 gamma 1 C:  0.7777777777777778\n",
      "Accuracy on test dataset with sigmoid kernel 2 degree 1 gamma 10 C:  0.3888888888888889\n",
      "Accuracy on test dataset with sigmoid kernel 2 degree 1 gamma 100 C:  0.3888888888888889\n",
      "Accuracy on test dataset with sigmoid kernel 2 degree 1 gamma 200 C:  0.3888888888888889\n",
      "Accuracy on test dataset with sigmoid kernel 2 degree 1 gamma 300 C:  0.3888888888888889\n",
      "Accuracy on test dataset with sigmoid kernel 2 degree 1 gamma 1000 C:  0.3888888888888889\n",
      "Accuracy on test dataset with sigmoid kernel 2 degree 10 gamma 1 C:  0.8055555555555556\n",
      "Accuracy on test dataset with sigmoid kernel 2 degree 10 gamma 10 C:  0.8055555555555556\n",
      "Accuracy on test dataset with sigmoid kernel 2 degree 10 gamma 100 C:  0.8055555555555556\n",
      "Accuracy on test dataset with sigmoid kernel 2 degree 10 gamma 200 C:  0.8055555555555556\n",
      "Accuracy on test dataset with sigmoid kernel 2 degree 10 gamma 300 C:  0.8055555555555556\n",
      "Accuracy on test dataset with sigmoid kernel 2 degree 10 gamma 1000 C:  0.8055555555555556\n",
      "Accuracy on test dataset with sigmoid kernel 2 degree 100 gamma 1 C:  0.16666666666666666\n",
      "Accuracy on test dataset with sigmoid kernel 2 degree 100 gamma 10 C:  0.16666666666666666\n",
      "Accuracy on test dataset with sigmoid kernel 2 degree 100 gamma 100 C:  0.16666666666666666\n",
      "Accuracy on test dataset with sigmoid kernel 2 degree 100 gamma 200 C:  0.16666666666666666\n",
      "Accuracy on test dataset with sigmoid kernel 2 degree 100 gamma 300 C:  0.16666666666666666\n",
      "Accuracy on test dataset with sigmoid kernel 2 degree 100 gamma 1000 C:  0.16666666666666666\n",
      "Accuracy on test dataset with sigmoid kernel 3 degree 0.001 gamma 1 C:  0.6388888888888888\n",
      "Accuracy on test dataset with sigmoid kernel 3 degree 0.001 gamma 10 C:  0.6388888888888888\n",
      "Accuracy on test dataset with sigmoid kernel 3 degree 0.001 gamma 100 C:  0.6666666666666666\n",
      "Accuracy on test dataset with sigmoid kernel 3 degree 0.001 gamma 200 C:  0.5\n",
      "Accuracy on test dataset with sigmoid kernel 3 degree 0.001 gamma 300 C:  0.4722222222222222\n",
      "Accuracy on test dataset with sigmoid kernel 3 degree 0.001 gamma 1000 C:  0.5\n",
      "Accuracy on test dataset with sigmoid kernel 3 degree 0.01 gamma 1 C:  0.6388888888888888\n",
      "Accuracy on test dataset with sigmoid kernel 3 degree 0.01 gamma 10 C:  0.6666666666666666\n",
      "Accuracy on test dataset with sigmoid kernel 3 degree 0.01 gamma 100 C:  0.5\n",
      "Accuracy on test dataset with sigmoid kernel 3 degree 0.01 gamma 200 C:  0.5277777777777778\n",
      "Accuracy on test dataset with sigmoid kernel 3 degree 0.01 gamma 300 C:  0.5833333333333334\n",
      "Accuracy on test dataset with sigmoid kernel 3 degree 0.01 gamma 1000 C:  0.5833333333333334\n",
      "Accuracy on test dataset with sigmoid kernel 3 degree 0.1 gamma 1 C:  0.6111111111111112\n",
      "Accuracy on test dataset with sigmoid kernel 3 degree 0.1 gamma 10 C:  0.5277777777777778\n",
      "Accuracy on test dataset with sigmoid kernel 3 degree 0.1 gamma 100 C:  0.5833333333333334\n",
      "Accuracy on test dataset with sigmoid kernel 3 degree 0.1 gamma 200 C:  0.5833333333333334\n",
      "Accuracy on test dataset with sigmoid kernel 3 degree 0.1 gamma 300 C:  0.5833333333333334\n",
      "Accuracy on test dataset with sigmoid kernel 3 degree 0.1 gamma 1000 C:  0.5833333333333334\n",
      "Accuracy on test dataset with sigmoid kernel 3 degree 1 gamma 1 C:  0.7777777777777778\n",
      "Accuracy on test dataset with sigmoid kernel 3 degree 1 gamma 10 C:  0.3888888888888889\n",
      "Accuracy on test dataset with sigmoid kernel 3 degree 1 gamma 100 C:  0.3888888888888889\n",
      "Accuracy on test dataset with sigmoid kernel 3 degree 1 gamma 200 C:  0.3888888888888889\n",
      "Accuracy on test dataset with sigmoid kernel 3 degree 1 gamma 300 C:  0.3888888888888889\n",
      "Accuracy on test dataset with sigmoid kernel 3 degree 1 gamma 1000 C:  0.3888888888888889\n",
      "Accuracy on test dataset with sigmoid kernel 3 degree 10 gamma 1 C:  0.8055555555555556\n",
      "Accuracy on test dataset with sigmoid kernel 3 degree 10 gamma 10 C:  0.8055555555555556\n",
      "Accuracy on test dataset with sigmoid kernel 3 degree 10 gamma 100 C:  0.8055555555555556\n",
      "Accuracy on test dataset with sigmoid kernel 3 degree 10 gamma 200 C:  0.8055555555555556\n",
      "Accuracy on test dataset with sigmoid kernel 3 degree 10 gamma 300 C:  0.8055555555555556\n",
      "Accuracy on test dataset with sigmoid kernel 3 degree 10 gamma 1000 C:  0.8055555555555556\n",
      "Accuracy on test dataset with sigmoid kernel 3 degree 100 gamma 1 C:  0.16666666666666666\n",
      "Accuracy on test dataset with sigmoid kernel 3 degree 100 gamma 10 C:  0.16666666666666666\n",
      "Accuracy on test dataset with sigmoid kernel 3 degree 100 gamma 100 C:  0.16666666666666666\n",
      "Accuracy on test dataset with sigmoid kernel 3 degree 100 gamma 200 C:  0.16666666666666666\n",
      "Accuracy on test dataset with sigmoid kernel 3 degree 100 gamma 300 C:  0.16666666666666666\n",
      "Accuracy on test dataset with sigmoid kernel 3 degree 100 gamma 1000 C:  0.16666666666666666\n",
      "Accuracy on test dataset with sigmoid kernel 4 degree 0.001 gamma 1 C:  0.6388888888888888\n",
      "Accuracy on test dataset with sigmoid kernel 4 degree 0.001 gamma 10 C:  0.6388888888888888\n",
      "Accuracy on test dataset with sigmoid kernel 4 degree 0.001 gamma 100 C:  0.6666666666666666\n",
      "Accuracy on test dataset with sigmoid kernel 4 degree 0.001 gamma 200 C:  0.5\n",
      "Accuracy on test dataset with sigmoid kernel 4 degree 0.001 gamma 300 C:  0.4722222222222222\n",
      "Accuracy on test dataset with sigmoid kernel 4 degree 0.001 gamma 1000 C:  0.5\n",
      "Accuracy on test dataset with sigmoid kernel 4 degree 0.01 gamma 1 C:  0.6388888888888888\n",
      "Accuracy on test dataset with sigmoid kernel 4 degree 0.01 gamma 10 C:  0.6666666666666666\n",
      "Accuracy on test dataset with sigmoid kernel 4 degree 0.01 gamma 100 C:  0.5\n",
      "Accuracy on test dataset with sigmoid kernel 4 degree 0.01 gamma 200 C:  0.5277777777777778\n",
      "Accuracy on test dataset with sigmoid kernel 4 degree 0.01 gamma 300 C:  0.5833333333333334\n"
     ]
    },
    {
     "name": "stdout",
     "output_type": "stream",
     "text": [
      "Accuracy on test dataset with sigmoid kernel 4 degree 0.01 gamma 1000 C:  0.5833333333333334\n",
      "Accuracy on test dataset with sigmoid kernel 4 degree 0.1 gamma 1 C:  0.6111111111111112\n",
      "Accuracy on test dataset with sigmoid kernel 4 degree 0.1 gamma 10 C:  0.5277777777777778\n",
      "Accuracy on test dataset with sigmoid kernel 4 degree 0.1 gamma 100 C:  0.5833333333333334\n",
      "Accuracy on test dataset with sigmoid kernel 4 degree 0.1 gamma 200 C:  0.5833333333333334\n",
      "Accuracy on test dataset with sigmoid kernel 4 degree 0.1 gamma 300 C:  0.5833333333333334\n",
      "Accuracy on test dataset with sigmoid kernel 4 degree 0.1 gamma 1000 C:  0.5833333333333334\n",
      "Accuracy on test dataset with sigmoid kernel 4 degree 1 gamma 1 C:  0.7777777777777778\n",
      "Accuracy on test dataset with sigmoid kernel 4 degree 1 gamma 10 C:  0.3888888888888889\n",
      "Accuracy on test dataset with sigmoid kernel 4 degree 1 gamma 100 C:  0.3888888888888889\n",
      "Accuracy on test dataset with sigmoid kernel 4 degree 1 gamma 200 C:  0.3888888888888889\n",
      "Accuracy on test dataset with sigmoid kernel 4 degree 1 gamma 300 C:  0.3888888888888889\n",
      "Accuracy on test dataset with sigmoid kernel 4 degree 1 gamma 1000 C:  0.3888888888888889\n",
      "Accuracy on test dataset with sigmoid kernel 4 degree 10 gamma 1 C:  0.8055555555555556\n",
      "Accuracy on test dataset with sigmoid kernel 4 degree 10 gamma 10 C:  0.8055555555555556\n",
      "Accuracy on test dataset with sigmoid kernel 4 degree 10 gamma 100 C:  0.8055555555555556\n",
      "Accuracy on test dataset with sigmoid kernel 4 degree 10 gamma 200 C:  0.8055555555555556\n",
      "Accuracy on test dataset with sigmoid kernel 4 degree 10 gamma 300 C:  0.8055555555555556\n",
      "Accuracy on test dataset with sigmoid kernel 4 degree 10 gamma 1000 C:  0.8055555555555556\n",
      "Accuracy on test dataset with sigmoid kernel 4 degree 100 gamma 1 C:  0.16666666666666666\n",
      "Accuracy on test dataset with sigmoid kernel 4 degree 100 gamma 10 C:  0.16666666666666666\n",
      "Accuracy on test dataset with sigmoid kernel 4 degree 100 gamma 100 C:  0.16666666666666666\n",
      "Accuracy on test dataset with sigmoid kernel 4 degree 100 gamma 200 C:  0.16666666666666666\n",
      "Accuracy on test dataset with sigmoid kernel 4 degree 100 gamma 300 C:  0.16666666666666666\n",
      "Accuracy on test dataset with sigmoid kernel 4 degree 100 gamma 1000 C:  0.16666666666666666\n"
     ]
    }
   ],
   "source": [
    "# trying to fit the model with different hyperparameters to achieve the highest accuracy\n",
    "accuracy_history = []\n",
    "for i in kernel:\n",
    "    for j in degree:\n",
    "        for k in gammas:\n",
    "            for l in C:\n",
    "                clf = SVC(kernel = i,C=l, degree = j, gamma=k,random_state=0)\n",
    "                clf.fit(X_train_smote,y_train_smote)\n",
    "                pred = clf.predict(X_test)\n",
    "                accuracy = accuracy_score(pred,y_test)\n",
    "                print(\"Accuracy on test dataset with\",i,\"kernel\",j,\"degree\",k,\"gamma\",l,\"C: \", accuracy)\n",
    "                accuracy_history.append(accuracy)"
   ]
  },
  {
   "cell_type": "markdown",
   "metadata": {
    "colab_type": "text",
    "id": "kUq3SLXhWCZA"
   },
   "source": [
    "Following hyperparameters are doing the best, concluded from above history"
   ]
  },
  {
   "cell_type": "code",
   "execution_count": 86,
   "metadata": {
    "colab": {
     "base_uri": "https://localhost:8080/",
     "height": 34
    },
    "colab_type": "code",
    "id": "QoEKQvJFWCZA",
    "outputId": "74305e20-0285-4745-e6d5-d43f33ab6903"
   },
   "outputs": [
    {
     "name": "stdout",
     "output_type": "stream",
     "text": [
      "Accuracy on test dataset :  0.75\n",
      "\n",
      "ROC curve value is:  0.6055555555555555\n",
      "Confusion matrix, without normalization\n",
      "[[22  8]\n",
      " [ 4  2]]\n"
     ]
    },
    {
     "data": {
      "image/png": "[encoded data removed]",
      "text/plain": [
       "<Figure size 720x720 with 2 Axes>"
      ]
     },
     "metadata": {
      "needs_background": "light"
     },
     "output_type": "display_data"
    }
   ],
   "source": [
    "# X_train, X_test, y_train, y_test = train_test_split(df5, target_labels, test_size=0.30, random_state=20, shuffle=True)\n",
    "\n",
    "# # doing oversampling on train data\n",
    "# X_train_smote , y_train_smote = smote.fit_sample(X_train.astype(\"int\"), y_train.astype(\"int\"))\n",
    "# print(\"Before Smote: \", Counter(y_train))\n",
    "# print(\"After Smote: \", Counter(y_train_smote))\n",
    "\n",
    "\n",
    "# # Normalising train and test data\n",
    "\n",
    "# # min_max_scaler = preprocessing.MinMaxScaler()\n",
    "# # X_train_scaled = min_max_scaler.fit_transform(X_train_smote)\n",
    "# # X_test_scaled = min_max_scaler.fit_transform(X_test)\n",
    "# X_train_scaled = X_train_smote\n",
    "# X_test_scaled = X_test\n",
    "\n",
    "\n",
    "clf = SVC(kernel = \"poly\", degree = 2, gamma = 10, C = 200,random_state=0, probability=True)\n",
    "clf.fit(X_train_smote, y_train_smote)\n",
    "pred = clf.predict(X_test)\n",
    "accuracy = accuracy_score(pred,y_test)\n",
    "print(\"Accuracy on test dataset : \", accuracy)\n",
    "\n",
    "\n",
    "# Probabilities for each class\n",
    "rf_probs = model.predict_proba(X_test)[:, 1]\n",
    "\n",
    "# Calculate roc auc\n",
    "roc_value = roc_auc_score(y_test, rf_probs)\n",
    "print()\n",
    "print(\"ROC curve value is: \", roc_value)\n",
    "\n",
    "# Plotting confusion matrix\n",
    "\n",
    "def plot_confusion_matrix(cm, classes,\n",
    "                          normalize=False,\n",
    "                          title='Confusion matrix',\n",
    "                          cmap=plt.cm.Oranges):\n",
    "    \"\"\"\n",
    "    This function prints and plots the confusion matrix.\n",
    "    Normalization can be applied by setting `normalize=True`.\n",
    "    Source: http://scikit-learn.org/stable/auto_examples/model_selection/plot_confusion_matrix.html\n",
    "    \"\"\"\n",
    "    if normalize:\n",
    "        cm = cm.astype('float') / cm.sum(axis=1)[:, np.newaxis]\n",
    "        print(\"Normalized confusion matrix\")\n",
    "    else:\n",
    "        print('Confusion matrix, without normalization')\n",
    "\n",
    "    print(cm)\n",
    "\n",
    "    # Plot the confusion matrix\n",
    "    plt.figure(figsize = (10, 10))\n",
    "    plt.imshow(cm, interpolation='nearest', cmap=cmap)\n",
    "    plt.title(title, size = 24)\n",
    "    plt.colorbar(aspect=4)\n",
    "    tick_marks = np.arange(len(classes))\n",
    "    plt.xticks(tick_marks, classes, rotation=45, size = 14)\n",
    "    plt.yticks(tick_marks, classes, size = 14)\n",
    "\n",
    "    fmt = '.2f' if normalize else 'd'\n",
    "    thresh = cm.max() / 2.\n",
    "    \n",
    "    # Labeling the plot\n",
    "    for i, j in itertools.product(range(cm.shape[0]), range(cm.shape[1])):\n",
    "        plt.text(j, i, format(cm[i, j], fmt), fontsize = 20,\n",
    "                 horizontalalignment=\"center\",\n",
    "                 color=\"white\" if cm[i, j] > thresh else \"black\")\n",
    "        \n",
    "    plt.grid(None)\n",
    "    plt.tight_layout()\n",
    "    plt.ylabel('True label', size = 18)\n",
    "    plt.xlabel('Predicted label', size = 18)\n",
    "\n",
    "# Confusion matrix\n",
    "cm = confusion_matrix(y_test, y_pred)\n",
    "plot_confusion_matrix(cm, classes = ['Covid', 'Not Covid'],\n",
    "                      title = 'Health Confusion Matrix')\n",
    "\n",
    "plt.savefig('text-cmat2.png')\n",
    "\n",
    "import pickle\n",
    "\n",
    "filename = 'test.sav'\n",
    "pickle.dump(clf, open(filename, 'wb'))"
   ]
  },
  {
   "cell_type": "code",
   "execution_count": 87,
   "metadata": {
    "colab": {
     "base_uri": "https://localhost:8080/",
     "height": 34
    },
    "colab_type": "code",
    "id": "4I0QGKaEWCZE",
    "outputId": "934261a9-7167-4189-8384-9372696703ee"
   },
   "outputs": [
    {
     "name": "stdout",
     "output_type": "stream",
     "text": [
      "Accuracy on test dataset :  0.7222222222222222\n"
     ]
    }
   ],
   "source": [
    "clf = SVC(kernel = \"poly\", degree = 4, gamma = 1, C = 100,random_state =0)\n",
    "clf.fit(X_train_smote,y_train_smote)\n",
    "pred = clf.predict(X_test)\n",
    "accuracy = accuracy_score(pred,y_test)\n",
    "print(\"Accuracy on test dataset : \", accuracy)"
   ]
  },
  {
   "cell_type": "code",
   "execution_count": 88,
   "metadata": {
    "colab": {
     "base_uri": "https://localhost:8080/",
     "height": 34
    },
    "colab_type": "code",
    "id": "plZmH6ubWCZH",
    "outputId": "7e752b5f-938f-4b4a-bae9-8b423e8316dd"
   },
   "outputs": [
    {
     "name": "stdout",
     "output_type": "stream",
     "text": [
      "Accuracy on test dataset :  0.7222222222222222\n"
     ]
    }
   ],
   "source": [
    "clf = SVC(kernel = \"poly\", degree = 2, gamma = 1, C = 1,random_state = 0)\n",
    "clf.fit(X_train_smote,y_train_smote)\n",
    "pred = clf.predict(X_test)\n",
    "accuracy = accuracy_score(pred,y_test)\n",
    "print(\"Accuracy on test dataset : \", accuracy)"
   ]
  },
  {
   "cell_type": "code",
   "execution_count": 89,
   "metadata": {
    "colab": {
     "base_uri": "https://localhost:8080/",
     "height": 34
    },
    "colab_type": "code",
    "id": "3Kb_5IlsWCZJ",
    "outputId": "1f0f7c31-4787-44da-e425-cea9af69e28f"
   },
   "outputs": [
    {
     "name": "stdout",
     "output_type": "stream",
     "text": [
      "Accuracy on test dataset :  0.8055555555555556\n"
     ]
    }
   ],
   "source": [
    "clf = SVC(kernel = \"poly\", degree = 2, gamma = 0.1, C = 200,random_state = 0)\n",
    "clf.fit(X_train_smote,y_train_smote)\n",
    "pred = clf.predict(X_test)\n",
    "accuracy = accuracy_score(pred,y_test)\n",
    "print(\"Accuracy on test dataset : \", accuracy)"
   ]
  },
  {
   "cell_type": "markdown",
   "metadata": {
    "colab_type": "text",
    "id": "5cJR-946WCZL"
   },
   "source": [
    "# DecisionTreeClassifier"
   ]
  },
  {
   "cell_type": "code",
   "execution_count": 61,
   "metadata": {
    "colab": {},
    "colab_type": "code",
    "id": "u1T8vG0yWCZL"
   },
   "outputs": [],
   "source": [
    "from sklearn import tree"
   ]
  },
  {
   "cell_type": "code",
   "execution_count": 62,
   "metadata": {
    "colab": {
     "base_uri": "https://localhost:8080/",
     "height": 34
    },
    "colab_type": "code",
    "id": "kLWXmuoEWCZN",
    "outputId": "b1602b11-6ca1-436f-c672-1d7f3389ad39"
   },
   "outputs": [
    {
     "name": "stdout",
     "output_type": "stream",
     "text": [
      "Accuracy on test dataset :  0.75\n"
     ]
    }
   ],
   "source": [
    "clf = tree.DecisionTreeClassifier(min_samples_split = 5,random_state = 0)\n",
    "clf.fit(X_train_smote,y_train_smote)\n",
    "pred = clf.predict(X_test)\n",
    "accuracy = accuracy_score(pred,y_test)\n",
    "print(\"Accuracy on test dataset : \", accuracy)"
   ]
  },
  {
   "cell_type": "code",
   "execution_count": 63,
   "metadata": {
    "colab": {},
    "colab_type": "code",
    "id": "rlcBkNx_WCZP"
   },
   "outputs": [],
   "source": [
    "# Build Models \n",
    "\n",
    "# Random Forest\n",
    "# TODO"
   ]
  },
  {
   "cell_type": "markdown",
   "metadata": {},
   "source": [
    "# Loaded the best Model (SVM)"
   ]
  },
  {
   "cell_type": "code",
   "execution_count": 73,
   "metadata": {},
   "outputs": [
    {
     "name": "stdout",
     "output_type": "stream",
     "text": [
      "Accuracy on test dataset :  0.8333333333333334\n"
     ]
    }
   ],
   "source": [
    "# TODO\n",
    "import pickle\n",
    "\n",
    "filename = \"test.sav\"\n",
    "# load the model from disk\n",
    "loaded_model = pickle.load(open(filename, 'rb'))\n",
    "# result = loaded_model.score(X_test_scaled, y_test)\n",
    "pred = loaded_model.predict(X_test)\n",
    "accuracy = accuracy_score(pred,y_test)\n",
    "print(\"Accuracy on test dataset : \", accuracy)\n"
   ]
  },
  {
   "cell_type": "code",
   "execution_count": 72,
   "metadata": {},
   "outputs": [
    {
     "ename": "NameError",
     "evalue": "name 'X_test_scaled' is not defined",
     "output_type": "error",
     "traceback": [
      "\u001b[0;31m---------------------------------------------------------------------------\u001b[0m",
      "\u001b[0;31mNameError\u001b[0m                                 Traceback (most recent call last)",
      "\u001b[0;32m<ipython-input-72-015030bf3468>\u001b[0m in \u001b[0;36m<module>\u001b[0;34m\u001b[0m\n\u001b[0;32m----> 1\u001b[0;31m \u001b[0mX_test_scaled\u001b[0m\u001b[0;34m[\u001b[0m\u001b[0;36m0\u001b[0m\u001b[0;34m]\u001b[0m\u001b[0;34m.\u001b[0m\u001b[0mshape\u001b[0m\u001b[0;34m\u001b[0m\u001b[0;34m\u001b[0m\u001b[0m\n\u001b[0m\u001b[1;32m      2\u001b[0m \u001b[0mhh\u001b[0m \u001b[0;34m=\u001b[0m \u001b[0mX_test_scaled\u001b[0m\u001b[0;34m[\u001b[0m\u001b[0;36m0\u001b[0m\u001b[0;34m]\u001b[0m\u001b[0;34m[\u001b[0m\u001b[0mnp\u001b[0m\u001b[0;34m.\u001b[0m\u001b[0mnewaxis\u001b[0m\u001b[0;34m,\u001b[0m \u001b[0;34m...\u001b[0m\u001b[0;34m]\u001b[0m\u001b[0;34m\u001b[0m\u001b[0;34m\u001b[0m\u001b[0m\n\u001b[1;32m      3\u001b[0m \u001b[0;34m\u001b[0m\u001b[0m\n\u001b[1;32m      4\u001b[0m \u001b[0mprint\u001b[0m\u001b[0;34m(\u001b[0m\u001b[0mhh\u001b[0m\u001b[0;34m.\u001b[0m\u001b[0mshape\u001b[0m\u001b[0;34m)\u001b[0m\u001b[0;34m\u001b[0m\u001b[0;34m\u001b[0m\u001b[0m\n\u001b[1;32m      5\u001b[0m \u001b[0;34m\u001b[0m\u001b[0m\n",
      "\u001b[0;31mNameError\u001b[0m: name 'X_test_scaled' is not defined"
     ]
    }
   ],
   "source": [
    "# X_test_scaled[0].shape\n",
    "# hh = X_test_scaled[0][np.newaxis, ...]\n",
    "\n",
    "# print(hh.shape)\n",
    "\n",
    "# probs = loaded_model.predict_proba(hh)"
   ]
  },
  {
   "cell_type": "code",
   "execution_count": null,
   "metadata": {},
   "outputs": [],
   "source": [
    "# X_test_scaled.shape"
   ]
  },
  {
   "cell_type": "code",
   "execution_count": null,
   "metadata": {},
   "outputs": [],
   "source": [
    "# ii = np.argmax(probs)\n",
    "\n",
    "# if ii == 0:\n",
    "#     print(\"Corona pos\")\n",
    "# else:\n",
    "#     print(\"corona neg\")"
   ]
  },
  {
   "cell_type": "code",
   "execution_count": null,
   "metadata": {},
   "outputs": [],
   "source": []
  },
  {
   "cell_type": "code",
   "execution_count": null,
   "metadata": {},
   "outputs": [],
   "source": []
  },
  {
   "cell_type": "code",
   "execution_count": null,
   "metadata": {},
   "outputs": [],
   "source": []
  },
  {
   "cell_type": "code",
   "execution_count": null,
   "metadata": {},
   "outputs": [],
   "source": []
  },
  {
   "cell_type": "markdown",
   "metadata": {},
   "source": [
    "# For saving the models u can either use pickel or u can use joblib"
   ]
  },
  {
   "cell_type": "code",
   "execution_count": null,
   "metadata": {},
   "outputs": [],
   "source": [
    "# Fit the model on training set\n",
    "model = LogisticRegression()\n",
    "model.fit(X_train, Y_train)\n",
    "# save the model to disk\n",
    "filename = 'finalized_model.sav'\n",
    "joblib.dump(model, filename)\n",
    " \n",
    "# some time later...\n",
    " \n",
    "# load the model from disk\n",
    "loaded_model = joblib.load(filename)\n",
    "result = loaded_model.score(X_test, y_test)\n",
    "print(result)"
   ]
  },
  {
   "cell_type": "code",
   "execution_count": null,
   "metadata": {},
   "outputs": [],
   "source": []
  },
  {
   "cell_type": "code",
   "execution_count": null,
   "metadata": {},
   "outputs": [],
   "source": [
    "import pandas as pd\n",
    "ddd = pd.read_csv('patient data all 119.csv')\n",
    "fff = ddd.drop(columns=[\"seq_id\", \"patient_id\", \"date\" , \"cough_filename\", \"finger_filename\",\n",
    "                                \"patient_smartphone\", \"breathing_filename\"])\n",
    "\n",
    "fff[\"medical_history\"].fillna(\"None,\", inplace = True) \n",
    "fff[\"smoker\"].fillna(\"no\", inplace = True) \n",
    "fff[\"patient_reported_symptoms\"].fillna(\"None,\", inplace = True) \n",
    "fff.head()"
   ]
  },
  {
   "cell_type": "code",
   "execution_count": null,
   "metadata": {},
   "outputs": [],
   "source": []
  },
  {
   "cell_type": "markdown",
   "metadata": {},
   "source": [
    "# Testing Text.py file"
   ]
  },
  {
   "cell_type": "code",
   "execution_count": 66,
   "metadata": {},
   "outputs": [
    {
     "data": {
      "text/html": [
       "<div>\n",
       "<style scoped>\n",
       "    .dataframe tbody tr th:only-of-type {\n",
       "        vertical-align: middle;\n",
       "    }\n",
       "\n",
       "    .dataframe tbody tr th {\n",
       "        vertical-align: top;\n",
       "    }\n",
       "\n",
       "    .dataframe thead th {\n",
       "        text-align: right;\n",
       "    }\n",
       "</style>\n",
       "<table border=\"1\" class=\"dataframe\">\n",
       "  <thead>\n",
       "    <tr style=\"text-align: right;\">\n",
       "      <th></th>\n",
       "      <th>seq_id</th>\n",
       "      <th>patient_id</th>\n",
       "      <th>date</th>\n",
       "      <th>corona_test</th>\n",
       "      <th>age</th>\n",
       "      <th>gender</th>\n",
       "      <th>medical_history</th>\n",
       "      <th>smoker</th>\n",
       "      <th>patient_reported_symptoms</th>\n",
       "      <th>cough_filename</th>\n",
       "      <th>breathing_filename</th>\n",
       "      <th>finger_filename</th>\n",
       "      <th>patient_smartphone</th>\n",
       "    </tr>\n",
       "  </thead>\n",
       "  <tbody>\n",
       "    <tr>\n",
       "      <th>0</th>\n",
       "      <td>NaN</td>\n",
       "      <td>NaN</td>\n",
       "      <td>NaN</td>\n",
       "      <td>positive</td>\n",
       "      <td>53</td>\n",
       "      <td>male</td>\n",
       "      <td>None,</td>\n",
       "      <td>no</td>\n",
       "      <td>Fever, chills, or sweating,Shortness of breath...</td>\n",
       "      <td>NaN</td>\n",
       "      <td>NaN</td>\n",
       "      <td>NaN</td>\n",
       "      <td>NaN</td>\n",
       "    </tr>\n",
       "  </tbody>\n",
       "</table>\n",
       "</div>"
      ],
      "text/plain": [
       "   seq_id  patient_id  date corona_test  age gender medical_history smoker  \\\n",
       "0     NaN         NaN   NaN    positive   53   male           None,     no   \n",
       "\n",
       "                           patient_reported_symptoms  cough_filename  \\\n",
       "0  Fever, chills, or sweating,Shortness of breath...             NaN   \n",
       "\n",
       "   breathing_filename  finger_filename  patient_smartphone  \n",
       "0                 NaN              NaN                 NaN  "
      ]
     },
     "execution_count": 66,
     "metadata": {},
     "output_type": "execute_result"
    }
   ],
   "source": [
    "data = {\"seq_id\": \"NaN\",\n",
    "        \"patient_id\": \"NaN\",\n",
    "        \"date\":\"NaN\",\n",
    "        \"corona_test\":\"positive\",\n",
    "        \"age\":53 ,\n",
    "        \"gender\": \"male\",\n",
    "        \"medical_history\":\"None,\",\n",
    "        \"smoker\": \"no\",\n",
    "        \"patient_reported_symptoms\":\"Fever, chills, or sweating,Shortness of breath,New or worsening cough,Sore throat,Loss of taste,Loss of smell,\" ,\n",
    "        \"cough_filename\": \"NaN\",\n",
    "        \"breathing_filename\":\"NaN\",\n",
    "        \"finger_filename\":\"NaN\",\n",
    "        \"patient_smartphone\":\"NaN\"}\n",
    "\n",
    "# df = pd.DataFrame.from_records(data,index=[0])\n",
    "df1 = pd.DataFrame(data,index=[0])\n",
    "df1 = df1.replace('NaN',np.NaN)\n",
    "\n",
    "# data, columns = ['seq_id', 'patient_id','date','corona_test','age','gender','medical_history','smoker','patient_reported_symptoms','cough_filename','breathing_filename','finger_filename','patient_smartphone']\n",
    "\n",
    "df1"
   ]
  },
  {
   "cell_type": "code",
   "execution_count": 70,
   "metadata": {},
   "outputs": [
    {
     "name": "stdout",
     "output_type": "stream",
     "text": [
      "Posiitve percentage is:  1.927424139711792 %age\n"
     ]
    }
   ],
   "source": [
    "import sys\n",
    "sys.path.append(\"/home/naufil/Desktop/corona/covid/text\")\n",
    "import text_api\n",
    "\n",
    "dd = text_api.predict(df1, \"textual_model83.sav\")\n",
    "print(\"Posiitve percentage is: \",dd, \"%age\")"
   ]
  },
  {
   "cell_type": "code",
   "execution_count": null,
   "metadata": {},
   "outputs": [],
   "source": [
    "# Apply Random forest classifier\n",
    "# Logistic regression\n",
    "# Discriminant Analysis\n",
    "# Regularization in feature space\n",
    "# Combine the features \n",
    "# dimensionality reduction\n",
    "# zhushen@stanford.edu "
   ]
  },
  {
   "cell_type": "code",
   "execution_count": null,
   "metadata": {},
   "outputs": [],
   "source": []
  }
 ],
 "metadata": {
  "colab": {
   "name": "text.ipynb",
   "provenance": []
  },
  "kernelspec": {
   "display_name": "Python 3",
   "language": "python",
   "name": "python3"
  },
  "language_info": {
   "codemirror_mode": {
    "name": "ipython",
    "version": 3
   },
   "file_extension": ".py",
   "mimetype": "text/x-python",
   "name": "python",
   "nbconvert_exporter": "python",
   "pygments_lexer": "ipython3",
   "version": "3.7.6"
  }
 },
 "nbformat": 4,
 "nbformat_minor": 1
}
